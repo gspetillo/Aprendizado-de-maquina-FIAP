{
 "cells": [
  {
   "cell_type": "markdown",
   "source": [
    "# NAC3 - Aprendizado de máquina\n",
    "\n",
    "Nesta nac vamos desenvolver um modelo preditivo do valor do carro.\n",
    "\n",
    "\n",
    "Dica: Siga todas as instruções, completando e construindo os algoritmos necessários.\n",
    "\n",
    "Nas celulas **Seu Código aqui...** significa que é necessário realizar a implementação de algum código. Utilize quantos blocos julgar necessário para criar o código.\n",
    "\n",
    "Nas celulas **Responda** significa que é nessário uma resposta clara e objetiva (pode ser por texto, gráfico, imagem...) para a pergunta.\n",
    "\n",
    "\n",
    "## Informações do grupo\n",
    "\n",
    "Este projeto poderá ser feito por grupos de `até 2 alunos`.\n",
    "\n",
    "| Nome dos Integrantes             | RM             | Turma   |\n",
    "| :------------------------------- | :------------- | :-----: |\n",
    "| Gabriel Siqueira Petillo         | RM 81238       |  4SIA   |\n",
    "| Jean Jacques Nascimento Barros   | RM 81524       |  4SIA   |\n",
    "\n",
    "\n",
    "## Data de entrega final\n",
    "\n",
    "Será considerado para avaliação e correção o ultimo commit do `**dia 16/09/2021**`\n",
    "\n",
    "Responda o `Google forms` :   [LINK FORMULARIO](https://forms.gle/2iivfbMVToXwe9Wc6).\n",
    "\n",
    "\n",
    "## Rubrica \n",
    "\n",
    "Os critérios de avaliação do projeto será conforme a rubrica.\n",
    "\n",
    "\n",
    "- R1: Exploração de Dados (Até 1 ponto)\n",
    "- R2: Preparação de Dados (Até 2 ponto)\n",
    "- R3: Desenvolvimento do Modelo (Até 2 ponto)\n",
    "- R4: Treinamento e Teste do Modelo (Até 1 ponto)\n",
    "- R5: Validação e Otimização do Modelo (Até 2 ponto)\n",
    "- R6: Conclusões Finais (Até 2 ponto)\n",
    "\n",
    "Nota_final = R1 + R2 + R3 + R4 + R5 + R6"
   ],
   "metadata": {}
  },
  {
   "cell_type": "markdown",
   "source": [
    "## 1. Exploração de Dados"
   ],
   "metadata": {}
  },
  {
   "cell_type": "markdown",
   "source": [
    "Os dados que serão utilizados extraídos do Kaggle deste [dataset](https://www.kaggle.com/nisargpatel/automobiles/data).\n",
    "\n",
    "Carregue o dataset \"Automobile.csv\" e faça uma inspeção nas 15 primeiras linhas para identificação básica dos atributos."
   ],
   "metadata": {}
  },
  {
   "cell_type": "code",
   "execution_count": 321,
   "source": [
    "import seaborn as sns\r\n",
    "import matplotlib.pyplot as plt\r\n",
    "import pandas as pd\r\n",
    "import numpy as np\r\n",
    "\r\n",
    "%matplotlib inline"
   ],
   "outputs": [],
   "metadata": {}
  },
  {
   "cell_type": "code",
   "execution_count": 322,
   "source": [
    "#Seu Código aqui....\r\n",
    "url_db= 'Automobile.csv'\r\n",
    "df = pd.read_csv(url_db, header=0)\r\n",
    "\r\n",
    "pd.set_option('display.max_columns', 75)\r\n",
    "df.head(15)"
   ],
   "outputs": [
    {
     "output_type": "execute_result",
     "data": {
      "text/html": [
       "<div>\n",
       "<style scoped>\n",
       "    .dataframe tbody tr th:only-of-type {\n",
       "        vertical-align: middle;\n",
       "    }\n",
       "\n",
       "    .dataframe tbody tr th {\n",
       "        vertical-align: top;\n",
       "    }\n",
       "\n",
       "    .dataframe thead th {\n",
       "        text-align: right;\n",
       "    }\n",
       "</style>\n",
       "<table border=\"1\" class=\"dataframe\">\n",
       "  <thead>\n",
       "    <tr style=\"text-align: right;\">\n",
       "      <th></th>\n",
       "      <th>symboling</th>\n",
       "      <th>normalized_losses</th>\n",
       "      <th>make</th>\n",
       "      <th>fuel_type</th>\n",
       "      <th>aspiration</th>\n",
       "      <th>number_of_doors</th>\n",
       "      <th>body_style</th>\n",
       "      <th>drive_wheels</th>\n",
       "      <th>engine_location</th>\n",
       "      <th>wheel_base</th>\n",
       "      <th>length</th>\n",
       "      <th>width</th>\n",
       "      <th>height</th>\n",
       "      <th>curb_weight</th>\n",
       "      <th>engine_type</th>\n",
       "      <th>number_of_cylinders</th>\n",
       "      <th>engine_size</th>\n",
       "      <th>fuel_system</th>\n",
       "      <th>bore</th>\n",
       "      <th>stroke</th>\n",
       "      <th>compression_ratio</th>\n",
       "      <th>horsepower</th>\n",
       "      <th>peak_rpm</th>\n",
       "      <th>city_mpg</th>\n",
       "      <th>highway_mpg</th>\n",
       "      <th>price</th>\n",
       "    </tr>\n",
       "  </thead>\n",
       "  <tbody>\n",
       "    <tr>\n",
       "      <th>0</th>\n",
       "      <td>3</td>\n",
       "      <td>168</td>\n",
       "      <td>alfa-romero</td>\n",
       "      <td>gas</td>\n",
       "      <td>std</td>\n",
       "      <td>two</td>\n",
       "      <td>convertible</td>\n",
       "      <td>rwd</td>\n",
       "      <td>front</td>\n",
       "      <td>88.6</td>\n",
       "      <td>168.8</td>\n",
       "      <td>64.1</td>\n",
       "      <td>48.8</td>\n",
       "      <td>2548</td>\n",
       "      <td>dohc</td>\n",
       "      <td>four</td>\n",
       "      <td>130</td>\n",
       "      <td>mpfi</td>\n",
       "      <td>3.47</td>\n",
       "      <td>2.68</td>\n",
       "      <td>9.0</td>\n",
       "      <td>111</td>\n",
       "      <td>5000</td>\n",
       "      <td>21</td>\n",
       "      <td>27</td>\n",
       "      <td>13495</td>\n",
       "    </tr>\n",
       "    <tr>\n",
       "      <th>1</th>\n",
       "      <td>3</td>\n",
       "      <td>168</td>\n",
       "      <td>alfa-romero</td>\n",
       "      <td>gas</td>\n",
       "      <td>std</td>\n",
       "      <td>two</td>\n",
       "      <td>convertible</td>\n",
       "      <td>rwd</td>\n",
       "      <td>front</td>\n",
       "      <td>88.6</td>\n",
       "      <td>168.8</td>\n",
       "      <td>64.1</td>\n",
       "      <td>48.8</td>\n",
       "      <td>2548</td>\n",
       "      <td>dohc</td>\n",
       "      <td>four</td>\n",
       "      <td>130</td>\n",
       "      <td>mpfi</td>\n",
       "      <td>3.47</td>\n",
       "      <td>2.68</td>\n",
       "      <td>9.0</td>\n",
       "      <td>111</td>\n",
       "      <td>5000</td>\n",
       "      <td>21</td>\n",
       "      <td>27</td>\n",
       "      <td>16500</td>\n",
       "    </tr>\n",
       "    <tr>\n",
       "      <th>2</th>\n",
       "      <td>1</td>\n",
       "      <td>168</td>\n",
       "      <td>alfa-romero</td>\n",
       "      <td>gas</td>\n",
       "      <td>std</td>\n",
       "      <td>two</td>\n",
       "      <td>hatchback</td>\n",
       "      <td>rwd</td>\n",
       "      <td>front</td>\n",
       "      <td>94.5</td>\n",
       "      <td>171.2</td>\n",
       "      <td>65.5</td>\n",
       "      <td>52.4</td>\n",
       "      <td>2823</td>\n",
       "      <td>ohcv</td>\n",
       "      <td>six</td>\n",
       "      <td>152</td>\n",
       "      <td>mpfi</td>\n",
       "      <td>2.68</td>\n",
       "      <td>3.47</td>\n",
       "      <td>9.0</td>\n",
       "      <td>154</td>\n",
       "      <td>5000</td>\n",
       "      <td>19</td>\n",
       "      <td>26</td>\n",
       "      <td>16500</td>\n",
       "    </tr>\n",
       "    <tr>\n",
       "      <th>3</th>\n",
       "      <td>2</td>\n",
       "      <td>164</td>\n",
       "      <td>audi</td>\n",
       "      <td>gas</td>\n",
       "      <td>std</td>\n",
       "      <td>four</td>\n",
       "      <td>sedan</td>\n",
       "      <td>fwd</td>\n",
       "      <td>front</td>\n",
       "      <td>99.8</td>\n",
       "      <td>176.6</td>\n",
       "      <td>66.2</td>\n",
       "      <td>54.3</td>\n",
       "      <td>2337</td>\n",
       "      <td>ohc</td>\n",
       "      <td>four</td>\n",
       "      <td>109</td>\n",
       "      <td>mpfi</td>\n",
       "      <td>3.19</td>\n",
       "      <td>3.40</td>\n",
       "      <td>10.0</td>\n",
       "      <td>102</td>\n",
       "      <td>5500</td>\n",
       "      <td>24</td>\n",
       "      <td>30</td>\n",
       "      <td>13950</td>\n",
       "    </tr>\n",
       "    <tr>\n",
       "      <th>4</th>\n",
       "      <td>2</td>\n",
       "      <td>164</td>\n",
       "      <td>audi</td>\n",
       "      <td>gas</td>\n",
       "      <td>std</td>\n",
       "      <td>four</td>\n",
       "      <td>sedan</td>\n",
       "      <td>4wd</td>\n",
       "      <td>front</td>\n",
       "      <td>99.4</td>\n",
       "      <td>176.6</td>\n",
       "      <td>66.4</td>\n",
       "      <td>54.3</td>\n",
       "      <td>2824</td>\n",
       "      <td>ohc</td>\n",
       "      <td>five</td>\n",
       "      <td>136</td>\n",
       "      <td>mpfi</td>\n",
       "      <td>3.19</td>\n",
       "      <td>3.40</td>\n",
       "      <td>8.0</td>\n",
       "      <td>115</td>\n",
       "      <td>5500</td>\n",
       "      <td>18</td>\n",
       "      <td>22</td>\n",
       "      <td>17450</td>\n",
       "    </tr>\n",
       "    <tr>\n",
       "      <th>5</th>\n",
       "      <td>2</td>\n",
       "      <td>161</td>\n",
       "      <td>audi</td>\n",
       "      <td>gas</td>\n",
       "      <td>std</td>\n",
       "      <td>two</td>\n",
       "      <td>sedan</td>\n",
       "      <td>fwd</td>\n",
       "      <td>front</td>\n",
       "      <td>99.8</td>\n",
       "      <td>177.3</td>\n",
       "      <td>66.3</td>\n",
       "      <td>53.1</td>\n",
       "      <td>2507</td>\n",
       "      <td>ohc</td>\n",
       "      <td>five</td>\n",
       "      <td>136</td>\n",
       "      <td>mpfi</td>\n",
       "      <td>3.19</td>\n",
       "      <td>3.40</td>\n",
       "      <td>8.5</td>\n",
       "      <td>110</td>\n",
       "      <td>5500</td>\n",
       "      <td>19</td>\n",
       "      <td>25</td>\n",
       "      <td>15250</td>\n",
       "    </tr>\n",
       "    <tr>\n",
       "      <th>6</th>\n",
       "      <td>1</td>\n",
       "      <td>158</td>\n",
       "      <td>audi</td>\n",
       "      <td>gas</td>\n",
       "      <td>std</td>\n",
       "      <td>four</td>\n",
       "      <td>sedan</td>\n",
       "      <td>fwd</td>\n",
       "      <td>front</td>\n",
       "      <td>105.8</td>\n",
       "      <td>192.7</td>\n",
       "      <td>71.4</td>\n",
       "      <td>55.7</td>\n",
       "      <td>2844</td>\n",
       "      <td>ohc</td>\n",
       "      <td>five</td>\n",
       "      <td>136</td>\n",
       "      <td>mpfi</td>\n",
       "      <td>3.19</td>\n",
       "      <td>3.40</td>\n",
       "      <td>8.5</td>\n",
       "      <td>110</td>\n",
       "      <td>5500</td>\n",
       "      <td>19</td>\n",
       "      <td>25</td>\n",
       "      <td>17710</td>\n",
       "    </tr>\n",
       "    <tr>\n",
       "      <th>7</th>\n",
       "      <td>1</td>\n",
       "      <td>168</td>\n",
       "      <td>audi</td>\n",
       "      <td>gas</td>\n",
       "      <td>std</td>\n",
       "      <td>four</td>\n",
       "      <td>wagon</td>\n",
       "      <td>fwd</td>\n",
       "      <td>front</td>\n",
       "      <td>105.8</td>\n",
       "      <td>192.7</td>\n",
       "      <td>71.4</td>\n",
       "      <td>55.7</td>\n",
       "      <td>2954</td>\n",
       "      <td>ohc</td>\n",
       "      <td>five</td>\n",
       "      <td>136</td>\n",
       "      <td>mpfi</td>\n",
       "      <td>3.19</td>\n",
       "      <td>3.40</td>\n",
       "      <td>8.5</td>\n",
       "      <td>110</td>\n",
       "      <td>5500</td>\n",
       "      <td>19</td>\n",
       "      <td>25</td>\n",
       "      <td>18920</td>\n",
       "    </tr>\n",
       "    <tr>\n",
       "      <th>8</th>\n",
       "      <td>1</td>\n",
       "      <td>158</td>\n",
       "      <td>audi</td>\n",
       "      <td>gas</td>\n",
       "      <td>turbo</td>\n",
       "      <td>four</td>\n",
       "      <td>sedan</td>\n",
       "      <td>fwd</td>\n",
       "      <td>front</td>\n",
       "      <td>105.8</td>\n",
       "      <td>192.7</td>\n",
       "      <td>71.4</td>\n",
       "      <td>55.9</td>\n",
       "      <td>3086</td>\n",
       "      <td>ohc</td>\n",
       "      <td>five</td>\n",
       "      <td>131</td>\n",
       "      <td>mpfi</td>\n",
       "      <td>3.13</td>\n",
       "      <td>3.40</td>\n",
       "      <td>8.3</td>\n",
       "      <td>140</td>\n",
       "      <td>5500</td>\n",
       "      <td>17</td>\n",
       "      <td>20</td>\n",
       "      <td>23875</td>\n",
       "    </tr>\n",
       "    <tr>\n",
       "      <th>9</th>\n",
       "      <td>2</td>\n",
       "      <td>192</td>\n",
       "      <td>bmw</td>\n",
       "      <td>gas</td>\n",
       "      <td>std</td>\n",
       "      <td>two</td>\n",
       "      <td>sedan</td>\n",
       "      <td>rwd</td>\n",
       "      <td>front</td>\n",
       "      <td>101.2</td>\n",
       "      <td>176.8</td>\n",
       "      <td>64.8</td>\n",
       "      <td>54.3</td>\n",
       "      <td>2395</td>\n",
       "      <td>ohc</td>\n",
       "      <td>four</td>\n",
       "      <td>108</td>\n",
       "      <td>mpfi</td>\n",
       "      <td>3.50</td>\n",
       "      <td>2.80</td>\n",
       "      <td>8.8</td>\n",
       "      <td>101</td>\n",
       "      <td>5800</td>\n",
       "      <td>23</td>\n",
       "      <td>29</td>\n",
       "      <td>16430</td>\n",
       "    </tr>\n",
       "    <tr>\n",
       "      <th>10</th>\n",
       "      <td>0</td>\n",
       "      <td>192</td>\n",
       "      <td>bmw</td>\n",
       "      <td>gas</td>\n",
       "      <td>std</td>\n",
       "      <td>four</td>\n",
       "      <td>sedan</td>\n",
       "      <td>rwd</td>\n",
       "      <td>front</td>\n",
       "      <td>101.2</td>\n",
       "      <td>176.8</td>\n",
       "      <td>64.8</td>\n",
       "      <td>54.3</td>\n",
       "      <td>2395</td>\n",
       "      <td>ohc</td>\n",
       "      <td>four</td>\n",
       "      <td>108</td>\n",
       "      <td>mpfi</td>\n",
       "      <td>3.50</td>\n",
       "      <td>2.80</td>\n",
       "      <td>8.8</td>\n",
       "      <td>101</td>\n",
       "      <td>5800</td>\n",
       "      <td>23</td>\n",
       "      <td>29</td>\n",
       "      <td>16925</td>\n",
       "    </tr>\n",
       "    <tr>\n",
       "      <th>11</th>\n",
       "      <td>0</td>\n",
       "      <td>188</td>\n",
       "      <td>bmw</td>\n",
       "      <td>gas</td>\n",
       "      <td>std</td>\n",
       "      <td>two</td>\n",
       "      <td>sedan</td>\n",
       "      <td>rwd</td>\n",
       "      <td>front</td>\n",
       "      <td>101.2</td>\n",
       "      <td>176.8</td>\n",
       "      <td>64.8</td>\n",
       "      <td>54.3</td>\n",
       "      <td>2710</td>\n",
       "      <td>ohc</td>\n",
       "      <td>six</td>\n",
       "      <td>164</td>\n",
       "      <td>mpfi</td>\n",
       "      <td>3.31</td>\n",
       "      <td>3.19</td>\n",
       "      <td>9.0</td>\n",
       "      <td>121</td>\n",
       "      <td>4250</td>\n",
       "      <td>21</td>\n",
       "      <td>28</td>\n",
       "      <td>20970</td>\n",
       "    </tr>\n",
       "    <tr>\n",
       "      <th>12</th>\n",
       "      <td>0</td>\n",
       "      <td>188</td>\n",
       "      <td>bmw</td>\n",
       "      <td>gas</td>\n",
       "      <td>std</td>\n",
       "      <td>four</td>\n",
       "      <td>sedan</td>\n",
       "      <td>rwd</td>\n",
       "      <td>front</td>\n",
       "      <td>101.2</td>\n",
       "      <td>176.8</td>\n",
       "      <td>64.8</td>\n",
       "      <td>54.3</td>\n",
       "      <td>2765</td>\n",
       "      <td>ohc</td>\n",
       "      <td>six</td>\n",
       "      <td>164</td>\n",
       "      <td>mpfi</td>\n",
       "      <td>3.31</td>\n",
       "      <td>3.19</td>\n",
       "      <td>9.0</td>\n",
       "      <td>121</td>\n",
       "      <td>4250</td>\n",
       "      <td>21</td>\n",
       "      <td>28</td>\n",
       "      <td>21105</td>\n",
       "    </tr>\n",
       "    <tr>\n",
       "      <th>13</th>\n",
       "      <td>1</td>\n",
       "      <td>149</td>\n",
       "      <td>bmw</td>\n",
       "      <td>gas</td>\n",
       "      <td>std</td>\n",
       "      <td>four</td>\n",
       "      <td>sedan</td>\n",
       "      <td>rwd</td>\n",
       "      <td>front</td>\n",
       "      <td>103.5</td>\n",
       "      <td>189.0</td>\n",
       "      <td>66.9</td>\n",
       "      <td>55.7</td>\n",
       "      <td>3055</td>\n",
       "      <td>ohc</td>\n",
       "      <td>six</td>\n",
       "      <td>164</td>\n",
       "      <td>mpfi</td>\n",
       "      <td>3.31</td>\n",
       "      <td>3.19</td>\n",
       "      <td>9.0</td>\n",
       "      <td>121</td>\n",
       "      <td>4250</td>\n",
       "      <td>20</td>\n",
       "      <td>25</td>\n",
       "      <td>24565</td>\n",
       "    </tr>\n",
       "    <tr>\n",
       "      <th>14</th>\n",
       "      <td>0</td>\n",
       "      <td>149</td>\n",
       "      <td>bmw</td>\n",
       "      <td>gas</td>\n",
       "      <td>std</td>\n",
       "      <td>four</td>\n",
       "      <td>sedan</td>\n",
       "      <td>rwd</td>\n",
       "      <td>front</td>\n",
       "      <td>103.5</td>\n",
       "      <td>189.0</td>\n",
       "      <td>66.9</td>\n",
       "      <td>55.7</td>\n",
       "      <td>3230</td>\n",
       "      <td>ohc</td>\n",
       "      <td>six</td>\n",
       "      <td>209</td>\n",
       "      <td>mpfi</td>\n",
       "      <td>3.62</td>\n",
       "      <td>3.39</td>\n",
       "      <td>8.0</td>\n",
       "      <td>182</td>\n",
       "      <td>5400</td>\n",
       "      <td>16</td>\n",
       "      <td>22</td>\n",
       "      <td>30760</td>\n",
       "    </tr>\n",
       "  </tbody>\n",
       "</table>\n",
       "</div>"
      ],
      "text/plain": [
       "    symboling  normalized_losses         make fuel_type aspiration  \\\n",
       "0           3                168  alfa-romero       gas        std   \n",
       "1           3                168  alfa-romero       gas        std   \n",
       "2           1                168  alfa-romero       gas        std   \n",
       "3           2                164         audi       gas        std   \n",
       "4           2                164         audi       gas        std   \n",
       "5           2                161         audi       gas        std   \n",
       "6           1                158         audi       gas        std   \n",
       "7           1                168         audi       gas        std   \n",
       "8           1                158         audi       gas      turbo   \n",
       "9           2                192          bmw       gas        std   \n",
       "10          0                192          bmw       gas        std   \n",
       "11          0                188          bmw       gas        std   \n",
       "12          0                188          bmw       gas        std   \n",
       "13          1                149          bmw       gas        std   \n",
       "14          0                149          bmw       gas        std   \n",
       "\n",
       "   number_of_doors   body_style drive_wheels engine_location  wheel_base  \\\n",
       "0              two  convertible          rwd           front        88.6   \n",
       "1              two  convertible          rwd           front        88.6   \n",
       "2              two    hatchback          rwd           front        94.5   \n",
       "3             four        sedan          fwd           front        99.8   \n",
       "4             four        sedan          4wd           front        99.4   \n",
       "5              two        sedan          fwd           front        99.8   \n",
       "6             four        sedan          fwd           front       105.8   \n",
       "7             four        wagon          fwd           front       105.8   \n",
       "8             four        sedan          fwd           front       105.8   \n",
       "9              two        sedan          rwd           front       101.2   \n",
       "10            four        sedan          rwd           front       101.2   \n",
       "11             two        sedan          rwd           front       101.2   \n",
       "12            four        sedan          rwd           front       101.2   \n",
       "13            four        sedan          rwd           front       103.5   \n",
       "14            four        sedan          rwd           front       103.5   \n",
       "\n",
       "    length  width  height  curb_weight engine_type number_of_cylinders  \\\n",
       "0    168.8   64.1    48.8         2548        dohc                four   \n",
       "1    168.8   64.1    48.8         2548        dohc                four   \n",
       "2    171.2   65.5    52.4         2823        ohcv                 six   \n",
       "3    176.6   66.2    54.3         2337         ohc                four   \n",
       "4    176.6   66.4    54.3         2824         ohc                five   \n",
       "5    177.3   66.3    53.1         2507         ohc                five   \n",
       "6    192.7   71.4    55.7         2844         ohc                five   \n",
       "7    192.7   71.4    55.7         2954         ohc                five   \n",
       "8    192.7   71.4    55.9         3086         ohc                five   \n",
       "9    176.8   64.8    54.3         2395         ohc                four   \n",
       "10   176.8   64.8    54.3         2395         ohc                four   \n",
       "11   176.8   64.8    54.3         2710         ohc                 six   \n",
       "12   176.8   64.8    54.3         2765         ohc                 six   \n",
       "13   189.0   66.9    55.7         3055         ohc                 six   \n",
       "14   189.0   66.9    55.7         3230         ohc                 six   \n",
       "\n",
       "    engine_size fuel_system  bore  stroke  compression_ratio  horsepower  \\\n",
       "0           130        mpfi  3.47    2.68                9.0         111   \n",
       "1           130        mpfi  3.47    2.68                9.0         111   \n",
       "2           152        mpfi  2.68    3.47                9.0         154   \n",
       "3           109        mpfi  3.19    3.40               10.0         102   \n",
       "4           136        mpfi  3.19    3.40                8.0         115   \n",
       "5           136        mpfi  3.19    3.40                8.5         110   \n",
       "6           136        mpfi  3.19    3.40                8.5         110   \n",
       "7           136        mpfi  3.19    3.40                8.5         110   \n",
       "8           131        mpfi  3.13    3.40                8.3         140   \n",
       "9           108        mpfi  3.50    2.80                8.8         101   \n",
       "10          108        mpfi  3.50    2.80                8.8         101   \n",
       "11          164        mpfi  3.31    3.19                9.0         121   \n",
       "12          164        mpfi  3.31    3.19                9.0         121   \n",
       "13          164        mpfi  3.31    3.19                9.0         121   \n",
       "14          209        mpfi  3.62    3.39                8.0         182   \n",
       "\n",
       "    peak_rpm  city_mpg  highway_mpg  price  \n",
       "0       5000        21           27  13495  \n",
       "1       5000        21           27  16500  \n",
       "2       5000        19           26  16500  \n",
       "3       5500        24           30  13950  \n",
       "4       5500        18           22  17450  \n",
       "5       5500        19           25  15250  \n",
       "6       5500        19           25  17710  \n",
       "7       5500        19           25  18920  \n",
       "8       5500        17           20  23875  \n",
       "9       5800        23           29  16430  \n",
       "10      5800        23           29  16925  \n",
       "11      4250        21           28  20970  \n",
       "12      4250        21           28  21105  \n",
       "13      4250        20           25  24565  \n",
       "14      5400        16           22  30760  "
      ]
     },
     "metadata": {},
     "execution_count": 322
    }
   ],
   "metadata": {}
  },
  {
   "cell_type": "markdown",
   "source": [
    "**Pergunta:** Apresente uma relação das coluna e seu significado:\n",
    "\n",
    "Exemplo: \n",
    "\n",
    "- make: fabricante\n",
    "- fuel_type: tipo de combustível\n",
    "- price: preço (**Variável Alvo, atributo que será predito pelo modelo de ML**)"
   ],
   "metadata": {}
  },
  {
   "cell_type": "markdown",
   "source": [
    "**Responda**\n",
    "\n",
    "- **symboling**: grau de risco de seguro\n",
    "- **normalized_losses**: média de depreciação do veículo ao ano\n",
    "- **make**: marca fabricante\n",
    "- **fuel_type**: tipo de combustível\n",
    "- **aspiration**: forma de mistura ar-combustível\n",
    "- **number_of_doors**: quantidade de portas\n",
    "- **body_style**: tipo de carroceria\n",
    "- **drive_wheels**: tipo de tração\n",
    "- **engine_location**: posição do motor\n",
    "- **wheel_base**: distância entre os eixos\n",
    "- **length**: comprimento do veículo\n",
    "- **width**: largura do veículo\n",
    "- **height**: peso do veículo\n",
    "- **curb_weight**: peso padrão do veículo (sem carga)\n",
    "- **engine_type**: tipo de motor\n",
    "- **number_of_cylinders**: quantidade de cilindros\n",
    "- **engine_size**: tamanho do motor\n",
    "- **fuel_system**: sistema de injeção de combustível\n",
    "- **bore**: diâmetro do cilindro do motor\n",
    "- **stroke**: distância de movimento do pistão em um ciclo\n",
    "- **compression_ratio**: razão entre o volume do cilindro e a câmara de combustão\n",
    "- **horsepower**: cavalos de potência (HP)\n",
    "- **peak_rpm** ápice de rotações por minuto (RPM) do motor,\n",
    "- **city_mpg**: rendimento de milhas por galão de combustível em ambiente urbano\n",
    "- **highway_mpg**: rendimento de milhas por galão de combustível em rodovias\n",
    "- **price**: preço do veículo ao consumidor\n",
    "\n",
    "\n",
    "\n",
    "\n"
   ],
   "metadata": {}
  },
  {
   "cell_type": "markdown",
   "source": [
    "### Análise profunda dos dados\n",
    "\n",
    "Faça uma análise exploratória dos dados. Utilize-se de gráficos e tabelas auxiliares, faça correlações entre os atributos e levante algumas suposições. "
   ],
   "metadata": {}
  },
  {
   "cell_type": "code",
   "execution_count": 323,
   "source": [
    "# Relação entre o tipo de combustível e o preço\r\n",
    "sns.boxplot(x='fuel_type', y='price', data=df)\r\n",
    "plt.show()"
   ],
   "outputs": [
    {
     "output_type": "display_data",
     "data": {
      "image/png": "[encoded data removed]",
      "text/plain": [
       "<Figure size 432x288 with 1 Axes>"
      ]
     },
     "metadata": {
      "needs_background": "light"
     }
    }
   ],
   "metadata": {}
  },
  {
   "cell_type": "code",
   "execution_count": 324,
   "source": [
    "x = df['horsepower']\r\n",
    "y = df['price']\r\n",
    "\r\n",
    "plt.scatter(x, y)\r\n",
    "\r\n",
    "sns.regplot(x='horsepower', y='price', data=df)\r\n",
    "plt.title('1. Horsepower vs Price')\r\n",
    "plt.ylim(0)\r\n",
    "plt.show()"
   ],
   "outputs": [
    {
     "output_type": "display_data",
     "data": {
      "image/png": "[encoded data removed]",
      "text/plain": [
       "<Figure size 432x288 with 1 Axes>"
      ]
     },
     "metadata": {
      "needs_background": "light"
     }
    }
   ],
   "metadata": {}
  },
  {
   "cell_type": "code",
   "execution_count": 325,
   "source": [
    "sns.heatmap(df.corr(), annot=False)\r\n",
    "plt.title('2. Correlation Heatmap')\r\n",
    "plt.show()"
   ],
   "outputs": [
    {
     "output_type": "display_data",
     "data": {
      "image/png": "[encoded data removed]",
      "text/plain": [
       "<Figure size 432x288 with 2 Axes>"
      ]
     },
     "metadata": {
      "needs_background": "light"
     }
    }
   ],
   "metadata": {}
  },
  {
   "cell_type": "code",
   "execution_count": 326,
   "source": [
    "g = sns.lmplot(\r\n",
    "    data=df,\r\n",
    "    x='horsepower', y='price', hue='number_of_doors',\r\n",
    "    height=5\r\n",
    ")\r\n",
    "\r\n",
    "g.set(xlabel='horsepower', ylabel='price', title='3. Horsepower vs Price by Number of Doors')"
   ],
   "outputs": [
    {
     "output_type": "execute_result",
     "data": {
      "text/plain": [
       "<seaborn.axisgrid.FacetGrid at 0x1a39b4fc9e8>"
      ]
     },
     "metadata": {},
     "execution_count": 326
    },
    {
     "output_type": "display_data",
     "data": {
      "image/png": "[encoded data removed]",
      "text/plain": [
       "<Figure size 454.25x360 with 1 Axes>"
      ]
     },
     "metadata": {
      "needs_background": "light"
     }
    }
   ],
   "metadata": {}
  },
  {
   "cell_type": "code",
   "execution_count": 327,
   "source": [
    "g = sns.lmplot(\r\n",
    "    data=df,\r\n",
    "    x='horsepower', y='price', hue='drive_wheels',\r\n",
    "    height=5\r\n",
    ")\r\n",
    "\r\n",
    "g.set(xlabel='horsepower', ylabel='price', title='4. Horsepower vs Price by Drive Wheels')"
   ],
   "outputs": [
    {
     "output_type": "execute_result",
     "data": {
      "text/plain": [
       "<seaborn.axisgrid.FacetGrid at 0x1a39b008160>"
      ]
     },
     "metadata": {},
     "execution_count": 327
    },
    {
     "output_type": "display_data",
     "data": {
      "image/png": "[encoded data removed]",
      "text/plain": [
       "<Figure size 433.25x360 with 1 Axes>"
      ]
     },
     "metadata": {
      "needs_background": "light"
     }
    }
   ],
   "metadata": {}
  },
  {
   "cell_type": "code",
   "execution_count": 328,
   "source": [
    "sns.regplot(x='horsepower', y='city_mpg', data=df)\r\n",
    "plt.title('5. Horsepower vs City MPG')\r\n",
    "plt.ylim(0)\r\n",
    "plt.show()"
   ],
   "outputs": [
    {
     "output_type": "display_data",
     "data": {
      "image/png": "[encoded data removed]",
      "text/plain": [
       "<Figure size 432x288 with 1 Axes>"
      ]
     },
     "metadata": {
      "needs_background": "light"
     }
    }
   ],
   "metadata": {}
  },
  {
   "cell_type": "markdown",
   "source": [
    "**Pergunta:** Cite um exemplo de pelo menos os 3 cenários propostos que corroboram a leitura dos dados apresentados, justique sua resposta."
   ],
   "metadata": {}
  },
  {
   "cell_type": "markdown",
   "source": [
    "## 📝Resposta\n",
    "\n",
    "### 1. Horsepower vs Price\n",
    "- O preço médio dos veículos a diesel tende a ser maior que o preço médio dos veículos a gasolina. Porém, os veículos de maior valor são majoritariamente a gasolina.\n",
    "\n",
    "### 2. Correlation Heatmap\n",
    "- Existe uma forte correlação entre o comprimento e a largura dos veículos, já que em geral seguem a mesma proporção.\n",
    "\n",
    "### 3. Horsepower vs Price by Number of Doors\n",
    "- A quantidade de portas não impacta diretamente no preço.\n",
    "\n",
    "### 4. Horsepower vs Price by Drive Wheels\n",
    "- Carros que tem maior preço e potência são em sua maioria de tração traseira\n",
    "\n",
    "### 5. Horsepower vs City MPG\n",
    "- O rendimento de um veículo em milhas por galão em ambiente urbano é inversamente proporcional a sua potência, ou seja, um veículo mais potente tem um rendimento menor. Essa afirmação também se aplica no rendimento de veículos em rodovias."
   ],
   "metadata": {}
  },
  {
   "cell_type": "markdown",
   "source": [
    "## 2. Preparação dos Dados"
   ],
   "metadata": {}
  },
  {
   "cell_type": "markdown",
   "source": [
    "### Análise de valores inválidos\n",
    "\n",
    "Faça a análise de dados ausente, dados nulos e dados iguais a 0(zero). **Lembre-se:** Trate esses dados dentro do contexto de análise e justifique suas escolhas.\n",
    " "
   ],
   "metadata": {}
  },
  {
   "cell_type": "markdown",
   "source": [
    "**Resposta:**"
   ],
   "metadata": {}
  },
  {
   "cell_type": "code",
   "execution_count": 329,
   "source": [
    "df.info()"
   ],
   "outputs": [
    {
     "output_type": "stream",
     "name": "stdout",
     "text": [
      "<class 'pandas.core.frame.DataFrame'>\n",
      "RangeIndex: 201 entries, 0 to 200\n",
      "Data columns (total 26 columns):\n",
      " #   Column               Non-Null Count  Dtype  \n",
      "---  ------               --------------  -----  \n",
      " 0   symboling            201 non-null    int64  \n",
      " 1   normalized_losses    201 non-null    int64  \n",
      " 2   make                 201 non-null    object \n",
      " 3   fuel_type            201 non-null    object \n",
      " 4   aspiration           201 non-null    object \n",
      " 5   number_of_doors      201 non-null    object \n",
      " 6   body_style           201 non-null    object \n",
      " 7   drive_wheels         201 non-null    object \n",
      " 8   engine_location      201 non-null    object \n",
      " 9   wheel_base           201 non-null    float64\n",
      " 10  length               201 non-null    float64\n",
      " 11  width                201 non-null    float64\n",
      " 12  height               201 non-null    float64\n",
      " 13  curb_weight          201 non-null    int64  \n",
      " 14  engine_type          201 non-null    object \n",
      " 15  number_of_cylinders  201 non-null    object \n",
      " 16  engine_size          201 non-null    int64  \n",
      " 17  fuel_system          201 non-null    object \n",
      " 18  bore                 201 non-null    float64\n",
      " 19  stroke               201 non-null    float64\n",
      " 20  compression_ratio    201 non-null    float64\n",
      " 21  horsepower           201 non-null    int64  \n",
      " 22  peak_rpm             201 non-null    int64  \n",
      " 23  city_mpg             201 non-null    int64  \n",
      " 24  highway_mpg          201 non-null    int64  \n",
      " 25  price                201 non-null    int64  \n",
      "dtypes: float64(7), int64(9), object(10)\n",
      "memory usage: 41.0+ KB\n"
     ]
    }
   ],
   "metadata": {}
  },
  {
   "cell_type": "code",
   "execution_count": 330,
   "source": [
    "# Faz a soma de todos os valores nulos\r\n",
    "df.isnull().sum()"
   ],
   "outputs": [
    {
     "output_type": "execute_result",
     "data": {
      "text/plain": [
       "symboling              0\n",
       "normalized_losses      0\n",
       "make                   0\n",
       "fuel_type              0\n",
       "aspiration             0\n",
       "number_of_doors        0\n",
       "body_style             0\n",
       "drive_wheels           0\n",
       "engine_location        0\n",
       "wheel_base             0\n",
       "length                 0\n",
       "width                  0\n",
       "height                 0\n",
       "curb_weight            0\n",
       "engine_type            0\n",
       "number_of_cylinders    0\n",
       "engine_size            0\n",
       "fuel_system            0\n",
       "bore                   0\n",
       "stroke                 0\n",
       "compression_ratio      0\n",
       "horsepower             0\n",
       "peak_rpm               0\n",
       "city_mpg               0\n",
       "highway_mpg            0\n",
       "price                  0\n",
       "dtype: int64"
      ]
     },
     "metadata": {},
     "execution_count": 330
    }
   ],
   "metadata": {}
  },
  {
   "cell_type": "markdown",
   "source": [
    "## 📝Resposta\n",
    "- Não há valores nulos ou ausentes em nenhum dos atributos. A coluna symboling apresenta valores \"0\" (zero) pois seu intervalo intervalo varia de -3 a 3, expressando o grau de risco de seguro do veículo, o que é um dado válido."
   ],
   "metadata": {}
  },
  {
   "cell_type": "markdown",
   "source": [
    "### __(BONUS: 1 ponto extra.)__ Análise de Outliers\n",
    "\n",
    "Realize a análise e o tratamento de **outliers**, como referência para estudo:\n",
    "\n",
    "* [link1](https://machinelearningmastery.com/model-based-outlier-detection-and-removal-in-python/)\n",
    "* [link2](https://towardsdatascience.com/4-machine-learning-techniques-for-outlier-detection-in-python-21e9cfacb81d)\n",
    "* [link3](https://minerandodados.com.br/tratando-outliers-python/)\n",
    "\n",
    "## 📝Resposta"
   ],
   "metadata": {}
  },
  {
   "cell_type": "code",
   "execution_count": 331,
   "source": [
    "import numpy as np\r\n",
    "import seaborn as sns\r\n",
    "import matplotlib.pyplot as plt\r\n",
    "from sklearn.datasets import load_iris\r\n",
    "from sklearn.ensemble import IsolationForest\r\n",
    "from sklearn.decomposition import PCA\r\n",
    "from sklearn.preprocessing import StandardScaler\r\n",
    "\r\n",
    "df_numeric_columns = df[[\r\n",
    "    'symboling', \r\n",
    "    'normalized_losses',\r\n",
    "    'wheel_base',\r\n",
    "    'length',\r\n",
    "    'width',\r\n",
    "    'height',\r\n",
    "    'curb_weight',\r\n",
    "    'engine_size',\r\n",
    "    'bore',\r\n",
    "    'stroke',\r\n",
    "    'compression_ratio',\r\n",
    "    'horsepower',\r\n",
    "    'peak_rpm',\r\n",
    "    'city_mpg',\r\n",
    "    'highway_mpg']]\r\n",
    "\r\n",
    "df_price = df['price']\r\n",
    "\r\n",
    "iforest = IsolationForest(n_estimators=100, max_samples='auto', \r\n",
    "                          contamination=0.05, max_features=1.0, \r\n",
    "                          bootstrap=False, n_jobs=100, random_state=1)\r\n",
    "\r\n",
    "pred = iforest.fit_predict(df_numeric_columns)\r\n",
    "\r\n",
    "outlier_index = pred != -1\r\n",
    "df_without_outliers = df[outlier_index]\r\n",
    "df_without_outliers"
   ],
   "outputs": [
    {
     "output_type": "execute_result",
     "data": {
      "text/html": [
       "<div>\n",
       "<style scoped>\n",
       "    .dataframe tbody tr th:only-of-type {\n",
       "        vertical-align: middle;\n",
       "    }\n",
       "\n",
       "    .dataframe tbody tr th {\n",
       "        vertical-align: top;\n",
       "    }\n",
       "\n",
       "    .dataframe thead th {\n",
       "        text-align: right;\n",
       "    }\n",
       "</style>\n",
       "<table border=\"1\" class=\"dataframe\">\n",
       "  <thead>\n",
       "    <tr style=\"text-align: right;\">\n",
       "      <th></th>\n",
       "      <th>symboling</th>\n",
       "      <th>normalized_losses</th>\n",
       "      <th>make</th>\n",
       "      <th>fuel_type</th>\n",
       "      <th>aspiration</th>\n",
       "      <th>number_of_doors</th>\n",
       "      <th>body_style</th>\n",
       "      <th>drive_wheels</th>\n",
       "      <th>engine_location</th>\n",
       "      <th>wheel_base</th>\n",
       "      <th>length</th>\n",
       "      <th>width</th>\n",
       "      <th>height</th>\n",
       "      <th>curb_weight</th>\n",
       "      <th>engine_type</th>\n",
       "      <th>number_of_cylinders</th>\n",
       "      <th>engine_size</th>\n",
       "      <th>fuel_system</th>\n",
       "      <th>bore</th>\n",
       "      <th>stroke</th>\n",
       "      <th>compression_ratio</th>\n",
       "      <th>horsepower</th>\n",
       "      <th>peak_rpm</th>\n",
       "      <th>city_mpg</th>\n",
       "      <th>highway_mpg</th>\n",
       "      <th>price</th>\n",
       "    </tr>\n",
       "  </thead>\n",
       "  <tbody>\n",
       "    <tr>\n",
       "      <th>0</th>\n",
       "      <td>3</td>\n",
       "      <td>168</td>\n",
       "      <td>alfa-romero</td>\n",
       "      <td>gas</td>\n",
       "      <td>std</td>\n",
       "      <td>two</td>\n",
       "      <td>convertible</td>\n",
       "      <td>rwd</td>\n",
       "      <td>front</td>\n",
       "      <td>88.6</td>\n",
       "      <td>168.8</td>\n",
       "      <td>64.1</td>\n",
       "      <td>48.8</td>\n",
       "      <td>2548</td>\n",
       "      <td>dohc</td>\n",
       "      <td>four</td>\n",
       "      <td>130</td>\n",
       "      <td>mpfi</td>\n",
       "      <td>3.47</td>\n",
       "      <td>2.68</td>\n",
       "      <td>9.0</td>\n",
       "      <td>111</td>\n",
       "      <td>5000</td>\n",
       "      <td>21</td>\n",
       "      <td>27</td>\n",
       "      <td>13495</td>\n",
       "    </tr>\n",
       "    <tr>\n",
       "      <th>1</th>\n",
       "      <td>3</td>\n",
       "      <td>168</td>\n",
       "      <td>alfa-romero</td>\n",
       "      <td>gas</td>\n",
       "      <td>std</td>\n",
       "      <td>two</td>\n",
       "      <td>convertible</td>\n",
       "      <td>rwd</td>\n",
       "      <td>front</td>\n",
       "      <td>88.6</td>\n",
       "      <td>168.8</td>\n",
       "      <td>64.1</td>\n",
       "      <td>48.8</td>\n",
       "      <td>2548</td>\n",
       "      <td>dohc</td>\n",
       "      <td>four</td>\n",
       "      <td>130</td>\n",
       "      <td>mpfi</td>\n",
       "      <td>3.47</td>\n",
       "      <td>2.68</td>\n",
       "      <td>9.0</td>\n",
       "      <td>111</td>\n",
       "      <td>5000</td>\n",
       "      <td>21</td>\n",
       "      <td>27</td>\n",
       "      <td>16500</td>\n",
       "    </tr>\n",
       "    <tr>\n",
       "      <th>2</th>\n",
       "      <td>1</td>\n",
       "      <td>168</td>\n",
       "      <td>alfa-romero</td>\n",
       "      <td>gas</td>\n",
       "      <td>std</td>\n",
       "      <td>two</td>\n",
       "      <td>hatchback</td>\n",
       "      <td>rwd</td>\n",
       "      <td>front</td>\n",
       "      <td>94.5</td>\n",
       "      <td>171.2</td>\n",
       "      <td>65.5</td>\n",
       "      <td>52.4</td>\n",
       "      <td>2823</td>\n",
       "      <td>ohcv</td>\n",
       "      <td>six</td>\n",
       "      <td>152</td>\n",
       "      <td>mpfi</td>\n",
       "      <td>2.68</td>\n",
       "      <td>3.47</td>\n",
       "      <td>9.0</td>\n",
       "      <td>154</td>\n",
       "      <td>5000</td>\n",
       "      <td>19</td>\n",
       "      <td>26</td>\n",
       "      <td>16500</td>\n",
       "    </tr>\n",
       "    <tr>\n",
       "      <th>3</th>\n",
       "      <td>2</td>\n",
       "      <td>164</td>\n",
       "      <td>audi</td>\n",
       "      <td>gas</td>\n",
       "      <td>std</td>\n",
       "      <td>four</td>\n",
       "      <td>sedan</td>\n",
       "      <td>fwd</td>\n",
       "      <td>front</td>\n",
       "      <td>99.8</td>\n",
       "      <td>176.6</td>\n",
       "      <td>66.2</td>\n",
       "      <td>54.3</td>\n",
       "      <td>2337</td>\n",
       "      <td>ohc</td>\n",
       "      <td>four</td>\n",
       "      <td>109</td>\n",
       "      <td>mpfi</td>\n",
       "      <td>3.19</td>\n",
       "      <td>3.40</td>\n",
       "      <td>10.0</td>\n",
       "      <td>102</td>\n",
       "      <td>5500</td>\n",
       "      <td>24</td>\n",
       "      <td>30</td>\n",
       "      <td>13950</td>\n",
       "    </tr>\n",
       "    <tr>\n",
       "      <th>4</th>\n",
       "      <td>2</td>\n",
       "      <td>164</td>\n",
       "      <td>audi</td>\n",
       "      <td>gas</td>\n",
       "      <td>std</td>\n",
       "      <td>four</td>\n",
       "      <td>sedan</td>\n",
       "      <td>4wd</td>\n",
       "      <td>front</td>\n",
       "      <td>99.4</td>\n",
       "      <td>176.6</td>\n",
       "      <td>66.4</td>\n",
       "      <td>54.3</td>\n",
       "      <td>2824</td>\n",
       "      <td>ohc</td>\n",
       "      <td>five</td>\n",
       "      <td>136</td>\n",
       "      <td>mpfi</td>\n",
       "      <td>3.19</td>\n",
       "      <td>3.40</td>\n",
       "      <td>8.0</td>\n",
       "      <td>115</td>\n",
       "      <td>5500</td>\n",
       "      <td>18</td>\n",
       "      <td>22</td>\n",
       "      <td>17450</td>\n",
       "    </tr>\n",
       "    <tr>\n",
       "      <th>...</th>\n",
       "      <td>...</td>\n",
       "      <td>...</td>\n",
       "      <td>...</td>\n",
       "      <td>...</td>\n",
       "      <td>...</td>\n",
       "      <td>...</td>\n",
       "      <td>...</td>\n",
       "      <td>...</td>\n",
       "      <td>...</td>\n",
       "      <td>...</td>\n",
       "      <td>...</td>\n",
       "      <td>...</td>\n",
       "      <td>...</td>\n",
       "      <td>...</td>\n",
       "      <td>...</td>\n",
       "      <td>...</td>\n",
       "      <td>...</td>\n",
       "      <td>...</td>\n",
       "      <td>...</td>\n",
       "      <td>...</td>\n",
       "      <td>...</td>\n",
       "      <td>...</td>\n",
       "      <td>...</td>\n",
       "      <td>...</td>\n",
       "      <td>...</td>\n",
       "      <td>...</td>\n",
       "    </tr>\n",
       "    <tr>\n",
       "      <th>196</th>\n",
       "      <td>-1</td>\n",
       "      <td>95</td>\n",
       "      <td>volvo</td>\n",
       "      <td>gas</td>\n",
       "      <td>std</td>\n",
       "      <td>four</td>\n",
       "      <td>sedan</td>\n",
       "      <td>rwd</td>\n",
       "      <td>front</td>\n",
       "      <td>109.1</td>\n",
       "      <td>188.8</td>\n",
       "      <td>68.9</td>\n",
       "      <td>55.5</td>\n",
       "      <td>2952</td>\n",
       "      <td>ohc</td>\n",
       "      <td>four</td>\n",
       "      <td>141</td>\n",
       "      <td>mpfi</td>\n",
       "      <td>3.78</td>\n",
       "      <td>3.15</td>\n",
       "      <td>9.5</td>\n",
       "      <td>114</td>\n",
       "      <td>5400</td>\n",
       "      <td>23</td>\n",
       "      <td>28</td>\n",
       "      <td>16845</td>\n",
       "    </tr>\n",
       "    <tr>\n",
       "      <th>197</th>\n",
       "      <td>-1</td>\n",
       "      <td>95</td>\n",
       "      <td>volvo</td>\n",
       "      <td>gas</td>\n",
       "      <td>turbo</td>\n",
       "      <td>four</td>\n",
       "      <td>sedan</td>\n",
       "      <td>rwd</td>\n",
       "      <td>front</td>\n",
       "      <td>109.1</td>\n",
       "      <td>188.8</td>\n",
       "      <td>68.8</td>\n",
       "      <td>55.5</td>\n",
       "      <td>3049</td>\n",
       "      <td>ohc</td>\n",
       "      <td>four</td>\n",
       "      <td>141</td>\n",
       "      <td>mpfi</td>\n",
       "      <td>3.78</td>\n",
       "      <td>3.15</td>\n",
       "      <td>8.7</td>\n",
       "      <td>160</td>\n",
       "      <td>5300</td>\n",
       "      <td>19</td>\n",
       "      <td>25</td>\n",
       "      <td>19045</td>\n",
       "    </tr>\n",
       "    <tr>\n",
       "      <th>198</th>\n",
       "      <td>-1</td>\n",
       "      <td>95</td>\n",
       "      <td>volvo</td>\n",
       "      <td>gas</td>\n",
       "      <td>std</td>\n",
       "      <td>four</td>\n",
       "      <td>sedan</td>\n",
       "      <td>rwd</td>\n",
       "      <td>front</td>\n",
       "      <td>109.1</td>\n",
       "      <td>188.8</td>\n",
       "      <td>68.9</td>\n",
       "      <td>55.5</td>\n",
       "      <td>3012</td>\n",
       "      <td>ohcv</td>\n",
       "      <td>six</td>\n",
       "      <td>173</td>\n",
       "      <td>mpfi</td>\n",
       "      <td>3.58</td>\n",
       "      <td>2.87</td>\n",
       "      <td>8.8</td>\n",
       "      <td>134</td>\n",
       "      <td>5500</td>\n",
       "      <td>18</td>\n",
       "      <td>23</td>\n",
       "      <td>21485</td>\n",
       "    </tr>\n",
       "    <tr>\n",
       "      <th>199</th>\n",
       "      <td>-1</td>\n",
       "      <td>95</td>\n",
       "      <td>volvo</td>\n",
       "      <td>diesel</td>\n",
       "      <td>turbo</td>\n",
       "      <td>four</td>\n",
       "      <td>sedan</td>\n",
       "      <td>rwd</td>\n",
       "      <td>front</td>\n",
       "      <td>109.1</td>\n",
       "      <td>188.8</td>\n",
       "      <td>68.9</td>\n",
       "      <td>55.5</td>\n",
       "      <td>3217</td>\n",
       "      <td>ohc</td>\n",
       "      <td>six</td>\n",
       "      <td>145</td>\n",
       "      <td>idi</td>\n",
       "      <td>3.01</td>\n",
       "      <td>3.40</td>\n",
       "      <td>23.0</td>\n",
       "      <td>106</td>\n",
       "      <td>4800</td>\n",
       "      <td>26</td>\n",
       "      <td>27</td>\n",
       "      <td>22470</td>\n",
       "    </tr>\n",
       "    <tr>\n",
       "      <th>200</th>\n",
       "      <td>-1</td>\n",
       "      <td>95</td>\n",
       "      <td>volvo</td>\n",
       "      <td>gas</td>\n",
       "      <td>turbo</td>\n",
       "      <td>four</td>\n",
       "      <td>sedan</td>\n",
       "      <td>rwd</td>\n",
       "      <td>front</td>\n",
       "      <td>109.1</td>\n",
       "      <td>188.8</td>\n",
       "      <td>68.9</td>\n",
       "      <td>55.5</td>\n",
       "      <td>3062</td>\n",
       "      <td>ohc</td>\n",
       "      <td>four</td>\n",
       "      <td>141</td>\n",
       "      <td>mpfi</td>\n",
       "      <td>3.78</td>\n",
       "      <td>3.15</td>\n",
       "      <td>9.5</td>\n",
       "      <td>114</td>\n",
       "      <td>5400</td>\n",
       "      <td>19</td>\n",
       "      <td>25</td>\n",
       "      <td>22625</td>\n",
       "    </tr>\n",
       "  </tbody>\n",
       "</table>\n",
       "<p>191 rows × 26 columns</p>\n",
       "</div>"
      ],
      "text/plain": [
       "     symboling  normalized_losses         make fuel_type aspiration  \\\n",
       "0            3                168  alfa-romero       gas        std   \n",
       "1            3                168  alfa-romero       gas        std   \n",
       "2            1                168  alfa-romero       gas        std   \n",
       "3            2                164         audi       gas        std   \n",
       "4            2                164         audi       gas        std   \n",
       "..         ...                ...          ...       ...        ...   \n",
       "196         -1                 95        volvo       gas        std   \n",
       "197         -1                 95        volvo       gas      turbo   \n",
       "198         -1                 95        volvo       gas        std   \n",
       "199         -1                 95        volvo    diesel      turbo   \n",
       "200         -1                 95        volvo       gas      turbo   \n",
       "\n",
       "    number_of_doors   body_style drive_wheels engine_location  wheel_base  \\\n",
       "0               two  convertible          rwd           front        88.6   \n",
       "1               two  convertible          rwd           front        88.6   \n",
       "2               two    hatchback          rwd           front        94.5   \n",
       "3              four        sedan          fwd           front        99.8   \n",
       "4              four        sedan          4wd           front        99.4   \n",
       "..              ...          ...          ...             ...         ...   \n",
       "196            four        sedan          rwd           front       109.1   \n",
       "197            four        sedan          rwd           front       109.1   \n",
       "198            four        sedan          rwd           front       109.1   \n",
       "199            four        sedan          rwd           front       109.1   \n",
       "200            four        sedan          rwd           front       109.1   \n",
       "\n",
       "     length  width  height  curb_weight engine_type number_of_cylinders  \\\n",
       "0     168.8   64.1    48.8         2548        dohc                four   \n",
       "1     168.8   64.1    48.8         2548        dohc                four   \n",
       "2     171.2   65.5    52.4         2823        ohcv                 six   \n",
       "3     176.6   66.2    54.3         2337         ohc                four   \n",
       "4     176.6   66.4    54.3         2824         ohc                five   \n",
       "..      ...    ...     ...          ...         ...                 ...   \n",
       "196   188.8   68.9    55.5         2952         ohc                four   \n",
       "197   188.8   68.8    55.5         3049         ohc                four   \n",
       "198   188.8   68.9    55.5         3012        ohcv                 six   \n",
       "199   188.8   68.9    55.5         3217         ohc                 six   \n",
       "200   188.8   68.9    55.5         3062         ohc                four   \n",
       "\n",
       "     engine_size fuel_system  bore  stroke  compression_ratio  horsepower  \\\n",
       "0            130        mpfi  3.47    2.68                9.0         111   \n",
       "1            130        mpfi  3.47    2.68                9.0         111   \n",
       "2            152        mpfi  2.68    3.47                9.0         154   \n",
       "3            109        mpfi  3.19    3.40               10.0         102   \n",
       "4            136        mpfi  3.19    3.40                8.0         115   \n",
       "..           ...         ...   ...     ...                ...         ...   \n",
       "196          141        mpfi  3.78    3.15                9.5         114   \n",
       "197          141        mpfi  3.78    3.15                8.7         160   \n",
       "198          173        mpfi  3.58    2.87                8.8         134   \n",
       "199          145         idi  3.01    3.40               23.0         106   \n",
       "200          141        mpfi  3.78    3.15                9.5         114   \n",
       "\n",
       "     peak_rpm  city_mpg  highway_mpg  price  \n",
       "0        5000        21           27  13495  \n",
       "1        5000        21           27  16500  \n",
       "2        5000        19           26  16500  \n",
       "3        5500        24           30  13950  \n",
       "4        5500        18           22  17450  \n",
       "..        ...       ...          ...    ...  \n",
       "196      5400        23           28  16845  \n",
       "197      5300        19           25  19045  \n",
       "198      5500        18           23  21485  \n",
       "199      4800        26           27  22470  \n",
       "200      5400        19           25  22625  \n",
       "\n",
       "[191 rows x 26 columns]"
      ]
     },
     "metadata": {},
     "execution_count": 331
    }
   ],
   "metadata": {}
  },
  {
   "cell_type": "markdown",
   "source": [
    "**Pergunta:** Foram localizados outliers? Qual o método de análise adotado? Se existe, como os dados foram tratados (removidos ou mantidos)? "
   ],
   "metadata": {}
  },
  {
   "cell_type": "markdown",
   "source": [
    "## 📝Resposta\n",
    "\n",
    "\n",
    "Após implementarmos o algoritmo seguindo a orientação do artigo [4 Machine learning techniques for outlier detection in Python](https://towardsdatascience.com/4-machine-learning-techniques-for-outlier-detection-in-python-21e9cfacb81d), o resultado demonstrou a presença de outliers. O método escolhido para tratamento dos dados utilizou o algoritmo IsolationForest e após a identificação dos dados discrepantes removeu-os do dataframe. A quantidade de registros da tabela diminuiu de 201 para 191."
   ],
   "metadata": {}
  },
  {
   "cell_type": "markdown",
   "source": [
    "### Tratamento de dados Paramétricos\n",
    "\n",
    "Faça o tratamento dos atributos não numéricos. Descubra quais são os atributos não numéricos, faça a análise dos valores desses atributos e manipule de forma conveniente para ser interpretado como um dado numérico. "
   ],
   "metadata": {}
  },
  {
   "cell_type": "code",
   "execution_count": 332,
   "source": [
    "from sklearn.preprocessing import LabelEncoder\r\n",
    "from sklearn.preprocessing import OneHotEncoder\r\n",
    "from sklearn.preprocessing import MinMaxScaler\r\n",
    "\r\n",
    "scaler = MinMaxScaler(feature_range=(0,1))\r\n",
    "\r\n",
    "#LabelEncoder\r\n",
    "labelEncoderCylinders = LabelEncoder()\r\n",
    "labelEncoderCylinders.fit_transform(df['number_of_cylinders'])\r\n",
    "\r\n",
    "#OneHotEncoder\r\n",
    "makeOneHotEncoder = OneHotEncoder()\r\n",
    "make_ohe = makeOneHotEncoder.fit_transform(df[['make']]).toarray()\r\n",
    "make_ohe = pd.DataFrame(make_ohe, columns=[\"make: \"+str(int(i)) for i in range(make_ohe.shape[1])])\r\n",
    "\r\n",
    "fuel_typeOneHotEncoder = OneHotEncoder()\r\n",
    "fuel_type_ohe = fuel_typeOneHotEncoder.fit_transform(df[['fuel_type']]).toarray()\r\n",
    "fuel_type_ohe = pd.DataFrame(fuel_type_ohe, columns=[\"fuel_type: \"+str(int(i)) for i in range(fuel_type_ohe.shape[1])])\r\n",
    "\r\n",
    "aspirationOneHotEncoder = OneHotEncoder()\r\n",
    "aspiration_ohe = aspirationOneHotEncoder.fit_transform(df[['aspiration']]).toarray()\r\n",
    "aspiration_ohe = pd.DataFrame(aspiration_ohe, columns=[\"aspiration: \"+str(int(i)) for i in range(aspiration_ohe.shape[1])])\r\n",
    "\r\n",
    "bodyStyleOneHotEncoder = OneHotEncoder()\r\n",
    "body_style_ohe = bodyStyleOneHotEncoder.fit_transform(df[['body_style']]).toarray()\r\n",
    "body_style_ohe = pd.DataFrame(body_style_ohe, columns=[\"body_style: \"+str(int(i)) for i in range(body_style_ohe.shape[1])])\r\n",
    "\r\n",
    "drive_wheelsOneHotEncoder = OneHotEncoder()\r\n",
    "drive_wheels_ohe = drive_wheelsOneHotEncoder.fit_transform(df[['drive_wheels']]).toarray()\r\n",
    "drive_wheels_ohe = pd.DataFrame(drive_wheels_ohe, columns=[\"drive_wheels: \"+str(int(i)) for i in range(drive_wheels_ohe.shape[1])])\r\n",
    "\r\n",
    "engine_locationOneHotEncoder = OneHotEncoder()\r\n",
    "engine_location_ohe = engine_locationOneHotEncoder.fit_transform(df[['engine_location']]).toarray()\r\n",
    "engine_location_ohe = pd.DataFrame(engine_location_ohe, columns=[\"engine_location: \"+str(int(i)) for i in range(engine_location_ohe.shape[1])])\r\n",
    "\r\n",
    "engine_typeOneHotEncoder = OneHotEncoder()\r\n",
    "engine_type_ohe = engine_typeOneHotEncoder.fit_transform(df[['engine_type']]).toarray()\r\n",
    "engine_type_ohe = pd.DataFrame(engine_type_ohe, columns=[\"engine_type: \"+str(int(i)) for i in range(engine_type_ohe.shape[1])])\r\n",
    "\r\n",
    "fuel_systemOneHotEncoder = OneHotEncoder()\r\n",
    "fuel_system_ohe = fuel_systemOneHotEncoder.fit_transform(df[['fuel_system']]).toarray()\r\n",
    "fuel_system_ohe = pd.DataFrame(fuel_system_ohe, columns=[\"fuel_system: \"+str(int(i)) for i in range(fuel_system_ohe.shape[1])])\r\n",
    "\r\n",
    "dataframe = df.drop(['price'], axis=1)\r\n",
    "\r\n",
    "# LabelEncoder\r\n",
    "dataframe['number_of_cylinders'] = labelEncoderCylinders.transform(\r\n",
    "    dataframe['number_of_cylinders'])\r\n",
    "\r\n",
    "# OneHotEncoder\r\n",
    "make_ohe = makeOneHotEncoder.transform(dataframe[['make']]).toarray()\r\n",
    "make_ohe = pd.DataFrame(\r\n",
    "    make_ohe, columns=[\"make: \"+str(int(i)) for i in range(make_ohe.shape[1])])\r\n",
    "\r\n",
    "fuel_type_ohe = fuel_typeOneHotEncoder.transform(\r\n",
    "    dataframe[['fuel_type']]).toarray()\r\n",
    "fuel_type_ohe = pd.DataFrame(fuel_type_ohe, columns=[\r\n",
    "                            \"fuel_type: \"+str(int(i)) for i in range(fuel_type_ohe.shape[1])])\r\n",
    "\r\n",
    "aspiration_ohe = aspirationOneHotEncoder.transform(\r\n",
    "    dataframe[['aspiration']]).toarray()\r\n",
    "aspiration_ohe = pd.DataFrame(aspiration_ohe, columns=[\r\n",
    "                                \"aspiration: \"+str(int(i)) for i in range(aspiration_ohe.shape[1])])\r\n",
    "\r\n",
    "body_style_ohe = bodyStyleOneHotEncoder.transform(\r\n",
    "    dataframe[['body_style']]).toarray()\r\n",
    "body_style_ohe = pd.DataFrame(body_style_ohe, columns=[\r\n",
    "                            \"body_style: \"+str(int(i)) for i in range(body_style_ohe.shape[1])])\r\n",
    "\r\n",
    "drive_wheels_ohe = drive_wheelsOneHotEncoder.transform(\r\n",
    "    dataframe[['drive_wheels']]).toarray()\r\n",
    "drive_wheels_ohe = pd.DataFrame(drive_wheels_ohe, columns=[\r\n",
    "                                \"drive_wheels: \"+str(int(i)) for i in range(drive_wheels_ohe.shape[1])])\r\n",
    "\r\n",
    "engine_location_ohe = engine_locationOneHotEncoder.transform(\r\n",
    "    dataframe[['engine_location']]).toarray()\r\n",
    "engine_location_ohe = pd.DataFrame(engine_location_ohe, columns=[\r\n",
    "                                    \"engine_location: \"+str(int(i)) for i in range(engine_location_ohe.shape[1])])\r\n",
    "\r\n",
    "engine_type_ohe = engine_typeOneHotEncoder.transform(\r\n",
    "    dataframe[['engine_type']]).toarray()\r\n",
    "engine_type_ohe = pd.DataFrame(engine_type_ohe, columns=[\r\n",
    "                                \"engine_type: \"+str(int(i)) for i in range(engine_type_ohe.shape[1])])\r\n",
    "\r\n",
    "fuel_system_ohe = fuel_systemOneHotEncoder.transform(\r\n",
    "    dataframe[['fuel_system']]).toarray()\r\n",
    "fuel_system_ohe = pd.DataFrame(fuel_system_ohe, columns=[\r\n",
    "                                \"fuel_system: \"+str(int(i)) for i in range(fuel_system_ohe.shape[1])])\r\n",
    "\r\n",
    "dataframe = pd.concat([\r\n",
    "    dataframe,\r\n",
    "    make_ohe,\r\n",
    "    fuel_type_ohe,\r\n",
    "    aspiration_ohe,\r\n",
    "    body_style_ohe,\r\n",
    "    drive_wheels_ohe,\r\n",
    "    engine_location_ohe,\r\n",
    "    engine_type_ohe,\r\n",
    "    fuel_system_ohe], axis=1)\r\n",
    "\r\n",
    "dataframe = dataframe.drop([\r\n",
    "    'number_of_doors',\r\n",
    "    'make',\r\n",
    "    'fuel_type',\r\n",
    "    'aspiration',\r\n",
    "    'body_style',\r\n",
    "    'drive_wheels',\r\n",
    "    'engine_location',\r\n",
    "    'engine_type',\r\n",
    "    'fuel_system'\r\n",
    "], axis=1)\r\n",
    "\r\n",
    "df_cleaned = scaler.fit_transform(dataframe[dataframe.columns])"
   ],
   "outputs": [],
   "metadata": {}
  },
  {
   "cell_type": "code",
   "execution_count": 333,
   "source": [
    "# Utilizando o MinMaxScaler para escalonar os dados entre 0 e 1\r\n",
    "from sklearn.preprocessing import MinMaxScaler\r\n",
    "from sklearn.model_selection import train_test_split\r\n",
    "\r\n",
    "scaler = MinMaxScaler(feature_range=(0,1))\r\n",
    "\r\n",
    "df_cleaned_scaler = scaler.fit_transform(df_cleaned)\r\n",
    "df_cleaned_scaler"
   ],
   "outputs": [
    {
     "output_type": "execute_result",
     "data": {
      "text/plain": [
       "array([[1.        , 0.53926702, 0.05830904, ..., 1.        , 0.        ,\n",
       "        0.        ],\n",
       "       [1.        , 0.53926702, 0.05830904, ..., 1.        , 0.        ,\n",
       "        0.        ],\n",
       "       [0.6       , 0.53926702, 0.2303207 , ..., 1.        , 0.        ,\n",
       "        0.        ],\n",
       "       ...,\n",
       "       [0.2       , 0.15706806, 0.65597668, ..., 1.        , 0.        ,\n",
       "        0.        ],\n",
       "       [0.2       , 0.15706806, 0.65597668, ..., 0.        , 0.        ,\n",
       "        0.        ],\n",
       "       [0.2       , 0.15706806, 0.65597668, ..., 1.        , 0.        ,\n",
       "        0.        ]])"
      ]
     },
     "metadata": {},
     "execution_count": 333
    }
   ],
   "metadata": {}
  },
  {
   "cell_type": "markdown",
   "source": [
    "**Pergunta:** Quais são os atributos não numéricos? Qual o método de análise adotado? Por que esse essa escolha? "
   ],
   "metadata": {}
  },
  {
   "cell_type": "markdown",
   "source": [
    "## 📝Resposta\n",
    "\n",
    "Utilizando o código:"
   ],
   "metadata": {}
  },
  {
   "cell_type": "code",
   "execution_count": 334,
   "source": [
    "df_obj = df.select_dtypes(exclude=['int64', 'float64'])\r\n",
    "df_obj.info()"
   ],
   "outputs": [
    {
     "output_type": "stream",
     "name": "stdout",
     "text": [
      "<class 'pandas.core.frame.DataFrame'>\n",
      "RangeIndex: 201 entries, 0 to 200\n",
      "Data columns (total 10 columns):\n",
      " #   Column               Non-Null Count  Dtype \n",
      "---  ------               --------------  ----- \n",
      " 0   make                 201 non-null    object\n",
      " 1   fuel_type            201 non-null    object\n",
      " 2   aspiration           201 non-null    object\n",
      " 3   number_of_doors      201 non-null    object\n",
      " 4   body_style           201 non-null    object\n",
      " 5   drive_wheels         201 non-null    object\n",
      " 6   engine_location      201 non-null    object\n",
      " 7   engine_type          201 non-null    object\n",
      " 8   number_of_cylinders  201 non-null    object\n",
      " 9   fuel_system          201 non-null    object\n",
      "dtypes: object(10)\n",
      "memory usage: 15.8+ KB\n"
     ]
    }
   ],
   "metadata": {}
  },
  {
   "cell_type": "markdown",
   "source": [
    "De acordo com os resultados obtidos após a aplicação do método info() ao dataframe, os atributos não numéricos são:\n",
    "\n",
    "- make\n",
    "- fuel_type\n",
    "- aspiration\n",
    "- number_of_doors\n",
    "- body_style\n",
    "- drive_wheels\n",
    "- engine_location\n",
    "- engine_type\n",
    "- number_of_cylinders\n",
    "- fuel_system\n",
    "\n",
    "Fizemos a exclusão dos atributos numéricos (\"int64\" e \"float64\") para poder visualizar os outros tipos de dados disponíveis para a análise."
   ],
   "metadata": {}
  },
  {
   "cell_type": "markdown",
   "source": [
    "## 3. Desenvolvimento do Modelo"
   ],
   "metadata": {}
  },
  {
   "cell_type": "markdown",
   "source": [
    "**Pergunta:** O conjunto de dados indica a aplicação de qual modelo de aprendizagem de maquina para a determinação do preço de carro? Por que ? "
   ],
   "metadata": {}
  },
  {
   "cell_type": "markdown",
   "source": [
    "## 📝Resposta\n",
    "\n",
    "    [ ] Aprendizado por reforço\n",
    "    [x] Aprendizado supervisionado\n",
    "    [ ] Aprendizado não supervisionado"
   ],
   "metadata": {}
  },
  {
   "cell_type": "markdown",
   "source": [
    "**Pergunta:** Qual a técnica sugerida para este projeto?"
   ],
   "metadata": {}
  },
  {
   "cell_type": "markdown",
   "source": [
    "## 📝Resposta\n",
    "\n",
    "    [x] Regressão\n",
    "    [ ] Classificação\n",
    "    [ ] Clusterização"
   ],
   "metadata": {}
  },
  {
   "cell_type": "markdown",
   "source": [
    "**Pergunta:** Escolha 3 modelos de algoritmos para testar a performance de cada um deles."
   ],
   "metadata": {}
  },
  {
   "cell_type": "markdown",
   "source": [
    "## 📝Resposta\n",
    "\n",
    "Algoritmos escolhidas para testar a performance:\n",
    "\n",
    "1. Random Forest Regressor\n",
    "2. Linear Regression \n",
    "3. Ridge Regression"
   ],
   "metadata": {}
  },
  {
   "cell_type": "markdown",
   "source": [
    "**Pergunta:** Explique como cada algoritmo funciona.\n",
    "\n"
   ],
   "metadata": {}
  },
  {
   "cell_type": "markdown",
   "source": [
    "## 📝Resposta\n",
    "\n",
    "### 1. Random Forest Regressor \n",
    "- Random Forest é um algoritmo de aprendizado supervisionado que utiliza uma árvore de decisão para classificar dados. É utilizado o sistema de votos, em que selecionamos a melhor árvore para cada conjunto de dados.\n",
    "\n",
    "### 2. Linear Regression\n",
    "- Linear Regression é um algoritmo utilizado para estimar o valor de uma variável dependente (y) a partir de uma ou mais variáveis independentes (x). Essa regressão é aplicada quando a relação de resposta entre as variáveis descreve uma função linear. Ele utiliza os pontos de dados para estimar os coeficientes da função linear.\n",
    "\n",
    "### 3. Ridge Regression\n",
    "- Ridge Regression é um algoritmo de regressão linear que utiliza a regularização Ridge para estimar os coeficientes da função linear. Ele é utilizado quando a relação de resposta entre as variáveis descreve uma função linear."
   ],
   "metadata": {}
  },
  {
   "cell_type": "markdown",
   "source": [
    "Crie um subset dos dados apenas com os atributos que serão utilizados para o treinameno e teste do modelo."
   ],
   "metadata": {}
  },
  {
   "cell_type": "code",
   "execution_count": 335,
   "source": [
    "Y = df['price']\r\n",
    "X = df_cleaned"
   ],
   "outputs": [],
   "metadata": {}
  },
  {
   "cell_type": "markdown",
   "source": [
    "Divida o subset em conjunto de treinamento e teste."
   ],
   "metadata": {}
  },
  {
   "cell_type": "code",
   "execution_count": 336,
   "source": [
    "from sklearn.model_selection import train_test_split\r\n",
    "\r\n",
    "# Separação utilizando a divisão 70/30\r\n",
    "X_train, X_test, y_train, y_test = train_test_split(X, Y, test_size=0.3, random_state=1)"
   ],
   "outputs": [],
   "metadata": {}
  },
  {
   "cell_type": "markdown",
   "source": [
    "## 4. Treinamento e teste do modelo\n",
    "\n",
    "Faça o treinamento e teste de dos 3 algoritmos escolhidos. Para cada um dos modelos utilize uma das métricas: R2-score, RMSE e MAE para avaliar a performance dos medelos. Utilize a média do obtido da validação cruzada para um kfold de 5."
   ],
   "metadata": {}
  },
  {
   "cell_type": "markdown",
   "source": [
    "### Algoritmo 1"
   ],
   "metadata": {}
  },
  {
   "cell_type": "code",
   "execution_count": 337,
   "source": [
    "from sklearn.model_selection import cross_val_score\r\n",
    "from sklearn.model_selection import KFold\r\n",
    "from sklearn.ensemble import RandomForestRegressor\r\n",
    "from sklearn.metrics import mean_absolute_error\r\n",
    "from sklearn.metrics import mean_squared_error\r\n",
    "from sklearn.metrics import r2_score\r\n",
    "\r\n",
    "randomForestRegressor = RandomForestRegressor()\r\n",
    "randomForestRegressor.fit(X_train, y_train)\r\n",
    "\r\n",
    "crossvalidation = KFold(n_splits=5, shuffle=True, random_state=7)\r\n",
    "\r\n",
    "predict = randomForestRegressor.predict(X_test)\r\n",
    "print(\"R2-score: \", r2_score(y_test, predict))\r\n",
    "print('RMSE: ', np.sqrt(mean_squared_error(y_test, predict)))\r\n",
    "print('MAE: ', mean_absolute_error(y_test, predict))\r\n",
    "\r\n",
    "scores = cross_val_score(randomForestRegressor, X, Y,\r\n",
    "                         cv=crossvalidation, scoring='r2')\r\n",
    "print(\"R2-score médio + KFold: \", scores.mean())\r\n"
   ],
   "outputs": [
    {
     "output_type": "stream",
     "name": "stdout",
     "text": [
      "R2-score:  0.892331064572416\n",
      "RMSE:  2311.7407799307107\n",
      "MAE:  1507.611830601093\n",
      "R2-score médio + KFold:  0.9216479144085961\n"
     ]
    }
   ],
   "metadata": {}
  },
  {
   "cell_type": "markdown",
   "source": [
    "### Algoritmo 2"
   ],
   "metadata": {}
  },
  {
   "cell_type": "code",
   "execution_count": 338,
   "source": [
    "from sklearn.model_selection import cross_val_score\r\n",
    "from sklearn.model_selection import KFold\r\n",
    "from sklearn.linear_model import LinearRegression\r\n",
    "from sklearn.metrics import mean_absolute_error\r\n",
    "from sklearn.metrics import mean_squared_error\r\n",
    "from sklearn.metrics import r2_score\r\n",
    "\r\n",
    "crossvalidation = KFold(n_splits=5, shuffle=True, random_state=7)\r\n",
    "\r\n",
    "linearRegression = LinearRegression()\r\n",
    "linearRegression.fit(X_train, y_train)\r\n",
    "\r\n",
    "predict = linearRegression.predict(X_test)\r\n",
    "print(\"R2-score: \", r2_score(y_test, predict))\r\n",
    "print('MAE: ', mean_absolute_error(y_test, predict))\r\n",
    "print('RMSE: ', np.sqrt(mean_squared_error(y_test, predict)))\r\n",
    "\r\n",
    "scores = cross_val_score(linearRegression, X, y,\r\n",
    "                         cv=crossvalidation, scoring='r2')\r\n",
    "print(\"R2-score médio + KFold: \", scores.mean())\r\n"
   ],
   "outputs": [
    {
     "output_type": "stream",
     "name": "stdout",
     "text": [
      "R2-score:  -1.944829784316437e+24\n",
      "MAE:  1931760638411440.8\n",
      "RMSE:  9825048958298178.0\n",
      "R2-score médio + KFold:  -1.986937543059298e+24\n"
     ]
    }
   ],
   "metadata": {}
  },
  {
   "cell_type": "markdown",
   "source": [
    "### Algoritmo 3"
   ],
   "metadata": {}
  },
  {
   "cell_type": "code",
   "execution_count": 339,
   "source": [
    "from sklearn.linear_model import Ridge\r\n",
    "\r\n",
    "ridge = Ridge()\r\n",
    "ridge.fit(X_train, y_train)\r\n",
    "\r\n",
    "predict = ridge.predict(X_test)\r\n",
    "print(\"R2-score: \", r2_score(y_test, predict))\r\n",
    "print('RMSE: ', np.sqrt(mean_squared_error(y_test, predict)))\r\n",
    "print('MAE: ', mean_absolute_error(y_test, predict))\r\n",
    "\r\n",
    "scores = cross_val_score(ridge, X, Y,\r\n",
    "                         cv=crossvalidation, scoring='r2')\r\n",
    "print(\"R2-score médio + KFold: \", scores.mean())\r\n"
   ],
   "outputs": [
    {
     "output_type": "stream",
     "name": "stdout",
     "text": [
      "R2-score:  0.9044896645187019\n",
      "RMSE:  2177.304198091573\n",
      "MAE:  1690.1295372472518\n",
      "R2-score médio + KFold:  0.9130663154069664\n"
     ]
    }
   ],
   "metadata": {}
  },
  {
   "cell_type": "markdown",
   "source": [
    "**Pergunta:** Qual foi a performance de cada algoritmo? Explique os resultados e detalhe como a característica de cada algoritmo influenciou no resultado.\n",
    "\n",
    "## 📝Resposta\n",
    "\n",
    "# ATUALIZA 💾⚠\n",
    "\n",
    "### 1. Random Forest Regressor\n",
    "- R2-score: 0.8880181340958897\n",
    "- RMSE: 2357.5872519629293\n",
    "- MAE: 1521.2418961748633\n",
    "- R2-score médio + KFold: 0.9198338437468697\n",
    "\n",
    "### 2. Linear Regression\n",
    "- R2-score: 0.8701131808376099\n",
    "- RMSE: 2003.388581772015\n",
    "- MAE: 2539.080472075106\n",
    "- R2-score médio + KFold: 0.8794613157151125\n",
    "\n",
    "### 3. Ridge\n",
    "- R2-score: 0.911444401495142\n",
    "- RMSE: 2096.5341260710143\n",
    "- MAE: 1678.188908429422\n",
    "- R2-score médio + KFold: 0.9187794845554063\n",
    "\n",
    "Os modelos tiveram um resultado muito bom, com uma performance semelhante entre si. Dentre eles, o modelo Ridge obteve um melhor resultado de R2-score. A Rigde Regression é um modelo de predição que calibra os coeficientes apartir dos seus quadrados, e dessa forma privilegia atributos relacionados mantendo coeficientes parecidos.\n",
    "\n",
    "A Random Forest Regressor, mesmo não tendo um melhor resultado de R2-score, ainda se saiu bem no treinamento. Por conta do modelo de decisão deste modelo, onde se baseia nos vários dados e pega as informações mais relevantes para criar regras, assim refinando o modelo de aprendizado.\n",
    "\n",
    "A Linear Regression obteve o pior resultado comparado aos demais. Com seu MAE (mean absolut error) mais alto que os demais. O que mostra que o modelo linear tem maior dificuldade para encontrar uma relação entre os dados."
   ],
   "metadata": {}
  },
  {
   "cell_type": "markdown",
   "source": [
    "## 5. Validação e Otimização do Modelo\n",
    "\n",
    "Faça a otimização dos modelos, tunning dos hiperparametros, utilize técinicas como **RandomSearchCV** ou **GridSearchCV**."
   ],
   "metadata": {}
  },
  {
   "cell_type": "markdown",
   "source": [
    "**Pergunta:** Qual a técnica escolhida? Por que?\n",
    "\n",
    "## 📝Resposta\n",
    "\n",
    "Segundo a documentação das duas técnicas utilizadas, a RandomSearchCV é uma técnica de busca aleatória, que utiliza um conjunto de parâmetros aleatórios para ajustar o modelo. A GridSearchCV é uma técnica de busca em grade, que utiliza um conjunto de parâmetros fixos para ajustar o modelo. Para o nosso caso pela quantidade de parâmetros foi escolhido o RandomSearchCV, pois ele realiza um menor número de iterações, e aumenta as chances de encontrar os parâmetros ideias para o modelo com menor uso de poder computacional."
   ],
   "metadata": {}
  },
  {
   "cell_type": "markdown",
   "source": [
    "### Algoritmo 1"
   ],
   "metadata": {}
  },
  {
   "cell_type": "code",
   "execution_count": 340,
   "source": [
    "randomForestRegressor.get_params()"
   ],
   "outputs": [
    {
     "output_type": "execute_result",
     "data": {
      "text/plain": [
       "{'bootstrap': True,\n",
       " 'ccp_alpha': 0.0,\n",
       " 'criterion': 'mse',\n",
       " 'max_depth': None,\n",
       " 'max_features': 'auto',\n",
       " 'max_leaf_nodes': None,\n",
       " 'max_samples': None,\n",
       " 'min_impurity_decrease': 0.0,\n",
       " 'min_impurity_split': None,\n",
       " 'min_samples_leaf': 1,\n",
       " 'min_samples_split': 2,\n",
       " 'min_weight_fraction_leaf': 0.0,\n",
       " 'n_estimators': 100,\n",
       " 'n_jobs': None,\n",
       " 'oob_score': False,\n",
       " 'random_state': None,\n",
       " 'verbose': 0,\n",
       " 'warm_start': False}"
      ]
     },
     "metadata": {},
     "execution_count": 340
    }
   ],
   "metadata": {}
  },
  {
   "cell_type": "code",
   "execution_count": 341,
   "source": [
    "from sklearn.model_selection import RandomizedSearchCV\r\n",
    "import numpy as np\r\n",
    "\r\n",
    "param_grid = {\r\n",
    "    'bootstrap': [True],\r\n",
    "    'max_depth': [80, 90, 100, 110, 120, 130],\r\n",
    "    'max_features': [2, 3],\r\n",
    "    'n_estimators': [100],\r\n",
    "    'oob_score': [False]\r\n",
    "}\r\n",
    "\r\n",
    "randomSearchCv = RandomizedSearchCV(\r\n",
    "    estimator=randomForestRegressor, param_distributions=param_grid, cv=crossvalidation, scoring='r2', n_iter=10)\r\n",
    "randomSearchCv.fit(X, Y)\r\n",
    "\r\n",
    "print('Melhores Parâmetros: ', randomSearchCv.best_params_)\r\n",
    "print('Melhor score: ', randomSearchCv.best_score_)"
   ],
   "outputs": [
    {
     "output_type": "stream",
     "name": "stdout",
     "text": [
      "Melhores Parâmetros:  {'oob_score': False, 'n_estimators': 100, 'max_features': 3, 'max_depth': 130, 'bootstrap': True}\n",
      "Melhor score:  0.9210489012542469\n"
     ]
    }
   ],
   "metadata": {}
  },
  {
   "cell_type": "markdown",
   "source": [
    "### Algoritmo 2"
   ],
   "metadata": {}
  },
  {
   "cell_type": "code",
   "execution_count": 342,
   "source": [
    "linearRegression.get_params()"
   ],
   "outputs": [
    {
     "output_type": "execute_result",
     "data": {
      "text/plain": [
       "{'copy_X': True,\n",
       " 'fit_intercept': True,\n",
       " 'n_jobs': None,\n",
       " 'normalize': False,\n",
       " 'positive': False}"
      ]
     },
     "metadata": {},
     "execution_count": 342
    }
   ],
   "metadata": {}
  },
  {
   "cell_type": "code",
   "execution_count": 343,
   "source": [
    "from sklearn.model_selection import RandomizedSearchCV\r\n",
    "import numpy as np\r\n",
    "\r\n",
    "param_grid = {\r\n",
    "    'copy_X': [True],\r\n",
    "    'fit_intercept': [True],\r\n",
    "    'n_jobs': [10, 20, 30],\r\n",
    "    'positive': [True, False],\r\n",
    "    'normalize': [True, False],\r\n",
    "}\r\n",
    "\r\n",
    "randomSearchCv = RandomizedSearchCV(\r\n",
    "    estimator=linearRegression, param_distributions=param_grid, cv=crossvalidation, scoring='r2', n_iter=10)\r\n",
    "randomSearchCv.fit(X, Y)\r\n",
    "\r\n",
    "print('Melhores Parâmetros: ', randomSearchCv.best_params_)\r\n",
    "print('Melhor score: ', randomSearchCv.best_score_)"
   ],
   "outputs": [
    {
     "output_type": "stream",
     "name": "stdout",
     "text": [
      "Melhores Parâmetros:  {'positive': True, 'normalize': True, 'n_jobs': 20, 'fit_intercept': True, 'copy_X': True}\n",
      "Melhor score:  0.8969797698547151\n"
     ]
    }
   ],
   "metadata": {}
  },
  {
   "cell_type": "markdown",
   "source": [
    "### Algoritmo 3"
   ],
   "metadata": {}
  },
  {
   "cell_type": "code",
   "execution_count": 344,
   "source": [
    "ridge.get_params()"
   ],
   "outputs": [
    {
     "output_type": "execute_result",
     "data": {
      "text/plain": [
       "{'alpha': 1.0,\n",
       " 'copy_X': True,\n",
       " 'fit_intercept': True,\n",
       " 'max_iter': None,\n",
       " 'normalize': False,\n",
       " 'random_state': None,\n",
       " 'solver': 'auto',\n",
       " 'tol': 0.001}"
      ]
     },
     "metadata": {},
     "execution_count": 344
    }
   ],
   "metadata": {}
  },
  {
   "cell_type": "code",
   "execution_count": 345,
   "source": [
    "from sklearn.model_selection import RandomizedSearchCV\r\n",
    "import numpy as np\r\n",
    "\r\n",
    "param_grid = {\r\n",
    "    'alpha': [1e-15, 1e-10, 1e-8, 1e-4, 1e-3, 1e-2, 1, 5, 10, 20],\r\n",
    "    'copy_X': [True],\r\n",
    "    'fit_intercept': [True],\r\n",
    "    'normalize': [True, False],\r\n",
    "    'max_iter': [10, 1000, 1500]\r\n",
    "}\r\n",
    "\r\n",
    "randomSearchCv = RandomizedSearchCV(\r\n",
    "    estimator=ridge, param_distributions=param_grid, cv=crossvalidation, scoring='r2', n_iter=10)\r\n",
    "randomSearchCv.fit(X, Y)\r\n",
    "\r\n",
    "print('Melhores Parâmetros: ', randomSearchCv.best_params_)\r\n",
    "print('Melhor score: ', randomSearchCv.best_score_)"
   ],
   "outputs": [
    {
     "output_type": "stream",
     "name": "stdout",
     "text": [
      "Melhores Parâmetros:  {'normalize': False, 'max_iter': 1500, 'fit_intercept': True, 'copy_X': True, 'alpha': 0.01}\n",
      "Melhor score:  0.8998616396898174\n"
     ]
    },
    {
     "output_type": "stream",
     "name": "stderr",
     "text": [
      "C:\\Users\\jjean\\AppData\\Local\\Programs\\Python\\Python37\\lib\\site-packages\\sklearn\\linear_model\\_ridge.py:148: LinAlgWarning: Ill-conditioned matrix (rcond=5.52674e-18): result may not be accurate.\n",
      "  overwrite_a=True).T\n",
      "C:\\Users\\jjean\\AppData\\Local\\Programs\\Python\\Python37\\lib\\site-packages\\sklearn\\linear_model\\_ridge.py:148: LinAlgWarning: Ill-conditioned matrix (rcond=7.76513e-18): result may not be accurate.\n",
      "  overwrite_a=True).T\n",
      "C:\\Users\\jjean\\AppData\\Local\\Programs\\Python\\Python37\\lib\\site-packages\\sklearn\\linear_model\\_ridge.py:148: LinAlgWarning: Ill-conditioned matrix (rcond=5.52674e-18): result may not be accurate.\n",
      "  overwrite_a=True).T\n",
      "C:\\Users\\jjean\\AppData\\Local\\Programs\\Python\\Python37\\lib\\site-packages\\sklearn\\linear_model\\_ridge.py:148: LinAlgWarning: Ill-conditioned matrix (rcond=7.76513e-18): result may not be accurate.\n",
      "  overwrite_a=True).T\n"
     ]
    }
   ],
   "metadata": {}
  },
  {
   "cell_type": "markdown",
   "source": [
    "Sumarize na tabela abaixo os indicadores para cada um dos preditores e suas respectivas pontuações para os conjuntos de dados de treino e de testes"
   ],
   "metadata": {}
  },
  {
   "cell_type": "markdown",
   "source": [
    "**Resposta:**\n",
    "\n",
    "|        |   RandomForestRegressor     |     LinearRegression        |                        Ridge                                  |\n",
    "|:-------|:---------------------------:|:---------------------------:|:-------------------------------------------------------------:|\n",
    "| treino |      {'oob_score': False, 'n_estimators': 100, 'max_features': 3, 'max_depth': 110, 'bootstrap': True}                      |     {'positive': True, 'normalize': False, 'n_jobs': 20, 'fit_intercept': True, 'copy_X': True}                     | {'normalize': False, 'max_iter': 1500, 'fit_intercept': True, 'copy_X': True, 'alpha': 1} |\n",
    "| teste  |      0.9221944608992022                      |       0.9064481240176022        |  0.9187794845554063\n"
   ],
   "metadata": {}
  },
  {
   "cell_type": "markdown",
   "source": [
    "**Pergunta:** Qual dos algoritmos obteve os melhores resultados? Quais caracaterísticas deste algoritmo podem ajudar a justificar tal resultado?\n",
    "\n",
    "## 📝Resposta\n",
    "\n",
    "O algoritmo que obteve o melhor resultado de acordo com a nossa implementação foi o Random Forest Regressor, visto que apresentou o maior valor do atributo \"best_score_\" dentre os três analisados. Por se tratar de uma generalização de árvores de decisão, esse algoritmo minimiza o overfitting dos modelos individuais para as entradas e com isso apresenta resultados mais robustos e complexos."
   ],
   "metadata": {}
  },
  {
   "cell_type": "markdown",
   "source": [
    "### __(BONUS: 1 ponto extra.)__ Implementação do algoritmo otimizado\n",
    "\n",
    "Configure o modelo selecionado com os parâmetros otimizados obtidos anteriormente."
   ],
   "metadata": {}
  },
  {
   "cell_type": "code",
   "execution_count": 346,
   "source": [
    "randomForest = RandomForestRegressor(\r\n",
    "    n_estimators=100, \r\n",
    "    max_features=3,\r\n",
    "    max_depth=110,\r\n",
    "    bootstrap=True)\r\n",
    "\r\n",
    "randomForest.fit(X, Y)"
   ],
   "outputs": [
    {
     "output_type": "execute_result",
     "data": {
      "text/plain": [
       "RandomForestRegressor(max_depth=110, max_features=3)"
      ]
     },
     "metadata": {},
     "execution_count": 346
    }
   ],
   "metadata": {}
  },
  {
   "cell_type": "markdown",
   "source": [
    "### Modelo de produção: Teste com novos dados\n",
    "\n",
    "Utilize 3 exemplos criados por você mesmo para obter um valor de venda de veículo. Defina o teste para um resultado baixo, médio e alto do preço do carro."
   ],
   "metadata": {}
  },
  {
   "cell_type": "code",
   "execution_count": 349,
   "source": [
    "def transform(dataframe):\r\n",
    "    # LabelEncoder\r\n",
    "    dataframe['number_of_cylinders'] = labelEncoderCylinders.transform(\r\n",
    "        dataframe['number_of_cylinders'])\r\n",
    "\r\n",
    "    # OneHotEncoder\r\n",
    "    make_ohe = makeOneHotEncoder.transform(dataframe[['make']]).toarray()\r\n",
    "    make_ohe = pd.DataFrame(\r\n",
    "        make_ohe, columns=[\"make: \"+str(int(i)) for i in range(make_ohe.shape[1])])\r\n",
    "\r\n",
    "    fuel_type_ohe = fuel_typeOneHotEncoder.transform(\r\n",
    "        dataframe[['fuel_type']]).toarray()\r\n",
    "    fuel_type_ohe = pd.DataFrame(fuel_type_ohe, columns=[\r\n",
    "                               \"fuel_type: \"+str(int(i)) for i in range(fuel_type_ohe.shape[1])])\r\n",
    "\r\n",
    "    aspiration_ohe = aspirationOneHotEncoder.transform(\r\n",
    "        dataframe[['aspiration']]).toarray()\r\n",
    "    aspiration_ohe = pd.DataFrame(aspiration_ohe, columns=[\r\n",
    "                                 \"aspiration: \"+str(int(i)) for i in range(aspiration_ohe.shape[1])])\r\n",
    "\r\n",
    "    body_style_ohe = bodyStyleOneHotEncoder.transform(\r\n",
    "        dataframe[['body_style']]).toarray()\r\n",
    "    body_style_ohe = pd.DataFrame(body_style_ohe, columns=[\r\n",
    "                                \"body_style: \"+str(int(i)) for i in range(body_style_ohe.shape[1])])\r\n",
    "\r\n",
    "    drive_wheels_ohe = drive_wheelsOneHotEncoder.transform(\r\n",
    "        dataframe[['drive_wheels']]).toarray()\r\n",
    "    drive_wheels_ohe = pd.DataFrame(drive_wheels_ohe, columns=[\r\n",
    "                                  \"drive_wheels: \"+str(int(i)) for i in range(drive_wheels_ohe.shape[1])])\r\n",
    "\r\n",
    "    engine_location_ohe = engine_locationOneHotEncoder.transform(\r\n",
    "        dataframe[['engine_location']]).toarray()\r\n",
    "    engine_location_ohe = pd.DataFrame(engine_location_ohe, columns=[\r\n",
    "                                     \"engine_location: \"+str(int(i)) for i in range(engine_location_ohe.shape[1])])\r\n",
    "\r\n",
    "    engine_type_ohe = engine_typeOneHotEncoder.transform(\r\n",
    "        dataframe[['engine_type']]).toarray()\r\n",
    "    engine_type_ohe = pd.DataFrame(engine_type_ohe, columns=[\r\n",
    "                                 \"engine_type: \"+str(int(i)) for i in range(engine_type_ohe.shape[1])])\r\n",
    "\r\n",
    "    fuel_system_ohe = fuel_systemOneHotEncoder.transform(\r\n",
    "        dataframe[['fuel_system']]).toarray()\r\n",
    "    fuel_system_ohe = pd.DataFrame(fuel_system_ohe, columns=[\r\n",
    "                                 \"fuel_system: \"+str(int(i)) for i in range(fuel_system_ohe.shape[1])])\r\n",
    "\r\n",
    "    dataframe = pd.concat([\r\n",
    "        dataframe,\r\n",
    "        make_ohe,\r\n",
    "        fuel_type_ohe,\r\n",
    "        aspiration_ohe,\r\n",
    "        body_style_ohe,\r\n",
    "        drive_wheels_ohe,\r\n",
    "        engine_location_ohe,\r\n",
    "        engine_type_ohe,\r\n",
    "        fuel_system_ohe], axis=1)\r\n",
    "\r\n",
    "    dataframe = dataframe.drop([\r\n",
    "        'number_of_doors',\r\n",
    "        'make',\r\n",
    "        'fuel_type',\r\n",
    "        'aspiration',\r\n",
    "        'body_style',\r\n",
    "        'drive_wheels',\r\n",
    "        'engine_location',\r\n",
    "        'engine_type',\r\n",
    "        'fuel_system'\r\n",
    "    ], axis=1)\r\n",
    "\r\n",
    "    scaled_data = scaler.transform(dataframe[dataframe.columns])\r\n",
    "\r\n",
    "    return pd.DataFrame(scaled_data, columns=dataframe.columns)"
   ],
   "outputs": [],
   "metadata": {}
  },
  {
   "cell_type": "code",
   "execution_count": 353,
   "source": [
    "df_cleaned_x = df.drop(['price'], axis=1)\r\n",
    "\r\n",
    "vehicle1 = pd.DataFrame([[-1, 50, 'renault', 'gas', 'std', 'two', 'hatchback', 'fwd', 'front', 89.7, 161, 66, 52.3, 1837, 'ohc', 'four', 79,  '1bbl', 2.91, 3.07, 10.1, 80, 5500, 38, 42]], columns=df_cleaned_x.columns)\r\n",
    "vehicle2 = pd.DataFrame([[1, 100, 'audi', 'gas', 'std', 'four', 'sedan', '4wd', 'front', 111.2, 176.8, 64.8, 54.3, 2710, 'ohc', 'six', 164, 'mpfi', 3.31, 3.19, 9, 120, 4250, 21, 28]], columns=df_cleaned_x.columns)\r\n",
    "vehicle3 = pd.DataFrame([[3, 150, 'alfa-romero', 'gas', 'turbo', 'two', 'sedan', 'rwd', 'rear', 103, 191.7, 70.6, 47.8, 3950, 'ohcv', 'twelve', 326, 'mpfi', 3.54, 2.76, 11.5, 200, 5000, 13, 17]], columns=df_cleaned_x.columns)\r\n",
    "\r\n",
    "vehicle1 = transform(vehicle1)\r\n",
    "vehicle2 = transform(vehicle2)\r\n",
    "vehicle3 = transform(vehicle3)\r\n",
    "\r\n",
    "predictvehicle1 = randomForest.predict(vehicle1)\r\n",
    "predictvehicle2 = randomForest.predict(vehicle2)\r\n",
    "predictvehicle3 = randomForest.predict(vehicle3)\r\n",
    "\r\n",
    "print(\"O valor do veículo (Baixo custo): \", predictvehicle1[0])\r\n",
    "print(\"O valor do veículo (Médio custo): \", predictvehicle2[0])\r\n",
    "print(\"O valor do veículo (Alto custo): \", predictvehicle3[0])"
   ],
   "outputs": [
    {
     "output_type": "stream",
     "name": "stdout",
     "text": [
      "O valor do veículo (Baixo custo):  22577.37333333333\n",
      "O valor do veículo (Médio custo):  25886.8\n",
      "O valor do veículo (Alto custo):  28557.635\n"
     ]
    }
   ],
   "metadata": {}
  },
  {
   "cell_type": "markdown",
   "source": [
    "**Pergunta:** Qual foi o resultado obtido? O resultado está coerente com o esperado?\r\n",
    "\r\n",
    "## 📝Resposta\r\n",
    "\r\n",
    "Como resultado obtivemos:\r\n",
    "\r\n",
    "- Valor do veículo 1 [Baixo custo]: $ XXX.XX\r\n",
    "\r\n",
    "- Valor do veículo 2 [Médio custo]: $ XXX.XX\r\n",
    "\r\n",
    "- Valor do veículo 3 [Alto custo]:  $ XXX.XX\r\n",
    "\r\n",
    "Sim, os valores estão dentro das faixas esperadas."
   ],
   "metadata": {}
  },
  {
   "cell_type": "markdown",
   "source": [
    "## 6. Conclusões finais\n",
    "\n",
    "Ufa!!... Chegamos ao final deste projeto. Parabéns! De forma simplificada e completa passamos por todas as etapas de aprendizado de maquina. Outras etapas podem ser adicionadas no tratamento dos dados e desenvolvimento do modelo."
   ],
   "metadata": {}
  },
  {
   "cell_type": "markdown",
   "source": [
    "**Pergunta:**: O modelo desenvolvido obteve um resultado satisfatório? Justifique:\n",
    "\n",
    "**Resposta**: Sim..."
   ],
   "metadata": {}
  },
  {
   "cell_type": "markdown",
   "source": [
    "**Pergunta:**: O que faria diferente para melhorar resultado obtido? Justifique:\n",
    "\n",
    "**Resposta**: Aplicariamos uma maior diversidade de modelos de regressão para verificar se algum se adequaria melhor ao contexto dos dados, análise de outras técnicas de tratamento de outliers, como por exemplo Elliptic Envelope e Local Outlier, o tuning do algoritmo com outras combinações de parâmetros e a técnica de PCA para reducação da dimensionalidade do conjunto de dados."
   ],
   "metadata": {
    "collapsed": true
   }
  },
  {
   "cell_type": "markdown",
   "source": [
    "**Pergunta:**: As etapas de desenvolvimento se aplicam para um problema de classificação? Justifique:\n",
    "\n",
    "**Resposta**: Como o objetivo deste modelo de aprendizado de máquina é calcular o valor de uma variável numérica referente ao preço de um veículo, sendo um dado não categórico, um modelo de classificação não se aplica. Caso estivessemos tentando identificar o público alvo ideal para um veículo, por exemplo, o modelo de classificação se aplicaria."
   ],
   "metadata": {}
  },
  {
   "cell_type": "markdown",
   "source": [
    "## Referências\n",
    "\n",
    "- [https://scikit-learn.org/stable/auto_examples/model_selection/plot_randomized_search.html](https://scikit-learn.org/stable/auto_examples/model_selection/plot_randomized_search.html)\n",
    "- [https://scikit-learn.org/stable/modules/generated/sklearn.model_selection.RandomizedSearchCV.html](https://scikit-learn.org/stable/modules/generated/sklearn.model_selection.RandomizedSearchCV.html)\n",
    "- [https://towardsdatascience.com/4-machine-learning-techniques-for-outlier-detection-in-python-21e9cfacb81d](https://towardsdatascience.com/4-machine-learning-techniques-for-outlier-detection-in-python-21e9cfacb81d)"
   ],
   "metadata": {}
  }
 ],
 "metadata": {
  "interpreter": {
   "hash": "5f7a2d2074bca003b23aa43f9d37ee72bf0bfcade17f1cdebb33b3aea67c0548"
  },
  "kernelspec": {
   "name": "python3",
   "display_name": "Python 3.7.0 64-bit"
  },
  "language_info": {
   "codemirror_mode": {
    "name": "ipython",
    "version": 3
   },
   "file_extension": ".py",
   "mimetype": "text/x-python",
   "name": "python",
   "nbconvert_exporter": "python",
   "pygments_lexer": "ipython3",
   "version": "3.7.0"
  }
 },
 "nbformat": 4,
 "nbformat_minor": 2
}