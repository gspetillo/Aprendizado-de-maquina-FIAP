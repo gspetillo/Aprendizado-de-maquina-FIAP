{
 "cells": [
  {
   "cell_type": "markdown",
   "source": [
    "# NAC3 - Aprendizado de máquina\r\n",
    "\r\n",
    "Nesta nac vamos desenvolver um modelo preditivo do valor do carro.\r\n",
    "\r\n",
    "\r\n",
    "Dica: Siga todas as instruções, completando e construindo os algoritmos necessários.\r\n",
    "\r\n",
    "Nas celulas **Seu Código aqui...** significa que é necessário realizar a implementação de algum código. Utilize quantos blocos julgar necessário para criar o código.\r\n",
    "\r\n",
    "Nas celulas **Responda** significa que é nessário uma resposta clara e objetiva (pode ser por texto, gráfico, imagem...) para a pergunta.\r\n",
    "\r\n",
    "\r\n",
    "## Informações do grupo\r\n",
    "\r\n",
    "Este projeto poderá ser feito por grupos de `até 2 alunos`.\r\n",
    "\r\n",
    "| Nome dos Integrantes             | RM             | Turma   |\r\n",
    "| :------------------------------- | :------------- | :-----: |\r\n",
    "| Gabriel Siqueira Petillo         | RM 81238       |  4SIA   |\r\n",
    "| Jean Jacques Nascimento Barros   | RM 81524       |  4SIA   |\r\n",
    "\r\n",
    "\r\n",
    "## Data de entrega final\r\n",
    "\r\n",
    "Será considerado para avaliação e correção o ultimo commit do `**dia 16/09/2021**`\r\n",
    "\r\n",
    "Responda o `Google forms` :   [LINK FORMULARIO](https://forms.gle/2iivfbMVToXwe9Wc6).\r\n",
    "\r\n",
    "\r\n",
    "## Rubrica \r\n",
    "\r\n",
    "Os critérios de avaliação do projeto será conforme a rubrica.\r\n",
    "\r\n",
    "\r\n",
    "- R1: Exploração de Dados (Até 1 ponto)\r\n",
    "- R2: Preparação de Dados (Até 2 ponto)\r\n",
    "- R3: Desenvolvimento do Modelo (Até 2 ponto)\r\n",
    "- R4: Treinamento e Teste do Modelo (Até 1 ponto)\r\n",
    "- R5: Validação e Otimização do Modelo (Até 2 ponto)\r\n",
    "- R6: Conclusões Finais (Até 2 ponto)\r\n",
    "\r\n",
    "Nota_final = R1 + R2 + R3 + R4 + R5 + R6"
   ],
   "metadata": {}
  },
  {
   "cell_type": "markdown",
   "source": [
    "## 1. Exploração de Dados"
   ],
   "metadata": {}
  },
  {
   "cell_type": "markdown",
   "source": [
    "Os dados que serão utilizados extraídos do Kaggle deste [dataset](https://www.kaggle.com/nisargpatel/automobiles/data).\r\n",
    "\r\n",
    "Carregue o dataset \"Automobile.csv\" e faça uma inspeção nas 15 primeiras linhas para identificação básica dos atributos."
   ],
   "metadata": {}
  },
  {
   "cell_type": "code",
   "execution_count": 477,
   "source": [
    "import seaborn as sns\r\n",
    "import matplotlib.pyplot as plt\r\n",
    "import pandas as pd\r\n",
    "import numpy as np\r\n",
    "\r\n",
    "%matplotlib inline"
   ],
   "outputs": [],
   "metadata": {
    "collapsed": true
   }
  },
  {
   "cell_type": "code",
   "execution_count": 478,
   "source": [
    "#Seu Código aqui....\r\n",
    "url_db= 'Automobile.csv'\r\n",
    "df = pd.read_csv(url_db, header=0)\r\n",
    "\r\n",
    "pd.set_option('display.max_columns', 75)\r\n",
    "df.head(15)"
   ],
   "outputs": [
    {
     "output_type": "execute_result",
     "data": {
      "text/html": [
       "<div>\n",
       "<style scoped>\n",
       "    .dataframe tbody tr th:only-of-type {\n",
       "        vertical-align: middle;\n",
       "    }\n",
       "\n",
       "    .dataframe tbody tr th {\n",
       "        vertical-align: top;\n",
       "    }\n",
       "\n",
       "    .dataframe thead th {\n",
       "        text-align: right;\n",
       "    }\n",
       "</style>\n",
       "<table border=\"1\" class=\"dataframe\">\n",
       "  <thead>\n",
       "    <tr style=\"text-align: right;\">\n",
       "      <th></th>\n",
       "      <th>symboling</th>\n",
       "      <th>normalized_losses</th>\n",
       "      <th>make</th>\n",
       "      <th>fuel_type</th>\n",
       "      <th>aspiration</th>\n",
       "      <th>number_of_doors</th>\n",
       "      <th>body_style</th>\n",
       "      <th>drive_wheels</th>\n",
       "      <th>engine_location</th>\n",
       "      <th>wheel_base</th>\n",
       "      <th>length</th>\n",
       "      <th>width</th>\n",
       "      <th>height</th>\n",
       "      <th>curb_weight</th>\n",
       "      <th>engine_type</th>\n",
       "      <th>number_of_cylinders</th>\n",
       "      <th>engine_size</th>\n",
       "      <th>fuel_system</th>\n",
       "      <th>bore</th>\n",
       "      <th>stroke</th>\n",
       "      <th>compression_ratio</th>\n",
       "      <th>horsepower</th>\n",
       "      <th>peak_rpm</th>\n",
       "      <th>city_mpg</th>\n",
       "      <th>highway_mpg</th>\n",
       "      <th>price</th>\n",
       "    </tr>\n",
       "  </thead>\n",
       "  <tbody>\n",
       "    <tr>\n",
       "      <th>0</th>\n",
       "      <td>3</td>\n",
       "      <td>168</td>\n",
       "      <td>alfa-romero</td>\n",
       "      <td>gas</td>\n",
       "      <td>std</td>\n",
       "      <td>two</td>\n",
       "      <td>convertible</td>\n",
       "      <td>rwd</td>\n",
       "      <td>front</td>\n",
       "      <td>88.6</td>\n",
       "      <td>168.8</td>\n",
       "      <td>64.1</td>\n",
       "      <td>48.8</td>\n",
       "      <td>2548</td>\n",
       "      <td>dohc</td>\n",
       "      <td>four</td>\n",
       "      <td>130</td>\n",
       "      <td>mpfi</td>\n",
       "      <td>3.47</td>\n",
       "      <td>2.68</td>\n",
       "      <td>9.0</td>\n",
       "      <td>111</td>\n",
       "      <td>5000</td>\n",
       "      <td>21</td>\n",
       "      <td>27</td>\n",
       "      <td>13495</td>\n",
       "    </tr>\n",
       "    <tr>\n",
       "      <th>1</th>\n",
       "      <td>3</td>\n",
       "      <td>168</td>\n",
       "      <td>alfa-romero</td>\n",
       "      <td>gas</td>\n",
       "      <td>std</td>\n",
       "      <td>two</td>\n",
       "      <td>convertible</td>\n",
       "      <td>rwd</td>\n",
       "      <td>front</td>\n",
       "      <td>88.6</td>\n",
       "      <td>168.8</td>\n",
       "      <td>64.1</td>\n",
       "      <td>48.8</td>\n",
       "      <td>2548</td>\n",
       "      <td>dohc</td>\n",
       "      <td>four</td>\n",
       "      <td>130</td>\n",
       "      <td>mpfi</td>\n",
       "      <td>3.47</td>\n",
       "      <td>2.68</td>\n",
       "      <td>9.0</td>\n",
       "      <td>111</td>\n",
       "      <td>5000</td>\n",
       "      <td>21</td>\n",
       "      <td>27</td>\n",
       "      <td>16500</td>\n",
       "    </tr>\n",
       "    <tr>\n",
       "      <th>2</th>\n",
       "      <td>1</td>\n",
       "      <td>168</td>\n",
       "      <td>alfa-romero</td>\n",
       "      <td>gas</td>\n",
       "      <td>std</td>\n",
       "      <td>two</td>\n",
       "      <td>hatchback</td>\n",
       "      <td>rwd</td>\n",
       "      <td>front</td>\n",
       "      <td>94.5</td>\n",
       "      <td>171.2</td>\n",
       "      <td>65.5</td>\n",
       "      <td>52.4</td>\n",
       "      <td>2823</td>\n",
       "      <td>ohcv</td>\n",
       "      <td>six</td>\n",
       "      <td>152</td>\n",
       "      <td>mpfi</td>\n",
       "      <td>2.68</td>\n",
       "      <td>3.47</td>\n",
       "      <td>9.0</td>\n",
       "      <td>154</td>\n",
       "      <td>5000</td>\n",
       "      <td>19</td>\n",
       "      <td>26</td>\n",
       "      <td>16500</td>\n",
       "    </tr>\n",
       "    <tr>\n",
       "      <th>3</th>\n",
       "      <td>2</td>\n",
       "      <td>164</td>\n",
       "      <td>audi</td>\n",
       "      <td>gas</td>\n",
       "      <td>std</td>\n",
       "      <td>four</td>\n",
       "      <td>sedan</td>\n",
       "      <td>fwd</td>\n",
       "      <td>front</td>\n",
       "      <td>99.8</td>\n",
       "      <td>176.6</td>\n",
       "      <td>66.2</td>\n",
       "      <td>54.3</td>\n",
       "      <td>2337</td>\n",
       "      <td>ohc</td>\n",
       "      <td>four</td>\n",
       "      <td>109</td>\n",
       "      <td>mpfi</td>\n",
       "      <td>3.19</td>\n",
       "      <td>3.40</td>\n",
       "      <td>10.0</td>\n",
       "      <td>102</td>\n",
       "      <td>5500</td>\n",
       "      <td>24</td>\n",
       "      <td>30</td>\n",
       "      <td>13950</td>\n",
       "    </tr>\n",
       "    <tr>\n",
       "      <th>4</th>\n",
       "      <td>2</td>\n",
       "      <td>164</td>\n",
       "      <td>audi</td>\n",
       "      <td>gas</td>\n",
       "      <td>std</td>\n",
       "      <td>four</td>\n",
       "      <td>sedan</td>\n",
       "      <td>4wd</td>\n",
       "      <td>front</td>\n",
       "      <td>99.4</td>\n",
       "      <td>176.6</td>\n",
       "      <td>66.4</td>\n",
       "      <td>54.3</td>\n",
       "      <td>2824</td>\n",
       "      <td>ohc</td>\n",
       "      <td>five</td>\n",
       "      <td>136</td>\n",
       "      <td>mpfi</td>\n",
       "      <td>3.19</td>\n",
       "      <td>3.40</td>\n",
       "      <td>8.0</td>\n",
       "      <td>115</td>\n",
       "      <td>5500</td>\n",
       "      <td>18</td>\n",
       "      <td>22</td>\n",
       "      <td>17450</td>\n",
       "    </tr>\n",
       "    <tr>\n",
       "      <th>5</th>\n",
       "      <td>2</td>\n",
       "      <td>161</td>\n",
       "      <td>audi</td>\n",
       "      <td>gas</td>\n",
       "      <td>std</td>\n",
       "      <td>two</td>\n",
       "      <td>sedan</td>\n",
       "      <td>fwd</td>\n",
       "      <td>front</td>\n",
       "      <td>99.8</td>\n",
       "      <td>177.3</td>\n",
       "      <td>66.3</td>\n",
       "      <td>53.1</td>\n",
       "      <td>2507</td>\n",
       "      <td>ohc</td>\n",
       "      <td>five</td>\n",
       "      <td>136</td>\n",
       "      <td>mpfi</td>\n",
       "      <td>3.19</td>\n",
       "      <td>3.40</td>\n",
       "      <td>8.5</td>\n",
       "      <td>110</td>\n",
       "      <td>5500</td>\n",
       "      <td>19</td>\n",
       "      <td>25</td>\n",
       "      <td>15250</td>\n",
       "    </tr>\n",
       "    <tr>\n",
       "      <th>6</th>\n",
       "      <td>1</td>\n",
       "      <td>158</td>\n",
       "      <td>audi</td>\n",
       "      <td>gas</td>\n",
       "      <td>std</td>\n",
       "      <td>four</td>\n",
       "      <td>sedan</td>\n",
       "      <td>fwd</td>\n",
       "      <td>front</td>\n",
       "      <td>105.8</td>\n",
       "      <td>192.7</td>\n",
       "      <td>71.4</td>\n",
       "      <td>55.7</td>\n",
       "      <td>2844</td>\n",
       "      <td>ohc</td>\n",
       "      <td>five</td>\n",
       "      <td>136</td>\n",
       "      <td>mpfi</td>\n",
       "      <td>3.19</td>\n",
       "      <td>3.40</td>\n",
       "      <td>8.5</td>\n",
       "      <td>110</td>\n",
       "      <td>5500</td>\n",
       "      <td>19</td>\n",
       "      <td>25</td>\n",
       "      <td>17710</td>\n",
       "    </tr>\n",
       "    <tr>\n",
       "      <th>7</th>\n",
       "      <td>1</td>\n",
       "      <td>168</td>\n",
       "      <td>audi</td>\n",
       "      <td>gas</td>\n",
       "      <td>std</td>\n",
       "      <td>four</td>\n",
       "      <td>wagon</td>\n",
       "      <td>fwd</td>\n",
       "      <td>front</td>\n",
       "      <td>105.8</td>\n",
       "      <td>192.7</td>\n",
       "      <td>71.4</td>\n",
       "      <td>55.7</td>\n",
       "      <td>2954</td>\n",
       "      <td>ohc</td>\n",
       "      <td>five</td>\n",
       "      <td>136</td>\n",
       "      <td>mpfi</td>\n",
       "      <td>3.19</td>\n",
       "      <td>3.40</td>\n",
       "      <td>8.5</td>\n",
       "      <td>110</td>\n",
       "      <td>5500</td>\n",
       "      <td>19</td>\n",
       "      <td>25</td>\n",
       "      <td>18920</td>\n",
       "    </tr>\n",
       "    <tr>\n",
       "      <th>8</th>\n",
       "      <td>1</td>\n",
       "      <td>158</td>\n",
       "      <td>audi</td>\n",
       "      <td>gas</td>\n",
       "      <td>turbo</td>\n",
       "      <td>four</td>\n",
       "      <td>sedan</td>\n",
       "      <td>fwd</td>\n",
       "      <td>front</td>\n",
       "      <td>105.8</td>\n",
       "      <td>192.7</td>\n",
       "      <td>71.4</td>\n",
       "      <td>55.9</td>\n",
       "      <td>3086</td>\n",
       "      <td>ohc</td>\n",
       "      <td>five</td>\n",
       "      <td>131</td>\n",
       "      <td>mpfi</td>\n",
       "      <td>3.13</td>\n",
       "      <td>3.40</td>\n",
       "      <td>8.3</td>\n",
       "      <td>140</td>\n",
       "      <td>5500</td>\n",
       "      <td>17</td>\n",
       "      <td>20</td>\n",
       "      <td>23875</td>\n",
       "    </tr>\n",
       "    <tr>\n",
       "      <th>9</th>\n",
       "      <td>2</td>\n",
       "      <td>192</td>\n",
       "      <td>bmw</td>\n",
       "      <td>gas</td>\n",
       "      <td>std</td>\n",
       "      <td>two</td>\n",
       "      <td>sedan</td>\n",
       "      <td>rwd</td>\n",
       "      <td>front</td>\n",
       "      <td>101.2</td>\n",
       "      <td>176.8</td>\n",
       "      <td>64.8</td>\n",
       "      <td>54.3</td>\n",
       "      <td>2395</td>\n",
       "      <td>ohc</td>\n",
       "      <td>four</td>\n",
       "      <td>108</td>\n",
       "      <td>mpfi</td>\n",
       "      <td>3.50</td>\n",
       "      <td>2.80</td>\n",
       "      <td>8.8</td>\n",
       "      <td>101</td>\n",
       "      <td>5800</td>\n",
       "      <td>23</td>\n",
       "      <td>29</td>\n",
       "      <td>16430</td>\n",
       "    </tr>\n",
       "    <tr>\n",
       "      <th>10</th>\n",
       "      <td>0</td>\n",
       "      <td>192</td>\n",
       "      <td>bmw</td>\n",
       "      <td>gas</td>\n",
       "      <td>std</td>\n",
       "      <td>four</td>\n",
       "      <td>sedan</td>\n",
       "      <td>rwd</td>\n",
       "      <td>front</td>\n",
       "      <td>101.2</td>\n",
       "      <td>176.8</td>\n",
       "      <td>64.8</td>\n",
       "      <td>54.3</td>\n",
       "      <td>2395</td>\n",
       "      <td>ohc</td>\n",
       "      <td>four</td>\n",
       "      <td>108</td>\n",
       "      <td>mpfi</td>\n",
       "      <td>3.50</td>\n",
       "      <td>2.80</td>\n",
       "      <td>8.8</td>\n",
       "      <td>101</td>\n",
       "      <td>5800</td>\n",
       "      <td>23</td>\n",
       "      <td>29</td>\n",
       "      <td>16925</td>\n",
       "    </tr>\n",
       "    <tr>\n",
       "      <th>11</th>\n",
       "      <td>0</td>\n",
       "      <td>188</td>\n",
       "      <td>bmw</td>\n",
       "      <td>gas</td>\n",
       "      <td>std</td>\n",
       "      <td>two</td>\n",
       "      <td>sedan</td>\n",
       "      <td>rwd</td>\n",
       "      <td>front</td>\n",
       "      <td>101.2</td>\n",
       "      <td>176.8</td>\n",
       "      <td>64.8</td>\n",
       "      <td>54.3</td>\n",
       "      <td>2710</td>\n",
       "      <td>ohc</td>\n",
       "      <td>six</td>\n",
       "      <td>164</td>\n",
       "      <td>mpfi</td>\n",
       "      <td>3.31</td>\n",
       "      <td>3.19</td>\n",
       "      <td>9.0</td>\n",
       "      <td>121</td>\n",
       "      <td>4250</td>\n",
       "      <td>21</td>\n",
       "      <td>28</td>\n",
       "      <td>20970</td>\n",
       "    </tr>\n",
       "    <tr>\n",
       "      <th>12</th>\n",
       "      <td>0</td>\n",
       "      <td>188</td>\n",
       "      <td>bmw</td>\n",
       "      <td>gas</td>\n",
       "      <td>std</td>\n",
       "      <td>four</td>\n",
       "      <td>sedan</td>\n",
       "      <td>rwd</td>\n",
       "      <td>front</td>\n",
       "      <td>101.2</td>\n",
       "      <td>176.8</td>\n",
       "      <td>64.8</td>\n",
       "      <td>54.3</td>\n",
       "      <td>2765</td>\n",
       "      <td>ohc</td>\n",
       "      <td>six</td>\n",
       "      <td>164</td>\n",
       "      <td>mpfi</td>\n",
       "      <td>3.31</td>\n",
       "      <td>3.19</td>\n",
       "      <td>9.0</td>\n",
       "      <td>121</td>\n",
       "      <td>4250</td>\n",
       "      <td>21</td>\n",
       "      <td>28</td>\n",
       "      <td>21105</td>\n",
       "    </tr>\n",
       "    <tr>\n",
       "      <th>13</th>\n",
       "      <td>1</td>\n",
       "      <td>149</td>\n",
       "      <td>bmw</td>\n",
       "      <td>gas</td>\n",
       "      <td>std</td>\n",
       "      <td>four</td>\n",
       "      <td>sedan</td>\n",
       "      <td>rwd</td>\n",
       "      <td>front</td>\n",
       "      <td>103.5</td>\n",
       "      <td>189.0</td>\n",
       "      <td>66.9</td>\n",
       "      <td>55.7</td>\n",
       "      <td>3055</td>\n",
       "      <td>ohc</td>\n",
       "      <td>six</td>\n",
       "      <td>164</td>\n",
       "      <td>mpfi</td>\n",
       "      <td>3.31</td>\n",
       "      <td>3.19</td>\n",
       "      <td>9.0</td>\n",
       "      <td>121</td>\n",
       "      <td>4250</td>\n",
       "      <td>20</td>\n",
       "      <td>25</td>\n",
       "      <td>24565</td>\n",
       "    </tr>\n",
       "    <tr>\n",
       "      <th>14</th>\n",
       "      <td>0</td>\n",
       "      <td>149</td>\n",
       "      <td>bmw</td>\n",
       "      <td>gas</td>\n",
       "      <td>std</td>\n",
       "      <td>four</td>\n",
       "      <td>sedan</td>\n",
       "      <td>rwd</td>\n",
       "      <td>front</td>\n",
       "      <td>103.5</td>\n",
       "      <td>189.0</td>\n",
       "      <td>66.9</td>\n",
       "      <td>55.7</td>\n",
       "      <td>3230</td>\n",
       "      <td>ohc</td>\n",
       "      <td>six</td>\n",
       "      <td>209</td>\n",
       "      <td>mpfi</td>\n",
       "      <td>3.62</td>\n",
       "      <td>3.39</td>\n",
       "      <td>8.0</td>\n",
       "      <td>182</td>\n",
       "      <td>5400</td>\n",
       "      <td>16</td>\n",
       "      <td>22</td>\n",
       "      <td>30760</td>\n",
       "    </tr>\n",
       "  </tbody>\n",
       "</table>\n",
       "</div>"
      ],
      "text/plain": [
       "    symboling  normalized_losses         make fuel_type aspiration  \\\n",
       "0           3                168  alfa-romero       gas        std   \n",
       "1           3                168  alfa-romero       gas        std   \n",
       "2           1                168  alfa-romero       gas        std   \n",
       "3           2                164         audi       gas        std   \n",
       "4           2                164         audi       gas        std   \n",
       "5           2                161         audi       gas        std   \n",
       "6           1                158         audi       gas        std   \n",
       "7           1                168         audi       gas        std   \n",
       "8           1                158         audi       gas      turbo   \n",
       "9           2                192          bmw       gas        std   \n",
       "10          0                192          bmw       gas        std   \n",
       "11          0                188          bmw       gas        std   \n",
       "12          0                188          bmw       gas        std   \n",
       "13          1                149          bmw       gas        std   \n",
       "14          0                149          bmw       gas        std   \n",
       "\n",
       "   number_of_doors   body_style drive_wheels engine_location  wheel_base  \\\n",
       "0              two  convertible          rwd           front        88.6   \n",
       "1              two  convertible          rwd           front        88.6   \n",
       "2              two    hatchback          rwd           front        94.5   \n",
       "3             four        sedan          fwd           front        99.8   \n",
       "4             four        sedan          4wd           front        99.4   \n",
       "5              two        sedan          fwd           front        99.8   \n",
       "6             four        sedan          fwd           front       105.8   \n",
       "7             four        wagon          fwd           front       105.8   \n",
       "8             four        sedan          fwd           front       105.8   \n",
       "9              two        sedan          rwd           front       101.2   \n",
       "10            four        sedan          rwd           front       101.2   \n",
       "11             two        sedan          rwd           front       101.2   \n",
       "12            four        sedan          rwd           front       101.2   \n",
       "13            four        sedan          rwd           front       103.5   \n",
       "14            four        sedan          rwd           front       103.5   \n",
       "\n",
       "    length  width  height  curb_weight engine_type number_of_cylinders  \\\n",
       "0    168.8   64.1    48.8         2548        dohc                four   \n",
       "1    168.8   64.1    48.8         2548        dohc                four   \n",
       "2    171.2   65.5    52.4         2823        ohcv                 six   \n",
       "3    176.6   66.2    54.3         2337         ohc                four   \n",
       "4    176.6   66.4    54.3         2824         ohc                five   \n",
       "5    177.3   66.3    53.1         2507         ohc                five   \n",
       "6    192.7   71.4    55.7         2844         ohc                five   \n",
       "7    192.7   71.4    55.7         2954         ohc                five   \n",
       "8    192.7   71.4    55.9         3086         ohc                five   \n",
       "9    176.8   64.8    54.3         2395         ohc                four   \n",
       "10   176.8   64.8    54.3         2395         ohc                four   \n",
       "11   176.8   64.8    54.3         2710         ohc                 six   \n",
       "12   176.8   64.8    54.3         2765         ohc                 six   \n",
       "13   189.0   66.9    55.7         3055         ohc                 six   \n",
       "14   189.0   66.9    55.7         3230         ohc                 six   \n",
       "\n",
       "    engine_size fuel_system  bore  stroke  compression_ratio  horsepower  \\\n",
       "0           130        mpfi  3.47    2.68                9.0         111   \n",
       "1           130        mpfi  3.47    2.68                9.0         111   \n",
       "2           152        mpfi  2.68    3.47                9.0         154   \n",
       "3           109        mpfi  3.19    3.40               10.0         102   \n",
       "4           136        mpfi  3.19    3.40                8.0         115   \n",
       "5           136        mpfi  3.19    3.40                8.5         110   \n",
       "6           136        mpfi  3.19    3.40                8.5         110   \n",
       "7           136        mpfi  3.19    3.40                8.5         110   \n",
       "8           131        mpfi  3.13    3.40                8.3         140   \n",
       "9           108        mpfi  3.50    2.80                8.8         101   \n",
       "10          108        mpfi  3.50    2.80                8.8         101   \n",
       "11          164        mpfi  3.31    3.19                9.0         121   \n",
       "12          164        mpfi  3.31    3.19                9.0         121   \n",
       "13          164        mpfi  3.31    3.19                9.0         121   \n",
       "14          209        mpfi  3.62    3.39                8.0         182   \n",
       "\n",
       "    peak_rpm  city_mpg  highway_mpg  price  \n",
       "0       5000        21           27  13495  \n",
       "1       5000        21           27  16500  \n",
       "2       5000        19           26  16500  \n",
       "3       5500        24           30  13950  \n",
       "4       5500        18           22  17450  \n",
       "5       5500        19           25  15250  \n",
       "6       5500        19           25  17710  \n",
       "7       5500        19           25  18920  \n",
       "8       5500        17           20  23875  \n",
       "9       5800        23           29  16430  \n",
       "10      5800        23           29  16925  \n",
       "11      4250        21           28  20970  \n",
       "12      4250        21           28  21105  \n",
       "13      4250        20           25  24565  \n",
       "14      5400        16           22  30760  "
      ]
     },
     "metadata": {},
     "execution_count": 478
    }
   ],
   "metadata": {
    "collapsed": true
   }
  },
  {
   "cell_type": "markdown",
   "source": [
    "**Pergunta:** Apresente uma relação das coluna e seu significado:\r\n",
    "\r\n",
    "Exemplo: \r\n",
    "\r\n",
    "- make: fabricante\r\n",
    "- fuel_type: tipo de combustível\r\n",
    "- price: preço (**Variável Alvo, atributo que será predito pelo modelo de ML**)"
   ],
   "metadata": {}
  },
  {
   "cell_type": "markdown",
   "source": [
    "**Responda**\r\n",
    "\r\n",
    "- **symboling**: grau de risco de seguro\r\n",
    "- **normalized_losses**: média de depreciação do veículo ao ano\r\n",
    "- **make**: marca fabricante\r\n",
    "- **fuel_type**: tipo de combustível\r\n",
    "- **aspiration**: forma de mistura ar-combustível\r\n",
    "- **number_of_doors**: quantidade de portas\r\n",
    "- **body_style**: tipo de carroceria\r\n",
    "- **drive_wheels**: tipo de tração\r\n",
    "- **engine_location**: posição do motor\r\n",
    "- **wheel_base**: distância entre os eixos\r\n",
    "- **length**: comprimento do veículo\r\n",
    "- **width**: largura do veículo\r\n",
    "- **height**: peso do veículo\r\n",
    "- **curb_weight**: peso padrão do veículo (sem carga)\r\n",
    "- **engine_type**: tipo de motor\r\n",
    "- **number_of_cylinders**: quantidade de cilindros\r\n",
    "- **engine_size**: tamanho do motor\r\n",
    "- **fuel_system**: sistema de injeção de combustível\r\n",
    "- **bore**: diâmetro do cilindro do motor\r\n",
    "- **stroke**: distância de movimento do pistão em um ciclo\r\n",
    "- **compression_ratio**: razão entre o volume do cilindro e a câmara de combustão\r\n",
    "- **horsepower**: cavalos de potência (HP)\r\n",
    "- **peak_rpm** ápice de rotações por minuto (RPM) do motor,\r\n",
    "- **city_mpg**: rendimento de milhas por galão de combustível em ambiente urbano\r\n",
    "- **highway_mpg**: rendimento de milhas por galão de combustível em rodovias\r\n",
    "- **price**: preço do veículo ao consumidor\r\n",
    "\r\n",
    "\r\n",
    "\r\n",
    "\r\n"
   ],
   "metadata": {}
  },
  {
   "cell_type": "markdown",
   "source": [
    "### Análise profunda dos dados\r\n",
    "\r\n",
    "Faça uma análise exploratória dos dados. Utilize-se de gráficos e tabelas auxiliares, faça correlações entre os atributos e levante algumas suposições. "
   ],
   "metadata": {}
  },
  {
   "cell_type": "code",
   "execution_count": 479,
   "source": [
    "# Relação entre o tipo de combustível e o preço\r\n",
    "sns.boxplot(x='fuel_type', y='price', data=df)\r\n",
    "plt.show()"
   ],
   "outputs": [
    {
     "output_type": "display_data",
     "data": {
      "image/png": "[encoded data removed]",
      "text/plain": [
       "<Figure size 432x288 with 1 Axes>"
      ]
     },
     "metadata": {
      "needs_background": "light"
     }
    }
   ],
   "metadata": {
    "collapsed": true
   }
  },
  {
   "cell_type": "code",
   "execution_count": 480,
   "source": [
    "x = df['horsepower']\r\n",
    "y = df['price']\r\n",
    "\r\n",
    "plt.scatter(x, y)\r\n",
    "\r\n",
    "sns.regplot(x='horsepower', y='price', data=df)\r\n",
    "plt.title('1. Horsepower vs Price')\r\n",
    "plt.ylim(0)\r\n",
    "plt.show()"
   ],
   "outputs": [
    {
     "output_type": "display_data",
     "data": {
      "image/png": "[encoded data removed]",
      "text/plain": [
       "<Figure size 432x288 with 1 Axes>"
      ]
     },
     "metadata": {
      "needs_background": "light"
     }
    }
   ],
   "metadata": {}
  },
  {
   "cell_type": "code",
   "execution_count": 481,
   "source": [
    "sns.heatmap(df.corr(), annot=False)\r\n",
    "plt.title('2. Correlation Heatmap')\r\n",
    "plt.show()"
   ],
   "outputs": [
    {
     "output_type": "display_data",
     "data": {
      "image/png": "[encoded data removed]",
      "text/plain": [
       "<Figure size 432x288 with 2 Axes>"
      ]
     },
     "metadata": {
      "needs_background": "light"
     }
    }
   ],
   "metadata": {}
  },
  {
   "cell_type": "code",
   "execution_count": 482,
   "source": [
    "g = sns.lmplot(\r\n",
    "    data=df,\r\n",
    "    x='horsepower', y='price', hue='number_of_doors',\r\n",
    "    height=5\r\n",
    ")\r\n",
    "\r\n",
    "g.set(xlabel='horsepower', ylabel='price', title='3. Horsepower vs Price by Number of Doors')"
   ],
   "outputs": [
    {
     "output_type": "execute_result",
     "data": {
      "text/plain": [
       "<seaborn.axisgrid.FacetGrid at 0x24855a802e8>"
      ]
     },
     "metadata": {},
     "execution_count": 482
    },
    {
     "output_type": "display_data",
     "data": {
      "image/png": "[encoded data removed]",
      "text/plain": [
       "<Figure size 462.675x360 with 1 Axes>"
      ]
     },
     "metadata": {
      "needs_background": "light"
     }
    }
   ],
   "metadata": {}
  },
  {
   "cell_type": "code",
   "execution_count": 483,
   "source": [
    "g = sns.lmplot(\r\n",
    "    data=df,\r\n",
    "    x='horsepower', y='price', hue='drive_wheels',\r\n",
    "    height=5\r\n",
    ")\r\n",
    "\r\n",
    "g.set(xlabel='horsepower', ylabel='price', title='4. Horsepower vs Price by Drive Wheels')"
   ],
   "outputs": [
    {
     "output_type": "execute_result",
     "data": {
      "text/plain": [
       "<seaborn.axisgrid.FacetGrid at 0x24855b1b8d0>"
      ]
     },
     "metadata": {},
     "execution_count": 483
    },
    {
     "output_type": "display_data",
     "data": {
      "image/png": "[encoded data removed]",
      "text/plain": [
       "<Figure size 438.8x360 with 1 Axes>"
      ]
     },
     "metadata": {
      "needs_background": "light"
     }
    }
   ],
   "metadata": {}
  },
  {
   "cell_type": "code",
   "execution_count": 484,
   "source": [
    "sns.regplot(x='horsepower', y='city_mpg', data=df)\r\n",
    "plt.title('5. Horsepower vs City MPG')\r\n",
    "plt.ylim(0)\r\n",
    "plt.show()"
   ],
   "outputs": [
    {
     "output_type": "display_data",
     "data": {
      "image/png": "[encoded data removed]",
      "text/plain": [
       "<Figure size 432x288 with 1 Axes>"
      ]
     },
     "metadata": {
      "needs_background": "light"
     }
    }
   ],
   "metadata": {}
  },
  {
   "cell_type": "markdown",
   "source": [
    "**Pergunta:** Cite um exemplo de pelo menos os 3 cenários propostos que corroboram a leitura dos dados apresentados, justique sua resposta."
   ],
   "metadata": {}
  },
  {
   "cell_type": "markdown",
   "source": [
    "## 📝Resposta\r\n",
    "\r\n",
    "### 1. Horsepower vs Price\r\n",
    "- O preço médio dos veículos a diesel tende a ser maior que o preço médio dos veículos a gasolina. Porém, os veículos de maior valor são majoritariamente a gasolina.\r\n",
    "### 2. Correlation Heatmap\r\n",
    "- Existe uma forte correlação entre o comprimento e a largura dos veículos, já que em geral seguem a mesma proporção.\r\n",
    "### 3. Horsepower vs Price by Number of Doors\r\n",
    "- A quantidade de portas não impacta diretamente no preço.\r\n",
    "### 4. Horsepower vs Price by Drive Wheels\r\n",
    "- Carros que tem maior preço e potência são em sua maioria de tração traseira\r\n",
    "### 5. Horsepower vs City MPG\r\n",
    "- O rendimento de um veículo em milhas por galão em ambiente urbano é inversamente proporcional a sua potência, ou seja, um veículo mais potente tem um rendimento menor. Essa afirmação também se aplica no rendimento de veículos em rodovias."
   ],
   "metadata": {}
  },
  {
   "cell_type": "markdown",
   "source": [
    "## 2. Preparação dos Dados"
   ],
   "metadata": {}
  },
  {
   "cell_type": "markdown",
   "source": [
    "### Análise de valores inválidos\r\n",
    "\r\n",
    "Faça a análise de dados ausente, dados nulos e dados iguais a 0(zero). **Lembre-se:** Trate esses dados dentro do contexto de análise e justifique suas escolhas.\r\n",
    " "
   ],
   "metadata": {}
  },
  {
   "cell_type": "markdown",
   "source": [
    "**Resposta:**"
   ],
   "metadata": {}
  },
  {
   "cell_type": "code",
   "execution_count": 485,
   "source": [
    "# filter only object from dataset\r\n",
    "df.info()"
   ],
   "outputs": [
    {
     "output_type": "stream",
     "name": "stdout",
     "text": [
      "<class 'pandas.core.frame.DataFrame'>\n",
      "RangeIndex: 201 entries, 0 to 200\n",
      "Data columns (total 26 columns):\n",
      " #   Column               Non-Null Count  Dtype  \n",
      "---  ------               --------------  -----  \n",
      " 0   symboling            201 non-null    int64  \n",
      " 1   normalized_losses    201 non-null    int64  \n",
      " 2   make                 201 non-null    object \n",
      " 3   fuel_type            201 non-null    object \n",
      " 4   aspiration           201 non-null    object \n",
      " 5   number_of_doors      201 non-null    object \n",
      " 6   body_style           201 non-null    object \n",
      " 7   drive_wheels         201 non-null    object \n",
      " 8   engine_location      201 non-null    object \n",
      " 9   wheel_base           201 non-null    float64\n",
      " 10  length               201 non-null    float64\n",
      " 11  width                201 non-null    float64\n",
      " 12  height               201 non-null    float64\n",
      " 13  curb_weight          201 non-null    int64  \n",
      " 14  engine_type          201 non-null    object \n",
      " 15  number_of_cylinders  201 non-null    object \n",
      " 16  engine_size          201 non-null    int64  \n",
      " 17  fuel_system          201 non-null    object \n",
      " 18  bore                 201 non-null    float64\n",
      " 19  stroke               201 non-null    float64\n",
      " 20  compression_ratio    201 non-null    float64\n",
      " 21  horsepower           201 non-null    int64  \n",
      " 22  peak_rpm             201 non-null    int64  \n",
      " 23  city_mpg             201 non-null    int64  \n",
      " 24  highway_mpg          201 non-null    int64  \n",
      " 25  price                201 non-null    int64  \n",
      "dtypes: float64(7), int64(9), object(10)\n",
      "memory usage: 41.0+ KB\n"
     ]
    }
   ],
   "metadata": {}
  },
  {
   "cell_type": "code",
   "execution_count": 486,
   "source": [
    "#Seu Código aqui...\r\n",
    "df.isnull().sum()"
   ],
   "outputs": [
    {
     "output_type": "execute_result",
     "data": {
      "text/plain": [
       "symboling              0\n",
       "normalized_losses      0\n",
       "make                   0\n",
       "fuel_type              0\n",
       "aspiration             0\n",
       "number_of_doors        0\n",
       "body_style             0\n",
       "drive_wheels           0\n",
       "engine_location        0\n",
       "wheel_base             0\n",
       "length                 0\n",
       "width                  0\n",
       "height                 0\n",
       "curb_weight            0\n",
       "engine_type            0\n",
       "number_of_cylinders    0\n",
       "engine_size            0\n",
       "fuel_system            0\n",
       "bore                   0\n",
       "stroke                 0\n",
       "compression_ratio      0\n",
       "horsepower             0\n",
       "peak_rpm               0\n",
       "city_mpg               0\n",
       "highway_mpg            0\n",
       "price                  0\n",
       "dtype: int64"
      ]
     },
     "metadata": {},
     "execution_count": 486
    }
   ],
   "metadata": {
    "collapsed": true
   }
  },
  {
   "cell_type": "markdown",
   "source": [
    "## 📝Resposta\r\n",
    "- Não há valores nulos ou ausentes em nenhum dos atributos. A coluna symboling apresenta valores \"0\" (zero) pois seu intervalo intervalo varia de -3 a 3, expressando o grau de risco de seguro do veículo, o que é um dado válido."
   ],
   "metadata": {}
  },
  {
   "cell_type": "markdown",
   "source": [
    "### __(BONUS: 1 ponto extra.)__ Análise de Outliers\r\n",
    "\r\n",
    "Realize a análise e o tratamento de **outliers**, como referência para estudo:\r\n",
    "\r\n",
    "* [link1](https://machinelearningmastery.com/model-based-outlier-detection-and-removal-in-python/)\r\n",
    "* [link2](https://towardsdatascience.com/4-machine-learning-techniques-for-outlier-detection-in-python-21e9cfacb81d)\r\n",
    "* [link3](https://minerandodados.com.br/tratando-outliers-python/)\r\n",
    "\r\n",
    "## 📝Resposta"
   ],
   "metadata": {}
  },
  {
   "cell_type": "code",
   "execution_count": 487,
   "source": [
    "from sklearn.linear_model import LinearRegression\r\n",
    "from sklearn.model_selection import train_test_split\r\n",
    "from sklearn.ensemble import IsolationForest\r\n",
    "from sklearn.metrics import mean_absolute_error\r\n",
    "from sklearn.metrics import mean_squared_error\r\n",
    "from sklearn.metrics import r2_score\r\n",
    "\r\n",
    "dataframeNumbersInput = df[[\r\n",
    "    'symboling', \r\n",
    "    'normalized_losses',\r\n",
    "    'wheel_base',\r\n",
    "    'length',\r\n",
    "    'width',\r\n",
    "    'height',\r\n",
    "    'curb_weight',\r\n",
    "    'engine_size',\r\n",
    "    'bore',\r\n",
    "    'stroke',\r\n",
    "    'compression_ratio',\r\n",
    "    'horsepower',\r\n",
    "    'peak_rpm',\r\n",
    "    'city_mpg',\r\n",
    "    'highway_mpg']]\r\n",
    "\r\n",
    "dataframeNumbersOutput = df['price']\r\n",
    "\r\n",
    "isolationForest = IsolationForest(contamination=0.2, random_state=1)\r\n",
    "\r\n",
    "#Estou treinando todos os dados, para que todas as entradas sejam iteradas e o treino separado posteriormente.\r\n",
    "predictIsolationForest = isolationForest.fit_predict(dataframeNumbersInput)\r\n",
    "\r\n",
    "#Este caso serve para obter as estatísticas\r\n",
    "#inputTrain, inputTest, outputTrain, outputTest = train_test_split(dataframeNumbersInput, dataframeNumbersOutput, test_size=0.2, random_state=1)\r\n",
    "#predictIsolationForest = isolationForest.fit_predict(inputTrain)\r\n",
    "\r\n",
    "indexCleanData = predictIsolationForest != -1\r\n",
    "\r\n",
    "\"\"\"\r\n",
    "#Implementação do teste do MAE e MSE\r\n",
    "\r\n",
    "inputTrain, outputTrain = inputTrain[indexCleanData], outputTrain[indexCleanData]\r\n",
    "\r\n",
    "linearRegression = LinearRegression()\r\n",
    "linearRegression.fit(inputTrain, outputTrain)\r\n",
    "\r\n",
    "predictLinearRegression = linearRegression.predict(inputTest)   \r\n",
    "\r\n",
    "print(\"MAE: \", mean_absolute_error(outputTest, predictLinearRegression))\r\n",
    "print(\"RMSE: \", np.sqrt(mean_squared_error(outputTest, predictLinearRegression)))\r\n",
    "print(\"R2-score: \", r2_score(outputTest, predictLinearRegression))\r\n",
    "\"\"\"\r\n",
    "\r\n",
    "#Deixando apenas as linhas sem anomalias\r\n",
    "cleanDataframe = df[indexCleanData]\r\n",
    "cleanDataframe = df.reset_index(drop=True)"
   ],
   "outputs": [],
   "metadata": {}
  },
  {
   "cell_type": "markdown",
   "source": [
    "**Pergunta:** Foram localizados outliers? Qual o método de análise adotado? Se existe, como os dados foram tratados (removidos ou mantidos)? "
   ],
   "metadata": {}
  },
  {
   "cell_type": "markdown",
   "source": [
    "**Resposta:**"
   ],
   "metadata": {}
  },
  {
   "cell_type": "markdown",
   "source": [
    "### Tratamento de dados Paramétricos\r\n",
    "\r\n",
    "Faça o tratamento dos atributos não numéricos. Descubra quais são os atributos não numéricos, faça a análise dos valores desses atributos e manipule de forma conveniente para ser interpretado como um dado numérico. "
   ],
   "metadata": {}
  },
  {
   "cell_type": "code",
   "execution_count": 488,
   "source": [
    "import category_encoders as ce\r\n",
    "\r\n",
    "encoder = ce.OneHotEncoder(cols=[\"fuel_type\", \"aspiration\", \"number_of_doors\", \"body_style\",\r\n",
    "                                \"drive_wheels\", \"engine_location\", \"engine_type\", \"number_of_cylinders\", \"fuel_system\", \"make\"])\r\n",
    "\r\n",
    "def clean_numeric_data(df):\r\n",
    "    df_cleaned = encoder.fit_transform(df)\r\n",
    "    return df_cleaned\r\n",
    "\r\n",
    "df_cleaned = clean_numeric_data(df)\r\n",
    "df_cleaned.head()"
   ],
   "outputs": [
    {
     "output_type": "execute_result",
     "data": {
      "text/html": [
       "<div>\n",
       "<style scoped>\n",
       "    .dataframe tbody tr th:only-of-type {\n",
       "        vertical-align: middle;\n",
       "    }\n",
       "\n",
       "    .dataframe tbody tr th {\n",
       "        vertical-align: top;\n",
       "    }\n",
       "\n",
       "    .dataframe thead th {\n",
       "        text-align: right;\n",
       "    }\n",
       "</style>\n",
       "<table border=\"1\" class=\"dataframe\">\n",
       "  <thead>\n",
       "    <tr style=\"text-align: right;\">\n",
       "      <th></th>\n",
       "      <th>symboling</th>\n",
       "      <th>normalized_losses</th>\n",
       "      <th>make_1</th>\n",
       "      <th>make_2</th>\n",
       "      <th>make_3</th>\n",
       "      <th>make_4</th>\n",
       "      <th>make_5</th>\n",
       "      <th>make_6</th>\n",
       "      <th>make_7</th>\n",
       "      <th>make_8</th>\n",
       "      <th>make_9</th>\n",
       "      <th>make_10</th>\n",
       "      <th>make_11</th>\n",
       "      <th>make_12</th>\n",
       "      <th>make_13</th>\n",
       "      <th>make_14</th>\n",
       "      <th>make_15</th>\n",
       "      <th>make_16</th>\n",
       "      <th>make_17</th>\n",
       "      <th>make_18</th>\n",
       "      <th>make_19</th>\n",
       "      <th>make_20</th>\n",
       "      <th>make_21</th>\n",
       "      <th>make_22</th>\n",
       "      <th>fuel_type_1</th>\n",
       "      <th>fuel_type_2</th>\n",
       "      <th>aspiration_1</th>\n",
       "      <th>aspiration_2</th>\n",
       "      <th>number_of_doors_1</th>\n",
       "      <th>number_of_doors_2</th>\n",
       "      <th>body_style_1</th>\n",
       "      <th>body_style_2</th>\n",
       "      <th>body_style_3</th>\n",
       "      <th>body_style_4</th>\n",
       "      <th>body_style_5</th>\n",
       "      <th>drive_wheels_1</th>\n",
       "      <th>drive_wheels_2</th>\n",
       "      <th>drive_wheels_3</th>\n",
       "      <th>engine_location_1</th>\n",
       "      <th>engine_location_2</th>\n",
       "      <th>wheel_base</th>\n",
       "      <th>length</th>\n",
       "      <th>width</th>\n",
       "      <th>height</th>\n",
       "      <th>curb_weight</th>\n",
       "      <th>engine_type_1</th>\n",
       "      <th>engine_type_2</th>\n",
       "      <th>engine_type_3</th>\n",
       "      <th>engine_type_4</th>\n",
       "      <th>engine_type_5</th>\n",
       "      <th>engine_type_6</th>\n",
       "      <th>number_of_cylinders_1</th>\n",
       "      <th>number_of_cylinders_2</th>\n",
       "      <th>number_of_cylinders_3</th>\n",
       "      <th>number_of_cylinders_4</th>\n",
       "      <th>number_of_cylinders_5</th>\n",
       "      <th>number_of_cylinders_6</th>\n",
       "      <th>number_of_cylinders_7</th>\n",
       "      <th>engine_size</th>\n",
       "      <th>fuel_system_1</th>\n",
       "      <th>fuel_system_2</th>\n",
       "      <th>fuel_system_3</th>\n",
       "      <th>fuel_system_4</th>\n",
       "      <th>fuel_system_5</th>\n",
       "      <th>fuel_system_6</th>\n",
       "      <th>fuel_system_7</th>\n",
       "      <th>fuel_system_8</th>\n",
       "      <th>bore</th>\n",
       "      <th>stroke</th>\n",
       "      <th>compression_ratio</th>\n",
       "      <th>horsepower</th>\n",
       "      <th>peak_rpm</th>\n",
       "      <th>city_mpg</th>\n",
       "      <th>highway_mpg</th>\n",
       "      <th>price</th>\n",
       "    </tr>\n",
       "  </thead>\n",
       "  <tbody>\n",
       "    <tr>\n",
       "      <th>0</th>\n",
       "      <td>3</td>\n",
       "      <td>168</td>\n",
       "      <td>1</td>\n",
       "      <td>0</td>\n",
       "      <td>0</td>\n",
       "      <td>0</td>\n",
       "      <td>0</td>\n",
       "      <td>0</td>\n",
       "      <td>0</td>\n",
       "      <td>0</td>\n",
       "      <td>0</td>\n",
       "      <td>0</td>\n",
       "      <td>0</td>\n",
       "      <td>0</td>\n",
       "      <td>0</td>\n",
       "      <td>0</td>\n",
       "      <td>0</td>\n",
       "      <td>0</td>\n",
       "      <td>0</td>\n",
       "      <td>0</td>\n",
       "      <td>0</td>\n",
       "      <td>0</td>\n",
       "      <td>0</td>\n",
       "      <td>0</td>\n",
       "      <td>1</td>\n",
       "      <td>0</td>\n",
       "      <td>1</td>\n",
       "      <td>0</td>\n",
       "      <td>1</td>\n",
       "      <td>0</td>\n",
       "      <td>1</td>\n",
       "      <td>0</td>\n",
       "      <td>0</td>\n",
       "      <td>0</td>\n",
       "      <td>0</td>\n",
       "      <td>1</td>\n",
       "      <td>0</td>\n",
       "      <td>0</td>\n",
       "      <td>1</td>\n",
       "      <td>0</td>\n",
       "      <td>88.6</td>\n",
       "      <td>168.8</td>\n",
       "      <td>64.1</td>\n",
       "      <td>48.8</td>\n",
       "      <td>2548</td>\n",
       "      <td>1</td>\n",
       "      <td>0</td>\n",
       "      <td>0</td>\n",
       "      <td>0</td>\n",
       "      <td>0</td>\n",
       "      <td>0</td>\n",
       "      <td>1</td>\n",
       "      <td>0</td>\n",
       "      <td>0</td>\n",
       "      <td>0</td>\n",
       "      <td>0</td>\n",
       "      <td>0</td>\n",
       "      <td>0</td>\n",
       "      <td>130</td>\n",
       "      <td>1</td>\n",
       "      <td>0</td>\n",
       "      <td>0</td>\n",
       "      <td>0</td>\n",
       "      <td>0</td>\n",
       "      <td>0</td>\n",
       "      <td>0</td>\n",
       "      <td>0</td>\n",
       "      <td>3.47</td>\n",
       "      <td>2.68</td>\n",
       "      <td>9.0</td>\n",
       "      <td>111</td>\n",
       "      <td>5000</td>\n",
       "      <td>21</td>\n",
       "      <td>27</td>\n",
       "      <td>13495</td>\n",
       "    </tr>\n",
       "    <tr>\n",
       "      <th>1</th>\n",
       "      <td>3</td>\n",
       "      <td>168</td>\n",
       "      <td>1</td>\n",
       "      <td>0</td>\n",
       "      <td>0</td>\n",
       "      <td>0</td>\n",
       "      <td>0</td>\n",
       "      <td>0</td>\n",
       "      <td>0</td>\n",
       "      <td>0</td>\n",
       "      <td>0</td>\n",
       "      <td>0</td>\n",
       "      <td>0</td>\n",
       "      <td>0</td>\n",
       "      <td>0</td>\n",
       "      <td>0</td>\n",
       "      <td>0</td>\n",
       "      <td>0</td>\n",
       "      <td>0</td>\n",
       "      <td>0</td>\n",
       "      <td>0</td>\n",
       "      <td>0</td>\n",
       "      <td>0</td>\n",
       "      <td>0</td>\n",
       "      <td>1</td>\n",
       "      <td>0</td>\n",
       "      <td>1</td>\n",
       "      <td>0</td>\n",
       "      <td>1</td>\n",
       "      <td>0</td>\n",
       "      <td>1</td>\n",
       "      <td>0</td>\n",
       "      <td>0</td>\n",
       "      <td>0</td>\n",
       "      <td>0</td>\n",
       "      <td>1</td>\n",
       "      <td>0</td>\n",
       "      <td>0</td>\n",
       "      <td>1</td>\n",
       "      <td>0</td>\n",
       "      <td>88.6</td>\n",
       "      <td>168.8</td>\n",
       "      <td>64.1</td>\n",
       "      <td>48.8</td>\n",
       "      <td>2548</td>\n",
       "      <td>1</td>\n",
       "      <td>0</td>\n",
       "      <td>0</td>\n",
       "      <td>0</td>\n",
       "      <td>0</td>\n",
       "      <td>0</td>\n",
       "      <td>1</td>\n",
       "      <td>0</td>\n",
       "      <td>0</td>\n",
       "      <td>0</td>\n",
       "      <td>0</td>\n",
       "      <td>0</td>\n",
       "      <td>0</td>\n",
       "      <td>130</td>\n",
       "      <td>1</td>\n",
       "      <td>0</td>\n",
       "      <td>0</td>\n",
       "      <td>0</td>\n",
       "      <td>0</td>\n",
       "      <td>0</td>\n",
       "      <td>0</td>\n",
       "      <td>0</td>\n",
       "      <td>3.47</td>\n",
       "      <td>2.68</td>\n",
       "      <td>9.0</td>\n",
       "      <td>111</td>\n",
       "      <td>5000</td>\n",
       "      <td>21</td>\n",
       "      <td>27</td>\n",
       "      <td>16500</td>\n",
       "    </tr>\n",
       "    <tr>\n",
       "      <th>2</th>\n",
       "      <td>1</td>\n",
       "      <td>168</td>\n",
       "      <td>1</td>\n",
       "      <td>0</td>\n",
       "      <td>0</td>\n",
       "      <td>0</td>\n",
       "      <td>0</td>\n",
       "      <td>0</td>\n",
       "      <td>0</td>\n",
       "      <td>0</td>\n",
       "      <td>0</td>\n",
       "      <td>0</td>\n",
       "      <td>0</td>\n",
       "      <td>0</td>\n",
       "      <td>0</td>\n",
       "      <td>0</td>\n",
       "      <td>0</td>\n",
       "      <td>0</td>\n",
       "      <td>0</td>\n",
       "      <td>0</td>\n",
       "      <td>0</td>\n",
       "      <td>0</td>\n",
       "      <td>0</td>\n",
       "      <td>0</td>\n",
       "      <td>1</td>\n",
       "      <td>0</td>\n",
       "      <td>1</td>\n",
       "      <td>0</td>\n",
       "      <td>1</td>\n",
       "      <td>0</td>\n",
       "      <td>0</td>\n",
       "      <td>1</td>\n",
       "      <td>0</td>\n",
       "      <td>0</td>\n",
       "      <td>0</td>\n",
       "      <td>1</td>\n",
       "      <td>0</td>\n",
       "      <td>0</td>\n",
       "      <td>1</td>\n",
       "      <td>0</td>\n",
       "      <td>94.5</td>\n",
       "      <td>171.2</td>\n",
       "      <td>65.5</td>\n",
       "      <td>52.4</td>\n",
       "      <td>2823</td>\n",
       "      <td>0</td>\n",
       "      <td>1</td>\n",
       "      <td>0</td>\n",
       "      <td>0</td>\n",
       "      <td>0</td>\n",
       "      <td>0</td>\n",
       "      <td>0</td>\n",
       "      <td>1</td>\n",
       "      <td>0</td>\n",
       "      <td>0</td>\n",
       "      <td>0</td>\n",
       "      <td>0</td>\n",
       "      <td>0</td>\n",
       "      <td>152</td>\n",
       "      <td>1</td>\n",
       "      <td>0</td>\n",
       "      <td>0</td>\n",
       "      <td>0</td>\n",
       "      <td>0</td>\n",
       "      <td>0</td>\n",
       "      <td>0</td>\n",
       "      <td>0</td>\n",
       "      <td>2.68</td>\n",
       "      <td>3.47</td>\n",
       "      <td>9.0</td>\n",
       "      <td>154</td>\n",
       "      <td>5000</td>\n",
       "      <td>19</td>\n",
       "      <td>26</td>\n",
       "      <td>16500</td>\n",
       "    </tr>\n",
       "    <tr>\n",
       "      <th>3</th>\n",
       "      <td>2</td>\n",
       "      <td>164</td>\n",
       "      <td>0</td>\n",
       "      <td>1</td>\n",
       "      <td>0</td>\n",
       "      <td>0</td>\n",
       "      <td>0</td>\n",
       "      <td>0</td>\n",
       "      <td>0</td>\n",
       "      <td>0</td>\n",
       "      <td>0</td>\n",
       "      <td>0</td>\n",
       "      <td>0</td>\n",
       "      <td>0</td>\n",
       "      <td>0</td>\n",
       "      <td>0</td>\n",
       "      <td>0</td>\n",
       "      <td>0</td>\n",
       "      <td>0</td>\n",
       "      <td>0</td>\n",
       "      <td>0</td>\n",
       "      <td>0</td>\n",
       "      <td>0</td>\n",
       "      <td>0</td>\n",
       "      <td>1</td>\n",
       "      <td>0</td>\n",
       "      <td>1</td>\n",
       "      <td>0</td>\n",
       "      <td>0</td>\n",
       "      <td>1</td>\n",
       "      <td>0</td>\n",
       "      <td>0</td>\n",
       "      <td>1</td>\n",
       "      <td>0</td>\n",
       "      <td>0</td>\n",
       "      <td>0</td>\n",
       "      <td>1</td>\n",
       "      <td>0</td>\n",
       "      <td>1</td>\n",
       "      <td>0</td>\n",
       "      <td>99.8</td>\n",
       "      <td>176.6</td>\n",
       "      <td>66.2</td>\n",
       "      <td>54.3</td>\n",
       "      <td>2337</td>\n",
       "      <td>0</td>\n",
       "      <td>0</td>\n",
       "      <td>1</td>\n",
       "      <td>0</td>\n",
       "      <td>0</td>\n",
       "      <td>0</td>\n",
       "      <td>1</td>\n",
       "      <td>0</td>\n",
       "      <td>0</td>\n",
       "      <td>0</td>\n",
       "      <td>0</td>\n",
       "      <td>0</td>\n",
       "      <td>0</td>\n",
       "      <td>109</td>\n",
       "      <td>1</td>\n",
       "      <td>0</td>\n",
       "      <td>0</td>\n",
       "      <td>0</td>\n",
       "      <td>0</td>\n",
       "      <td>0</td>\n",
       "      <td>0</td>\n",
       "      <td>0</td>\n",
       "      <td>3.19</td>\n",
       "      <td>3.40</td>\n",
       "      <td>10.0</td>\n",
       "      <td>102</td>\n",
       "      <td>5500</td>\n",
       "      <td>24</td>\n",
       "      <td>30</td>\n",
       "      <td>13950</td>\n",
       "    </tr>\n",
       "    <tr>\n",
       "      <th>4</th>\n",
       "      <td>2</td>\n",
       "      <td>164</td>\n",
       "      <td>0</td>\n",
       "      <td>1</td>\n",
       "      <td>0</td>\n",
       "      <td>0</td>\n",
       "      <td>0</td>\n",
       "      <td>0</td>\n",
       "      <td>0</td>\n",
       "      <td>0</td>\n",
       "      <td>0</td>\n",
       "      <td>0</td>\n",
       "      <td>0</td>\n",
       "      <td>0</td>\n",
       "      <td>0</td>\n",
       "      <td>0</td>\n",
       "      <td>0</td>\n",
       "      <td>0</td>\n",
       "      <td>0</td>\n",
       "      <td>0</td>\n",
       "      <td>0</td>\n",
       "      <td>0</td>\n",
       "      <td>0</td>\n",
       "      <td>0</td>\n",
       "      <td>1</td>\n",
       "      <td>0</td>\n",
       "      <td>1</td>\n",
       "      <td>0</td>\n",
       "      <td>0</td>\n",
       "      <td>1</td>\n",
       "      <td>0</td>\n",
       "      <td>0</td>\n",
       "      <td>1</td>\n",
       "      <td>0</td>\n",
       "      <td>0</td>\n",
       "      <td>0</td>\n",
       "      <td>0</td>\n",
       "      <td>1</td>\n",
       "      <td>1</td>\n",
       "      <td>0</td>\n",
       "      <td>99.4</td>\n",
       "      <td>176.6</td>\n",
       "      <td>66.4</td>\n",
       "      <td>54.3</td>\n",
       "      <td>2824</td>\n",
       "      <td>0</td>\n",
       "      <td>0</td>\n",
       "      <td>1</td>\n",
       "      <td>0</td>\n",
       "      <td>0</td>\n",
       "      <td>0</td>\n",
       "      <td>0</td>\n",
       "      <td>0</td>\n",
       "      <td>1</td>\n",
       "      <td>0</td>\n",
       "      <td>0</td>\n",
       "      <td>0</td>\n",
       "      <td>0</td>\n",
       "      <td>136</td>\n",
       "      <td>1</td>\n",
       "      <td>0</td>\n",
       "      <td>0</td>\n",
       "      <td>0</td>\n",
       "      <td>0</td>\n",
       "      <td>0</td>\n",
       "      <td>0</td>\n",
       "      <td>0</td>\n",
       "      <td>3.19</td>\n",
       "      <td>3.40</td>\n",
       "      <td>8.0</td>\n",
       "      <td>115</td>\n",
       "      <td>5500</td>\n",
       "      <td>18</td>\n",
       "      <td>22</td>\n",
       "      <td>17450</td>\n",
       "    </tr>\n",
       "  </tbody>\n",
       "</table>\n",
       "</div>"
      ],
      "text/plain": [
       "   symboling  normalized_losses  make_1  make_2  make_3  make_4  make_5  \\\n",
       "0          3                168       1       0       0       0       0   \n",
       "1          3                168       1       0       0       0       0   \n",
       "2          1                168       1       0       0       0       0   \n",
       "3          2                164       0       1       0       0       0   \n",
       "4          2                164       0       1       0       0       0   \n",
       "\n",
       "   make_6  make_7  make_8  make_9  make_10  make_11  make_12  make_13  \\\n",
       "0       0       0       0       0        0        0        0        0   \n",
       "1       0       0       0       0        0        0        0        0   \n",
       "2       0       0       0       0        0        0        0        0   \n",
       "3       0       0       0       0        0        0        0        0   \n",
       "4       0       0       0       0        0        0        0        0   \n",
       "\n",
       "   make_14  make_15  make_16  make_17  make_18  make_19  make_20  make_21  \\\n",
       "0        0        0        0        0        0        0        0        0   \n",
       "1        0        0        0        0        0        0        0        0   \n",
       "2        0        0        0        0        0        0        0        0   \n",
       "3        0        0        0        0        0        0        0        0   \n",
       "4        0        0        0        0        0        0        0        0   \n",
       "\n",
       "   make_22  fuel_type_1  fuel_type_2  aspiration_1  aspiration_2  \\\n",
       "0        0            1            0             1             0   \n",
       "1        0            1            0             1             0   \n",
       "2        0            1            0             1             0   \n",
       "3        0            1            0             1             0   \n",
       "4        0            1            0             1             0   \n",
       "\n",
       "   number_of_doors_1  number_of_doors_2  body_style_1  body_style_2  \\\n",
       "0                  1                  0             1             0   \n",
       "1                  1                  0             1             0   \n",
       "2                  1                  0             0             1   \n",
       "3                  0                  1             0             0   \n",
       "4                  0                  1             0             0   \n",
       "\n",
       "   body_style_3  body_style_4  body_style_5  drive_wheels_1  drive_wheels_2  \\\n",
       "0             0             0             0               1               0   \n",
       "1             0             0             0               1               0   \n",
       "2             0             0             0               1               0   \n",
       "3             1             0             0               0               1   \n",
       "4             1             0             0               0               0   \n",
       "\n",
       "   drive_wheels_3  engine_location_1  engine_location_2  wheel_base  length  \\\n",
       "0               0                  1                  0        88.6   168.8   \n",
       "1               0                  1                  0        88.6   168.8   \n",
       "2               0                  1                  0        94.5   171.2   \n",
       "3               0                  1                  0        99.8   176.6   \n",
       "4               1                  1                  0        99.4   176.6   \n",
       "\n",
       "   width  height  curb_weight  engine_type_1  engine_type_2  engine_type_3  \\\n",
       "0   64.1    48.8         2548              1              0              0   \n",
       "1   64.1    48.8         2548              1              0              0   \n",
       "2   65.5    52.4         2823              0              1              0   \n",
       "3   66.2    54.3         2337              0              0              1   \n",
       "4   66.4    54.3         2824              0              0              1   \n",
       "\n",
       "   engine_type_4  engine_type_5  engine_type_6  number_of_cylinders_1  \\\n",
       "0              0              0              0                      1   \n",
       "1              0              0              0                      1   \n",
       "2              0              0              0                      0   \n",
       "3              0              0              0                      1   \n",
       "4              0              0              0                      0   \n",
       "\n",
       "   number_of_cylinders_2  number_of_cylinders_3  number_of_cylinders_4  \\\n",
       "0                      0                      0                      0   \n",
       "1                      0                      0                      0   \n",
       "2                      1                      0                      0   \n",
       "3                      0                      0                      0   \n",
       "4                      0                      1                      0   \n",
       "\n",
       "   number_of_cylinders_5  number_of_cylinders_6  number_of_cylinders_7  \\\n",
       "0                      0                      0                      0   \n",
       "1                      0                      0                      0   \n",
       "2                      0                      0                      0   \n",
       "3                      0                      0                      0   \n",
       "4                      0                      0                      0   \n",
       "\n",
       "   engine_size  fuel_system_1  fuel_system_2  fuel_system_3  fuel_system_4  \\\n",
       "0          130              1              0              0              0   \n",
       "1          130              1              0              0              0   \n",
       "2          152              1              0              0              0   \n",
       "3          109              1              0              0              0   \n",
       "4          136              1              0              0              0   \n",
       "\n",
       "   fuel_system_5  fuel_system_6  fuel_system_7  fuel_system_8  bore  stroke  \\\n",
       "0              0              0              0              0  3.47    2.68   \n",
       "1              0              0              0              0  3.47    2.68   \n",
       "2              0              0              0              0  2.68    3.47   \n",
       "3              0              0              0              0  3.19    3.40   \n",
       "4              0              0              0              0  3.19    3.40   \n",
       "\n",
       "   compression_ratio  horsepower  peak_rpm  city_mpg  highway_mpg  price  \n",
       "0                9.0         111      5000        21           27  13495  \n",
       "1                9.0         111      5000        21           27  16500  \n",
       "2                9.0         154      5000        19           26  16500  \n",
       "3               10.0         102      5500        24           30  13950  \n",
       "4                8.0         115      5500        18           22  17450  "
      ]
     },
     "metadata": {},
     "execution_count": 488
    }
   ],
   "metadata": {
    "collapsed": true
   }
  },
  {
   "cell_type": "code",
   "execution_count": 489,
   "source": [
    "y = df_cleaned['price']\r\n",
    "X = df_cleaned.drop(['price'], axis=1)"
   ],
   "outputs": [],
   "metadata": {}
  },
  {
   "cell_type": "code",
   "execution_count": 490,
   "source": [
    "from sklearn.preprocessing import MinMaxScaler\r\n",
    "#Separar os dados em treino e teste\r\n",
    "from sklearn.model_selection import train_test_split\r\n",
    "\r\n",
    "scaler = MinMaxScaler(feature_range=(0,1))\r\n",
    "\r\n",
    "scaled_data = scaler.fit_transform(X)\r\n",
    "\r\n",
    "X = pd.DataFrame(scaled_data, columns=df_cleaned.columns[:-1])\r\n",
    "\r\n",
    "X_train, X_test, y_train, y_test = train_test_split(X, y, test_size=0.2, random_state=42)\r\n",
    "X_train.shape, X_test.shape, y_train.shape, y_test.shape"
   ],
   "outputs": [
    {
     "output_type": "execute_result",
     "data": {
      "text/plain": [
       "((160, 74), (41, 74), (160,), (41,))"
      ]
     },
     "metadata": {},
     "execution_count": 490
    }
   ],
   "metadata": {}
  },
  {
   "cell_type": "code",
   "execution_count": 491,
   "source": [
    "def gaussian_nb():\r\n",
    "    from sklearn.naive_bayes import GaussianNB\r\n",
    "\r\n",
    "    gnb = GaussianNB()\r\n",
    "\r\n",
    "    gnb.fit(X_train, y_train)\r\n",
    "    y_pred = gnb.predict(X_test)\r\n",
    "    return y_pred\r\n",
    "\r\n",
    "print(gaussian_nb())"
   ],
   "outputs": [
    {
     "output_type": "stream",
     "name": "stdout",
     "text": [
      "[ 7799 20970  6529  7738 15040  5572 45400 11248 16558 32250 25552 13845\n",
      " 11549  6189  8495  7995 10595  7738  8189 40960 32528 30760  7198  6849\n",
      " 25552 18344  9279 25552 32528  7957 16925  5572 13645  6189  8778 16630\n",
      "  5118  7775  8449  9959 14869]\n"
     ]
    }
   ],
   "metadata": {}
  },
  {
   "cell_type": "code",
   "execution_count": 492,
   "source": [
    "def linear_regression():\r\n",
    "    from sklearn.linear_model import LinearRegression\r\n",
    "    from sklearn.metrics import mean_squared_error\r\n",
    "    from sklearn.metrics import r2_score\r\n",
    "    \r\n",
    "    reg = LinearRegression()\r\n",
    "    reg.fit(X_train, y_train)\r\n",
    "    \r\n",
    "    y_pred = reg.predict(X_test)\r\n",
    "    \r\n",
    "    print('Coefficients: \\n', reg.coef_)\r\n",
    "    print('Mean squared error: %.2f' % mean_squared_error(y_test, y_pred))\r\n",
    "    print('R2 score: %.2f' % r2_score(y_test, y_pred))\r\n",
    "    \r\n",
    "    return reg\r\n",
    "\r\n",
    "linear_regression()"
   ],
   "outputs": [
    {
     "output_type": "stream",
     "name": "stdout",
     "text": [
      "Coefficients: \n",
      " [-4.50730098e+02 -8.40199404e+02 -4.57140216e+15 -4.57140216e+15\n",
      " -4.57140216e+15 -4.57140216e+15 -4.57140216e+15 -4.57140216e+15\n",
      " -4.57140216e+15 -4.57140216e+15 -4.57140216e+15 -4.57140216e+15\n",
      " -4.57140216e+15 -4.57140216e+15 -4.57140216e+15  7.15614170e+15\n",
      " -4.57140216e+15 -4.57140216e+15 -4.57140216e+15 -4.57140216e+15\n",
      "  2.22264459e+16 -4.57140216e+15 -4.57140216e+15 -4.57140216e+15\n",
      " -1.26942734e+16 -3.92516087e+15 -2.70653119e+16 -2.70653119e+16\n",
      "  3.55747144e+16  3.55747144e+16 -8.52739950e+15 -8.52739950e+15\n",
      " -8.52739950e+15 -8.52739950e+15 -8.52739950e+15 -9.60940309e+15\n",
      " -9.60940309e+15 -9.60940309e+15 -1.31152561e+16  1.36825919e+16\n",
      "  6.92512500e+03 -7.54600000e+03  5.93000000e+03 -3.18800000e+03\n",
      "  1.72460000e+04 -1.00722912e+16 -1.00722912e+16 -1.00722912e+16\n",
      " -2.17998351e+16 -5.00185640e+15 -3.68701392e+16 -4.41660677e+15\n",
      " -4.41660677e+15 -4.41660677e+15  7.31093710e+15 -4.41660677e+15\n",
      " -3.12043724e+15 -4.41660677e+15  6.76300000e+03  1.30243660e+15\n",
      "  1.30243660e+15  1.30243660e+15  1.30243660e+15  1.30243660e+15\n",
      " -5.06416774e+15 -7.46667593e+15  1.30243660e+15 -2.97400000e+03\n",
      " -9.78000000e+02 -1.08862500e+04 -1.39600000e+03  2.52000000e+03\n",
      " -2.27000000e+03  3.67900000e+03]\n",
      "Mean squared error: 988625629623247045325729300480.00\n",
      "R2 score: -8080520676708636950528.00\n"
     ]
    },
    {
     "output_type": "execute_result",
     "data": {
      "text/plain": [
       "LinearRegression()"
      ]
     },
     "metadata": {},
     "execution_count": 492
    }
   ],
   "metadata": {}
  },
  {
   "cell_type": "markdown",
   "source": [
    "**Pergunta:** Quais são os atributos não numéricos? Qual o método de análise adotado? Por que esse essa escolha? "
   ],
   "metadata": {}
  },
  {
   "cell_type": "markdown",
   "source": [
    "## 📝Resposta\r\n",
    "\r\n",
    "Utilizando o código:"
   ],
   "metadata": {}
  },
  {
   "cell_type": "code",
   "execution_count": 493,
   "source": [
    "df_obj = df.select_dtypes(exclude=['int64', 'float64'])\r\n",
    "df_obj.info()"
   ],
   "outputs": [
    {
     "output_type": "stream",
     "name": "stdout",
     "text": [
      "<class 'pandas.core.frame.DataFrame'>\n",
      "RangeIndex: 201 entries, 0 to 200\n",
      "Data columns (total 10 columns):\n",
      " #   Column               Non-Null Count  Dtype \n",
      "---  ------               --------------  ----- \n",
      " 0   make                 201 non-null    object\n",
      " 1   fuel_type            201 non-null    object\n",
      " 2   aspiration           201 non-null    object\n",
      " 3   number_of_doors      201 non-null    object\n",
      " 4   body_style           201 non-null    object\n",
      " 5   drive_wheels         201 non-null    object\n",
      " 6   engine_location      201 non-null    object\n",
      " 7   engine_type          201 non-null    object\n",
      " 8   number_of_cylinders  201 non-null    object\n",
      " 9   fuel_system          201 non-null    object\n",
      "dtypes: object(10)\n",
      "memory usage: 15.8+ KB\n"
     ]
    }
   ],
   "metadata": {}
  },
  {
   "cell_type": "markdown",
   "source": [
    "Os atributos não numéricos são:\r\n",
    "\r\n",
    "- make\r\n",
    "- fuel_type\r\n",
    "- aspiration\r\n",
    "- number_of_doors\r\n",
    "- body_style\r\n",
    "- drive_wheels\r\n",
    "- engine_location\r\n",
    "- engine_type\r\n",
    "- number_of_cylinders\r\n",
    "- fuel_system"
   ],
   "metadata": {}
  },
  {
   "cell_type": "markdown",
   "source": [
    "## 3. Desenvolvimento do Modelo"
   ],
   "metadata": {}
  },
  {
   "cell_type": "markdown",
   "source": [
    "**Pergunta:** O conjunto de dados indica a aplicação de qual modelo de aprendizagem de maquina para a determinação do preço de carro? Por que ? "
   ],
   "metadata": {}
  },
  {
   "cell_type": "markdown",
   "source": [
    "## 📝Resposta\r\n",
    "\r\n",
    "    [ ] Aprendizado por reforço\r\n",
    "    [x] Aprendizado supervisionado\r\n",
    "    [ ] Aprendizado não supervisionado"
   ],
   "metadata": {}
  },
  {
   "cell_type": "markdown",
   "source": [
    "**Pergunta:** Qual a técnica sugerida para este projeto?"
   ],
   "metadata": {}
  },
  {
   "cell_type": "markdown",
   "source": [
    "## 📝Resposta\r\n",
    "\r\n",
    "    [x] Regressão\r\n",
    "    [ ] Classificação\r\n",
    "    [ ] Clusterização"
   ],
   "metadata": {}
  },
  {
   "cell_type": "markdown",
   "source": [
    "**Pergunta:** Escolha 3 modelos de algoritmos para testar a performance de cada um deles."
   ],
   "metadata": {}
  },
  {
   "cell_type": "markdown",
   "source": [
    "## 📝Resposta\r\n",
    "\r\n",
    "1. Random Forest Regressor\r\n",
    "2. Linear Regression \r\n",
    "3. Ridge Regression"
   ],
   "metadata": {}
  },
  {
   "cell_type": "markdown",
   "source": [
    "**Pergunta:** Explique como cada algoritmo funciona.\r\n",
    "\r\n"
   ],
   "metadata": {}
  },
  {
   "cell_type": "markdown",
   "source": [
    "## 📝Resposta\r\n",
    "\r\n",
    "### 1. Random Forest Regressor \r\n",
    "- Random Forest é um algoritmo de aprendizado supervisionado que utiliza uma árvore de decisão para classificar dados. É utilizado o sistema de votos, em que selecionamos a melhor árvore para cada conjunto de dados.\r\n",
    "\r\n",
    "### 2. Linear Regression\r\n",
    "- Linear Regression é um algoritmo utilizado para estimar o valor de uma variável dependente (y) a partir de uma ou mais variáveis independentes (x). Essa regressão é aplicada quando a relação de resposta entre as variáveis descreve uma função linear. Ele utiliza os pontos de dados para estimar os coeficientes da função linear.\r\n",
    "\r\n",
    "### 3. Ridge Regression\r\n",
    "- Ridge Regression é um algoritmo de regressão linear que utiliza a regularização Ridge para estimar os coeficientes da função linear. Ele é utilizado quando a relação de resposta entre as variáveis descreve uma função linear."
   ],
   "metadata": {}
  },
  {
   "cell_type": "markdown",
   "source": [
    "Crie um subset dos dados apenas com os atributos que serão utilizados para o treinameno e teste do modelo."
   ],
   "metadata": {}
  },
  {
   "cell_type": "code",
   "execution_count": 494,
   "source": [
    "X = df_cleaned.drop(['price'], axis=1)\r\n",
    "Y = df_cleaned['price']"
   ],
   "outputs": [],
   "metadata": {
    "collapsed": true
   }
  },
  {
   "cell_type": "markdown",
   "source": [
    "Divida o subset em conjunto de treinamento e teste."
   ],
   "metadata": {}
  },
  {
   "cell_type": "code",
   "execution_count": 495,
   "source": [
    "from sklearn.model_selection import train_test_split\r\n",
    "\r\n",
    "# Separação utilizando a divisão 70/30\r\n",
    "X_train, X_test, y_train, y_test = train_test_split(X, Y, test_size=0.3, random_state=1)"
   ],
   "outputs": [],
   "metadata": {
    "collapsed": true
   }
  },
  {
   "cell_type": "markdown",
   "source": [
    "## 4. Treinamento e teste do modelo\r\n",
    "\r\n",
    "Faça o treinamento e teste de dos 3 algoritmos escolhidos. Para cada um dos modelos utilize uma das métricas: R2-score, RMSE e MAE para avaliar a performance dos medelos. Utilize a média do obtido da validação cruzada para um kfold de 5."
   ],
   "metadata": {}
  },
  {
   "cell_type": "markdown",
   "source": [
    "### Algoritmo 1"
   ],
   "metadata": {}
  },
  {
   "cell_type": "code",
   "execution_count": 496,
   "source": [
    "from sklearn.ensemble import RandomForestRegressor\r\n",
    "\r\n",
    "randomForestRegressor = RandomForestRegressor()\r\n",
    "randomForestRegressor.fit(X_train, y_train)\r\n",
    "\r\n",
    "predict = randomForestRegressor.predict(X_test)\r\n",
    "print(\"R2-score: \", r2_score(y_test, predict))\r\n",
    "print('RMSE: ', np.sqrt(mean_squared_error(y_test, predict)))\r\n",
    "print('MAE: ', mean_absolute_error(y_test, predict))\r\n",
    "\r\n",
    "scores = cross_val_score(randomForestRegressor, X, Y,\r\n",
    "                         cv=crossvalidation, scoring='r2')\r\n",
    "print(\"R2-score médio + KFold: \", scores.mean())\r\n"
   ],
   "outputs": [
    {
     "output_type": "stream",
     "name": "stdout",
     "text": [
      "R2-score:  0.8964624753739004\n",
      "RMSE:  2266.9545522512703\n",
      "MAE:  1486.6935601092898\n",
      "R2-score médio + KFold:  0.920396987168275\n"
     ]
    }
   ],
   "metadata": {
    "collapsed": true
   }
  },
  {
   "cell_type": "markdown",
   "source": [
    "### Algoritmo 2"
   ],
   "metadata": {}
  },
  {
   "cell_type": "code",
   "execution_count": 497,
   "source": [
    "from sklearn.model_selection import cross_val_score\r\n",
    "from sklearn.model_selection import KFold\r\n",
    "from sklearn.linear_model import LinearRegression\r\n",
    "from sklearn.metrics import mean_absolute_error\r\n",
    "from sklearn.metrics import mean_squared_error\r\n",
    "from sklearn.metrics import r2_score\r\n",
    "\r\n",
    "crossvalidation = KFold(n_splits=5, shuffle=True, random_state=7)\r\n",
    "\r\n",
    "linearRegression = LinearRegression()\r\n",
    "linearRegression.fit(X_train, y_train)\r\n",
    "\r\n",
    "predict = linearRegression.predict(X_test)\r\n",
    "print(\"R2-score: \", r2_score(y_test, predict))\r\n",
    "print('MAE: ', mean_absolute_error(y_test, predict))\r\n",
    "print('RMSE: ', np.sqrt(mean_squared_error(y_test, predict)))\r\n",
    "\r\n",
    "scores = cross_val_score(linearRegression, X, y,\r\n",
    "                         cv=crossvalidation, scoring='r2')\r\n",
    "print(\"R2-score médio + KFold: \", scores.mean())\r\n"
   ],
   "outputs": [
    {
     "output_type": "stream",
     "name": "stdout",
     "text": [
      "R2-score:  0.8701131808376099\n",
      "MAE:  2003.388581772015\n",
      "RMSE:  2539.080472075106\n",
      "R2-score médio + KFold:  0.8794613157151125\n"
     ]
    }
   ],
   "metadata": {
    "collapsed": true
   }
  },
  {
   "cell_type": "markdown",
   "source": [
    "### Algoritmo 3"
   ],
   "metadata": {}
  },
  {
   "cell_type": "code",
   "execution_count": 498,
   "source": [
    "from sklearn.linear_model import Ridge\r\n",
    "\r\n",
    "ridge = Ridge()\r\n",
    "ridge.fit(X_train, y_train)\r\n",
    "\r\n",
    "predict = ridge.predict(X_test)\r\n",
    "print(\"R2-score: \", r2_score(y_test, predict))\r\n",
    "print('RMSE: ', np.sqrt(mean_squared_error(y_test, predict)))\r\n",
    "print('MAE: ', mean_absolute_error(y_test, predict))\r\n",
    "\r\n",
    "scores = cross_val_score(ridge, X, Y,\r\n",
    "                         cv=crossvalidation, scoring='r2')\r\n",
    "print(\"R2-score médio + KFold: \", scores.mean())\r\n"
   ],
   "outputs": [
    {
     "output_type": "stream",
     "name": "stdout",
     "text": [
      "R2-score:  0.911444401495142\n",
      "RMSE:  2096.5341260710143\n",
      "MAE:  1678.188908429422\n",
      "R2-score médio + KFold:  0.9187794845554063\n"
     ]
    }
   ],
   "metadata": {}
  },
  {
   "cell_type": "code",
   "execution_count": 499,
   "source": [
    "df_obj = df.select_dtypes(exclude=['int64', 'float64'])\r\n",
    "df_obj.info()"
   ],
   "outputs": [
    {
     "output_type": "stream",
     "name": "stdout",
     "text": [
      "<class 'pandas.core.frame.DataFrame'>\n",
      "RangeIndex: 201 entries, 0 to 200\n",
      "Data columns (total 10 columns):\n",
      " #   Column               Non-Null Count  Dtype \n",
      "---  ------               --------------  ----- \n",
      " 0   make                 201 non-null    object\n",
      " 1   fuel_type            201 non-null    object\n",
      " 2   aspiration           201 non-null    object\n",
      " 3   number_of_doors      201 non-null    object\n",
      " 4   body_style           201 non-null    object\n",
      " 5   drive_wheels         201 non-null    object\n",
      " 6   engine_location      201 non-null    object\n",
      " 7   engine_type          201 non-null    object\n",
      " 8   number_of_cylinders  201 non-null    object\n",
      " 9   fuel_system          201 non-null    object\n",
      "dtypes: object(10)\n",
      "memory usage: 15.8+ KB\n"
     ]
    }
   ],
   "metadata": {}
  },
  {
   "cell_type": "markdown",
   "source": [
    "**Pergunta:** Qual foi a performance de cada algoritmo? Explique os resultados e detalhe como a característica de cada algoritmo influenciou no resultado.\r\n",
    "\r\n",
    "## 📝Resposta\r\n",
    "\r\n",
    "### 1. Random Forest Regressor\r\n",
    "- R2-score: 0.8880181340958897\r\n",
    "- RMSE: 2357.5872519629293\r\n",
    "- MAE: 1521.2418961748633\r\n",
    "- R2-score médio + KFold: 0.9198338437468697\r\n",
    "\r\n",
    "### 2. Linear Regression\r\n",
    "- R2-score: 0.8701131808376099\r\n",
    "- RMSE: 2003.388581772015\r\n",
    "- MAE: 2539.080472075106\r\n",
    "- R2-score médio + KFold: 0.8794613157151125\r\n",
    "\r\n",
    "### 3. Ridge\r\n",
    "- R2-score: 0.911444401495142\r\n",
    "- RMSE: 2096.5341260710143\r\n",
    "- MAE: 1678.188908429422\r\n",
    "- R2-score médio + KFold: 0.9187794845554063\r\n",
    "\r\n",
    "Os modelos tiveram um resultado muito bom, com uma performance semelhante entre si. Dentre eles, o modelo Ridge obteve um melhor resultado de R2-score. A Rigde Regression é um modelo de predição que calibra os coeficientes apartir dos seus quadrados, e dessa forma privilegia atributos relacionados mantendo coeficientes parecidos.\r\n",
    "\r\n",
    "A Random Forest Regressor, mesmo não tendo um melhor resultado de R2-score, ainda se saiu bem no treinamento. Por conta do modelo de decisão deste modelo, onde se baseia nos vários dados e pega as informações mais relevantes para criar regras, assim refinando o modelo de aprendizado.\r\n",
    "\r\n",
    "A Linear Regression obteve o pior resultado comparado aos demais. Com seu MAE (mean absolut error) mais alto que os demais. O que mostra que o modelo linear tem maior dificuldade para encontrar uma relação entre os dados."
   ],
   "metadata": {}
  },
  {
   "cell_type": "markdown",
   "source": [
    "## 5. Validação e Otimização do Modelo\r\n",
    "\r\n",
    "Faça a otimização dos modelos, tunning dos hiperparametros, utilize técinicas como **RandomSearchCV** ou **GridSearchCV**."
   ],
   "metadata": {}
  },
  {
   "cell_type": "markdown",
   "source": [
    "**Pergunta:** Qual a técnica escolhida? Por que?\r\n",
    "\r\n",
    "## 📝Resposta\r\n",
    "\r\n",
    "Segundo a documentação das duas técnicas utilizadas, a RandomSearchCV é uma técnica de busca aleatória, que utiliza um conjunto de parâmetros aleatórios para ajustar o modelo. A GridSearchCV é uma técnica de busca em grade, que utiliza um conjunto de parâmetros fixos para ajustar o modelo. Para o nosso caso pela quantidade de parâmetros foi escolhido o RandomSearchCV, pois ele realiza um menor número de iterações, e aumenta as chances de encontrar os parâmetros ideias para o modelo com menor uso de poder computacional."
   ],
   "metadata": {}
  },
  {
   "cell_type": "markdown",
   "source": [
    "### Algoritmo 1"
   ],
   "metadata": {}
  },
  {
   "cell_type": "code",
   "execution_count": 500,
   "source": [
    "randomForestRegressor.get_params()"
   ],
   "outputs": [
    {
     "output_type": "execute_result",
     "data": {
      "text/plain": [
       "{'bootstrap': True,\n",
       " 'ccp_alpha': 0.0,\n",
       " 'criterion': 'mse',\n",
       " 'max_depth': None,\n",
       " 'max_features': 'auto',\n",
       " 'max_leaf_nodes': None,\n",
       " 'max_samples': None,\n",
       " 'min_impurity_decrease': 0.0,\n",
       " 'min_impurity_split': None,\n",
       " 'min_samples_leaf': 1,\n",
       " 'min_samples_split': 2,\n",
       " 'min_weight_fraction_leaf': 0.0,\n",
       " 'n_estimators': 100,\n",
       " 'n_jobs': None,\n",
       " 'oob_score': False,\n",
       " 'random_state': None,\n",
       " 'verbose': 0,\n",
       " 'warm_start': False}"
      ]
     },
     "metadata": {},
     "execution_count": 500
    }
   ],
   "metadata": {}
  },
  {
   "cell_type": "code",
   "execution_count": 514,
   "source": [
    "from sklearn.model_selection import RandomizedSearchCV\r\n",
    "import numpy as np\r\n",
    "\r\n",
    "param_grid = {\r\n",
    "    'bootstrap': [True],\r\n",
    "    'max_depth': [80, 90, 100, 110, 120, 130],\r\n",
    "    'max_features': [2, 3],\r\n",
    "    'n_estimators': [100],\r\n",
    "    'oob_score': [False]\r\n",
    "}\r\n",
    "\r\n",
    "randomSearchCv = RandomizedSearchCV(\r\n",
    "    estimator=randomForestRegressor, param_distributions=param_grid, cv=crossvalidation, scoring='r2', n_iter=10)\r\n",
    "randomSearchCv.fit(X, Y)\r\n",
    "\r\n",
    "print('Melhores Parâmetros: ', randomSearchCv.best_params_)\r\n",
    "print('Melhor score: ', randomSearchCv.best_score_)"
   ],
   "outputs": [
    {
     "output_type": "stream",
     "name": "stdout",
     "text": [
      "Melhor Parâmetros:  {'oob_score': False, 'n_estimators': 100, 'max_features': 3, 'max_depth': 90, 'bootstrap': True}\n",
      "Melhor score:  0.9182097753644459\n"
     ]
    }
   ],
   "metadata": {
    "collapsed": true
   }
  },
  {
   "cell_type": "markdown",
   "source": [
    "### Algoritmo 2"
   ],
   "metadata": {}
  },
  {
   "cell_type": "code",
   "execution_count": 502,
   "source": [
    "linearRegression.get_params()"
   ],
   "outputs": [
    {
     "output_type": "execute_result",
     "data": {
      "text/plain": [
       "{'copy_X': True,\n",
       " 'fit_intercept': True,\n",
       " 'n_jobs': None,\n",
       " 'normalize': False,\n",
       " 'positive': False}"
      ]
     },
     "metadata": {},
     "execution_count": 502
    }
   ],
   "metadata": {}
  },
  {
   "cell_type": "code",
   "execution_count": 513,
   "source": [
    "from sklearn.model_selection import RandomizedSearchCV\r\n",
    "import numpy as np\r\n",
    "\r\n",
    "param_grid = {\r\n",
    "    'copy_X': [True],\r\n",
    "    'fit_intercept': [True],\r\n",
    "    'n_jobs': [10, 20, 30],\r\n",
    "    'positive': [True, False],\r\n",
    "    'normalize': [True, False],\r\n",
    "}\r\n",
    "\r\n",
    "randomSearchCv = RandomizedSearchCV(\r\n",
    "    estimator=linearRegression, param_distributions=param_grid, cv=crossvalidation, scoring='r2', n_iter=10)\r\n",
    "randomSearchCv.fit(X, Y)\r\n",
    "\r\n",
    "print('Melhores Parâmetros: ', randomSearchCv.best_params_)\r\n",
    "print('Melhor score: ', randomSearchCv.best_score_)"
   ],
   "outputs": [
    {
     "output_type": "stream",
     "name": "stdout",
     "text": [
      "Melhores Parâmetros:  {'positive': True, 'normalize': False, 'n_jobs': 30, 'fit_intercept': True, 'copy_X': True}\n",
      "Melhor score:  0.9064481240176022\n"
     ]
    }
   ],
   "metadata": {
    "collapsed": true
   }
  },
  {
   "cell_type": "markdown",
   "source": [
    "### Algoritmo 3"
   ],
   "metadata": {}
  },
  {
   "cell_type": "code",
   "execution_count": 504,
   "source": [
    "ridge.get_params()"
   ],
   "outputs": [
    {
     "output_type": "execute_result",
     "data": {
      "text/plain": [
       "{'alpha': 1.0,\n",
       " 'copy_X': True,\n",
       " 'fit_intercept': True,\n",
       " 'max_iter': None,\n",
       " 'normalize': False,\n",
       " 'random_state': None,\n",
       " 'solver': 'auto',\n",
       " 'tol': 0.001}"
      ]
     },
     "metadata": {},
     "execution_count": 504
    }
   ],
   "metadata": {}
  },
  {
   "cell_type": "code",
   "execution_count": 512,
   "source": [
    "from sklearn.model_selection import RandomizedSearchCV\r\n",
    "import numpy as np\r\n",
    "\r\n",
    "param_grid = {\r\n",
    "    'alpha': [1e-15, 1e-10, 1e-8, 1e-4, 1e-3, 1e-2, 1, 5, 10, 20],\r\n",
    "    'copy_X': [True],\r\n",
    "    'fit_intercept': [True],\r\n",
    "    'normalize': [True, False],\r\n",
    "    'max_iter': [10, 1000, 1500]\r\n",
    "}\r\n",
    "\r\n",
    "randomSearchCv = RandomizedSearchCV(\r\n",
    "    estimator=ridge, param_distributions=param_grid, cv=crossvalidation, scoring='r2', n_iter=10)\r\n",
    "randomSearchCv.fit(X, Y)\r\n",
    "\r\n",
    "print('Melhores Parâmetros: ', randomSearchCv.best_params_)\r\n",
    "print('Melhor score: ', randomSearchCv.best_score_)"
   ],
   "outputs": [
    {
     "output_type": "stream",
     "name": "stdout",
     "text": [
      "Melhor Parâmetros:  {'normalize': False, 'max_iter': 1000, 'fit_intercept': True, 'copy_X': True, 'alpha': 5}\n",
      "Melhor score:  0.8955001715166088\n"
     ]
    }
   ],
   "metadata": {
    "collapsed": true
   }
  },
  {
   "cell_type": "markdown",
   "source": [
    "Sumarize na tabela abaixo os indicadores para cada um dos preditores e suas respectivas pontuações para os conjuntos de dados de treino e de testes"
   ],
   "metadata": {}
  },
  {
   "cell_type": "markdown",
   "source": [
    "**Resposta:**\r\n",
    "\r\n",
    "|        |   RandomForestRegressor     |     LinearRegression        |                        Ridge                                  |\r\n",
    "|:-------|:---------------------------:|:---------------------------:|:-------------------------------------------------------------:|\r\n",
    "| treino |      {'oob_score': False, 'n_estimators': 100, 'max_features': 3, 'max_depth': 110, 'bootstrap': True}                      |     {'positive': True, 'normalize': False, 'n_jobs': 20, 'fit_intercept': True, 'copy_X': True}                     | {'normalize': False, 'max_iter': 1500, 'fit_intercept': True, 'copy_X': True, 'alpha': 1} |\r\n",
    "| teste  |      0.9221944608992022                      |       0.9064481240176022        |  0.9187794845554063\r\n"
   ],
   "metadata": {}
  },
  {
   "cell_type": "markdown",
   "source": [
    "**Pergunta:** Qual dos algoritmos obteve os melhores resultados? Quais caracaterísticas deste algoritmo podem ajudar a justificar tal resultado?\r\n",
    "\r\n",
    "**Resposta:**"
   ],
   "metadata": {}
  },
  {
   "cell_type": "markdown",
   "source": [
    "### __(BONUS: 1 ponto extra.)__ Implementação do algoritmo otimizado\r\n",
    "\r\n",
    "Configure o modelo selecionado com os parâmetros otimizados obtidos anteriormente."
   ],
   "metadata": {}
  },
  {
   "cell_type": "code",
   "execution_count": 506,
   "source": [
    "randomForest = RandomForestRegressor(\r\n",
    "    n_estimators=100, \r\n",
    "    max_features=3,\r\n",
    "    max_depth=110,\r\n",
    "    bootstrap=True)\r\n",
    "\r\n",
    "randomForest.fit(X, Y)"
   ],
   "outputs": [
    {
     "output_type": "execute_result",
     "data": {
      "text/plain": [
       "RandomForestRegressor(max_depth=110, max_features=3)"
      ]
     },
     "metadata": {},
     "execution_count": 506
    }
   ],
   "metadata": {
    "collapsed": true
   }
  },
  {
   "cell_type": "markdown",
   "source": [
    "### Modelo de produção: Teste com novos dados\r\n",
    "\r\n",
    "Utilize 3 exemplos criados por você mesmo para obter um valor de venda de veículo. Defina o teste para um resultado baixo, médio e alto do preço do carro."
   ],
   "metadata": {}
  },
  {
   "cell_type": "code",
   "execution_count": 507,
   "source": [
    "from sklearn.preprocessing import LabelEncoder\r\n",
    "from sklearn.preprocessing import OneHotEncoder\r\n",
    "\r\n",
    "#LabelEncoder\r\n",
    "labelEncoderDoors = LabelEncoder()\r\n",
    "labelEncoderDoors.fit_transform(df['number_of_doors'])\r\n",
    "\r\n",
    "labelEncoderCylinders = LabelEncoder()\r\n",
    "labelEncoderCylinders.fit_transform(df['number_of_cylinders'])\r\n",
    "\r\n",
    "#OneHotEncoder\r\n",
    "makeOneHotEncoder = OneHotEncoder()\r\n",
    "makeOhe = makeOneHotEncoder.fit_transform(df[['make']]).toarray()\r\n",
    "makeOhe = pd.DataFrame(makeOhe, columns=[\"make: \"+str(int(i)) for i in range(makeOhe.shape[1])])\r\n",
    "\r\n",
    "fuelTypeOneHotEncoder = OneHotEncoder()\r\n",
    "fuelTypeOhe = fuelTypeOneHotEncoder.fit_transform(df[['fuel_type']]).toarray()\r\n",
    "fuelTypeOhe = pd.DataFrame(fuelTypeOhe, columns=[\"fuel_type: \"+str(int(i)) for i in range(fuelTypeOhe.shape[1])])\r\n",
    "\r\n",
    "aspirationOneHotEncoder = OneHotEncoder()\r\n",
    "aspirationOhe = aspirationOneHotEncoder.fit_transform(df[['aspiration']]).toarray()\r\n",
    "aspirationOhe = pd.DataFrame(aspirationOhe, columns=[\"aspiration: \"+str(int(i)) for i in range(aspirationOhe.shape[1])])\r\n",
    "\r\n",
    "bodyStyleOneHotEncoder = OneHotEncoder()\r\n",
    "bodyStyleOhe = bodyStyleOneHotEncoder.fit_transform(df[['body_style']]).toarray()\r\n",
    "bodyStyleOhe = pd.DataFrame(bodyStyleOhe, columns=[\"body_style: \"+str(int(i)) for i in range(bodyStyleOhe.shape[1])])\r\n",
    "\r\n",
    "driveWheelsOneHotEncoder = OneHotEncoder()\r\n",
    "driveWheelsOhe = driveWheelsOneHotEncoder.fit_transform(df[['drive_wheels']]).toarray()\r\n",
    "driveWheelsOhe = pd.DataFrame(driveWheelsOhe, columns=[\"drive_wheels: \"+str(int(i)) for i in range(driveWheelsOhe.shape[1])])\r\n",
    "\r\n",
    "engineLocationOneHotEncoder = OneHotEncoder()\r\n",
    "engineLocationOhe = engineLocationOneHotEncoder.fit_transform(df[['engine_location']]).toarray()\r\n",
    "engineLocationOhe = pd.DataFrame(engineLocationOhe, columns=[\"engine_location: \"+str(int(i)) for i in range(engineLocationOhe.shape[1])])\r\n",
    "\r\n",
    "engineTypeOneHotEncoder = OneHotEncoder()\r\n",
    "engineTypeOhe = engineTypeOneHotEncoder.fit_transform(df[['engine_type']]).toarray()\r\n",
    "engineTypeOhe = pd.DataFrame(engineTypeOhe, columns=[\"engine_type: \"+str(int(i)) for i in range(engineTypeOhe.shape[1])])\r\n",
    "\r\n",
    "fuelSystemOneHotEncoder = OneHotEncoder()\r\n",
    "fuelSystemOhe = fuelSystemOneHotEncoder.fit_transform(df[['fuel_system']]).toarray()\r\n",
    "fuelSystemOhe = pd.DataFrame(fuelSystemOhe, columns=[\"fuel_system: \"+str(int(i)) for i in range(fuelSystemOhe.shape[1])])"
   ],
   "outputs": [],
   "metadata": {}
  },
  {
   "cell_type": "code",
   "execution_count": 511,
   "source": [
    "cleanDataframeInputs = cleanDataframe.drop(['price'], axis=1)\r\n",
    "\r\n",
    "teste1 = pd.DataFrame([[-1, 50 , 'chevrolet', 'gas', 'std'  , 'two' , 'hatchback', 'fwd', 'front', 93.7 , 150  , 64  , 52.6, 1837, 'ohc' , 'four'  , 79,  '1bbl', 2.91, 3.07, 10.1, 80 , 5500, 38, 42]], columns=cleanDataframeInputs.columns)\r\n",
    "teste2 = pd.DataFrame([[1 , 100, 'bmw'      , 'gas', 'std'  , 'two' , 'sedan'    , 'rwd', 'front', 101.2, 176.8, 64.8, 54.3, 2710, 'ohc' , 'six'   , 164, 'mpfi', 3.31, 3.19, 9   , 120, 4250, 21, 28]], columns=cleanDataframeInputs.columns)\r\n",
    "teste3 = pd.DataFrame([[3 , 150, 'jaguar'   , 'gas', 'turbo', 'four', 'sedan'    , '4wd', 'rear' , 102  , 191.7, 70.6, 47.8, 3950, 'ohcv', 'twelve', 326, 'mpfi', 3.54, 2.76, 11.5, 200, 5000, 13, 17]], columns=cleanDataframeInputs.columns)\r\n",
    "\r\n",
    "def transform(dataframe):\r\n",
    "    #LabelEncoder\r\n",
    "    dataframe['number_of_doors'] = labelEncoderDoors.transform(dataframe['number_of_doors'])\r\n",
    "    dataframe['number_of_cylinders'] = labelEncoderCylinders.transform(dataframe['number_of_cylinders'])\r\n",
    "\r\n",
    "    #OneHotEncoder\r\n",
    "    makeOhe = makeOneHotEncoder.transform(dataframe[['make']]).toarray()\r\n",
    "    makeOhe = pd.DataFrame(makeOhe, columns=[\"make: \"+str(int(i)) for i in range(makeOhe.shape[1])])\r\n",
    "\r\n",
    "    fuelTypeOhe = fuelTypeOneHotEncoder.transform(dataframe[['fuel_type']]).toarray()\r\n",
    "    fuelTypeOhe = pd.DataFrame(fuelTypeOhe, columns=[\"fuel_type: \"+str(int(i)) for i in range(fuelTypeOhe.shape[1])])\r\n",
    "\r\n",
    "    aspirationOhe = aspirationOneHotEncoder.transform(dataframe[['aspiration']]).toarray()\r\n",
    "    aspirationOhe = pd.DataFrame(aspirationOhe, columns=[\"aspiration: \"+str(int(i)) for i in range(aspirationOhe.shape[1])])\r\n",
    "\r\n",
    "    bodyStyleOhe = bodyStyleOneHotEncoder.transform(dataframe[['body_style']]).toarray()\r\n",
    "    bodyStyleOhe = pd.DataFrame(bodyStyleOhe, columns=[\"body_style: \"+str(int(i)) for i in range(bodyStyleOhe.shape[1])])\r\n",
    "\r\n",
    "    driveWheelsOhe = driveWheelsOneHotEncoder.transform(dataframe[['drive_wheels']]).toarray()\r\n",
    "    driveWheelsOhe = pd.DataFrame(driveWheelsOhe, columns=[\"drive_wheels: \"+str(int(i)) for i in range(driveWheelsOhe.shape[1])])\r\n",
    "\r\n",
    "    engineLocationOhe = engineLocationOneHotEncoder.transform(dataframe[['engine_location']]).toarray()\r\n",
    "    engineLocationOhe = pd.DataFrame(engineLocationOhe, columns=[\"engine_location: \"+str(int(i)) for i in range(engineLocationOhe.shape[1])])\r\n",
    "\r\n",
    "    engineTypeOhe = engineTypeOneHotEncoder.transform(dataframe[['engine_type']]).toarray()\r\n",
    "    engineTypeOhe = pd.DataFrame(engineTypeOhe, columns=[\"engine_type: \"+str(int(i)) for i in range(engineTypeOhe.shape[1])])\r\n",
    "\r\n",
    "    fuelSystemOhe = fuelSystemOneHotEncoder.transform(dataframe[['fuel_system']]).toarray()\r\n",
    "    fuelSystemOhe = pd.DataFrame(fuelSystemOhe, columns=[\"fuel_system: \"+str(int(i)) for i in range(fuelSystemOhe.shape[1])])\r\n",
    "\r\n",
    "    dataframe = pd.concat([\r\n",
    "        dataframe, \r\n",
    "        makeOhe,\r\n",
    "        fuelTypeOhe,\r\n",
    "        aspirationOhe,\r\n",
    "        bodyStyleOhe,\r\n",
    "        driveWheelsOhe,\r\n",
    "        engineLocationOhe,\r\n",
    "        engineTypeOhe,\r\n",
    "        fuelSystemOhe], axis=1)\r\n",
    "\r\n",
    "    dataframe = dataframe.drop([\r\n",
    "        'make',\r\n",
    "        'fuel_type',\r\n",
    "        'aspiration',\r\n",
    "        'body_style',\r\n",
    "        'drive_wheels',\r\n",
    "        'engine_location',\r\n",
    "        'engine_type',\r\n",
    "        'fuel_system'\r\n",
    "        ], axis=1)\r\n",
    "\r\n",
    "    scaled_data = scaler.transform(dataframe[dataframe.columns])\r\n",
    "\r\n",
    "    return pd.DataFrame(scaled_data, columns=dataframe.columns)\r\n",
    "\r\n",
    "teste1 = transform(teste1)\r\n",
    "teste2 = transform(teste2)\r\n",
    "teste3 = transform(teste3)\r\n",
    "\r\n",
    "predictTeste1 = randomForest.predict(teste1)\r\n",
    "predictTeste2 = randomForest.predict(teste2)\r\n",
    "predictTeste3 = randomForest.predict(teste3)\r\n",
    "\r\n",
    "print(\"O valor do veículo do primeiro teste (barato) é: \", predictTeste1[0])\r\n",
    "print(\"O valor do veículo do segundo teste (médio) é: \", predictTeste2[0])\r\n",
    "print(\"O valor do veículo do terceiro teste (caro) é: \", predictTeste3[0])\r\n"
   ],
   "outputs": [
    {
     "output_type": "error",
     "ename": "ValueError",
     "evalue": "X has 67 features, but MinMaxScaler is expecting 74 features as input.",
     "traceback": [
      "\u001b[1;31m---------------------------------------------------------------------------\u001b[0m",
      "\u001b[1;31mValueError\u001b[0m                                Traceback (most recent call last)",
      "\u001b[1;32m<ipython-input-511-9e5e336a8d13>\u001b[0m in \u001b[0;36m<module>\u001b[1;34m\u001b[0m\n\u001b[0;32m     61\u001b[0m     \u001b[1;32mreturn\u001b[0m \u001b[0mpd\u001b[0m\u001b[1;33m.\u001b[0m\u001b[0mDataFrame\u001b[0m\u001b[1;33m(\u001b[0m\u001b[0mscaled_data\u001b[0m\u001b[1;33m,\u001b[0m \u001b[0mcolumns\u001b[0m\u001b[1;33m=\u001b[0m\u001b[0mdataframe\u001b[0m\u001b[1;33m.\u001b[0m\u001b[0mcolumns\u001b[0m\u001b[1;33m)\u001b[0m\u001b[1;33m\u001b[0m\u001b[0m\n\u001b[0;32m     62\u001b[0m \u001b[1;33m\u001b[0m\u001b[0m\n\u001b[1;32m---> 63\u001b[1;33m \u001b[0mteste1\u001b[0m \u001b[1;33m=\u001b[0m \u001b[0mtransform\u001b[0m\u001b[1;33m(\u001b[0m\u001b[0mteste1\u001b[0m\u001b[1;33m)\u001b[0m\u001b[1;33m\u001b[0m\u001b[0m\n\u001b[0m\u001b[0;32m     64\u001b[0m \u001b[0mteste2\u001b[0m \u001b[1;33m=\u001b[0m \u001b[0mtransform\u001b[0m\u001b[1;33m(\u001b[0m\u001b[0mteste2\u001b[0m\u001b[1;33m)\u001b[0m\u001b[1;33m\u001b[0m\u001b[0m\n\u001b[0;32m     65\u001b[0m \u001b[0mteste3\u001b[0m \u001b[1;33m=\u001b[0m \u001b[0mtransform\u001b[0m\u001b[1;33m(\u001b[0m\u001b[0mteste3\u001b[0m\u001b[1;33m)\u001b[0m\u001b[1;33m\u001b[0m\u001b[0m\n",
      "\u001b[1;32m<ipython-input-511-9e5e336a8d13>\u001b[0m in \u001b[0;36mtransform\u001b[1;34m(dataframe)\u001b[0m\n\u001b[0;32m     57\u001b[0m         ], axis=1)\n\u001b[0;32m     58\u001b[0m \u001b[1;33m\u001b[0m\u001b[0m\n\u001b[1;32m---> 59\u001b[1;33m     \u001b[0mscaled_data\u001b[0m \u001b[1;33m=\u001b[0m \u001b[0mscaler\u001b[0m\u001b[1;33m.\u001b[0m\u001b[0mtransform\u001b[0m\u001b[1;33m(\u001b[0m\u001b[0mdataframe\u001b[0m\u001b[1;33m[\u001b[0m\u001b[0mdataframe\u001b[0m\u001b[1;33m.\u001b[0m\u001b[0mcolumns\u001b[0m\u001b[1;33m]\u001b[0m\u001b[1;33m)\u001b[0m\u001b[1;33m\u001b[0m\u001b[0m\n\u001b[0m\u001b[0;32m     60\u001b[0m \u001b[1;33m\u001b[0m\u001b[0m\n\u001b[0;32m     61\u001b[0m     \u001b[1;32mreturn\u001b[0m \u001b[0mpd\u001b[0m\u001b[1;33m.\u001b[0m\u001b[0mDataFrame\u001b[0m\u001b[1;33m(\u001b[0m\u001b[0mscaled_data\u001b[0m\u001b[1;33m,\u001b[0m \u001b[0mcolumns\u001b[0m\u001b[1;33m=\u001b[0m\u001b[0mdataframe\u001b[0m\u001b[1;33m.\u001b[0m\u001b[0mcolumns\u001b[0m\u001b[1;33m)\u001b[0m\u001b[1;33m\u001b[0m\u001b[0m\n",
      "\u001b[1;32m~\\AppData\\Local\\Programs\\Python\\Python37\\lib\\site-packages\\sklearn\\preprocessing\\_data.py\u001b[0m in \u001b[0;36mtransform\u001b[1;34m(self, X)\u001b[0m\n\u001b[0;32m    433\u001b[0m \u001b[1;33m\u001b[0m\u001b[0m\n\u001b[0;32m    434\u001b[0m         X = self._validate_data(X, copy=self.copy, dtype=FLOAT_DTYPES,\n\u001b[1;32m--> 435\u001b[1;33m                                 force_all_finite=\"allow-nan\", reset=False)\n\u001b[0m\u001b[0;32m    436\u001b[0m \u001b[1;33m\u001b[0m\u001b[0m\n\u001b[0;32m    437\u001b[0m         \u001b[0mX\u001b[0m \u001b[1;33m*=\u001b[0m \u001b[0mself\u001b[0m\u001b[1;33m.\u001b[0m\u001b[0mscale_\u001b[0m\u001b[1;33m\u001b[0m\u001b[0m\n",
      "\u001b[1;32m~\\AppData\\Local\\Programs\\Python\\Python37\\lib\\site-packages\\sklearn\\base.py\u001b[0m in \u001b[0;36m_validate_data\u001b[1;34m(self, X, y, reset, validate_separately, **check_params)\u001b[0m\n\u001b[0;32m    435\u001b[0m \u001b[1;33m\u001b[0m\u001b[0m\n\u001b[0;32m    436\u001b[0m         \u001b[1;32mif\u001b[0m \u001b[0mcheck_params\u001b[0m\u001b[1;33m.\u001b[0m\u001b[0mget\u001b[0m\u001b[1;33m(\u001b[0m\u001b[1;34m'ensure_2d'\u001b[0m\u001b[1;33m,\u001b[0m \u001b[1;32mTrue\u001b[0m\u001b[1;33m)\u001b[0m\u001b[1;33m:\u001b[0m\u001b[1;33m\u001b[0m\u001b[0m\n\u001b[1;32m--> 437\u001b[1;33m             \u001b[0mself\u001b[0m\u001b[1;33m.\u001b[0m\u001b[0m_check_n_features\u001b[0m\u001b[1;33m(\u001b[0m\u001b[0mX\u001b[0m\u001b[1;33m,\u001b[0m \u001b[0mreset\u001b[0m\u001b[1;33m=\u001b[0m\u001b[0mreset\u001b[0m\u001b[1;33m)\u001b[0m\u001b[1;33m\u001b[0m\u001b[0m\n\u001b[0m\u001b[0;32m    438\u001b[0m \u001b[1;33m\u001b[0m\u001b[0m\n\u001b[0;32m    439\u001b[0m         \u001b[1;32mreturn\u001b[0m \u001b[0mout\u001b[0m\u001b[1;33m\u001b[0m\u001b[0m\n",
      "\u001b[1;32m~\\AppData\\Local\\Programs\\Python\\Python37\\lib\\site-packages\\sklearn\\base.py\u001b[0m in \u001b[0;36m_check_n_features\u001b[1;34m(self, X, reset)\u001b[0m\n\u001b[0;32m    364\u001b[0m         \u001b[1;32mif\u001b[0m \u001b[0mn_features\u001b[0m \u001b[1;33m!=\u001b[0m \u001b[0mself\u001b[0m\u001b[1;33m.\u001b[0m\u001b[0mn_features_in_\u001b[0m\u001b[1;33m:\u001b[0m\u001b[1;33m\u001b[0m\u001b[0m\n\u001b[0;32m    365\u001b[0m             raise ValueError(\n\u001b[1;32m--> 366\u001b[1;33m                 \u001b[1;34mf\"X has {n_features} features, but {self.__class__.__name__} \"\u001b[0m\u001b[1;33m\u001b[0m\u001b[0m\n\u001b[0m\u001b[0;32m    367\u001b[0m                 f\"is expecting {self.n_features_in_} features as input.\")\n\u001b[0;32m    368\u001b[0m \u001b[1;33m\u001b[0m\u001b[0m\n",
      "\u001b[1;31mValueError\u001b[0m: X has 67 features, but MinMaxScaler is expecting 74 features as input."
     ]
    }
   ],
   "metadata": {
    "collapsed": true
   }
  },
  {
   "cell_type": "markdown",
   "source": [
    "**Pergunta:** Qual foi o resultado obtido? O resultado está coerente com o esperado?\r\n",
    "\r\n",
    "## 📝Resposta\r\n",
    "\r\n",
    "Como resultado obtivemos:\r\n",
    "\r\n",
    "- Valor do veículo 1 [Baixo custo]: $ XXX.XX\r\n",
    "- Valor do veículo 2 [Preço médio]: $ XXX.XX\r\n",
    "- Valor do veículo 3 [Alto custo]:  $ XXX.XX"
   ],
   "metadata": {}
  },
  {
   "cell_type": "markdown",
   "source": [
    "## 6. Conclusões finais\r\n",
    "\r\n",
    "Ufa!!... Chegamos ao final deste projeto. Parabéns! De forma simplificada e completa passamos por todas as etapas de aprendizado de maquina. Outras etapas podem ser adicionadas no tratamento dos dados e desenvolvimento do modelo."
   ],
   "metadata": {}
  },
  {
   "cell_type": "markdown",
   "source": [
    "**Pergunta:**: O modelo desenvolvido obteve um resultado satisfatório? Justifique:\r\n",
    "\r\n",
    "**Resposta**:"
   ],
   "metadata": {}
  },
  {
   "cell_type": "markdown",
   "source": [
    "**Pergunta:**: O que faria diferente para melhorar resultado obtido? Justifique:\r\n",
    "\r\n",
    "**Resposta**:"
   ],
   "metadata": {
    "collapsed": true
   }
  },
  {
   "cell_type": "markdown",
   "source": [
    "**Pergunta:**: As etapas de desenvolvimento se aplicam para um problema de classificação? Justifique:\r\n",
    "\r\n",
    "**Resposta**: Como o objetivo deste modelo de aprendizado de máquina é calcular o valor de uma variável numérica referente ao preço de um veículo, sendo um dado não categórico, um modelo de classificação não se aplica. Caso estivessemos tentando identificar o público alvo ideal para um veículo, por exemplo, o modelo de classificação se aplicaria."
   ],
   "metadata": {}
  },
  {
   "cell_type": "markdown",
   "source": [
    "## Referências\r\n",
    "\r\n",
    "- [https://scikit-learn.org/stable/auto_examples/model_selection/plot_randomized_search.html](https://scikit-learn.org/stable/auto_examples/model_selection/plot_randomized_search.html)\r\n",
    "- [https://scikit-learn.org/stable/modules/generated/sklearn.model_selection.RandomizedSearchCV.html](https://scikit-learn.org/stable/modules/generated/sklearn.model_selection.RandomizedSearchCV.html)"
   ],
   "metadata": {}
  }
 ],
 "metadata": {
  "kernelspec": {
   "name": "python3",
   "display_name": "Python 3.7.0 64-bit"
  },
  "language_info": {
   "codemirror_mode": {
    "name": "ipython",
    "version": 3
   },
   "file_extension": ".py",
   "mimetype": "text/x-python",
   "name": "python",
   "nbconvert_exporter": "python",
   "pygments_lexer": "ipython3",
   "version": "3.7.0"
  },
  "interpreter": {
   "hash": "5f7a2d2074bca003b23aa43f9d37ee72bf0bfcade17f1cdebb33b3aea67c0548"
  }
 },
 "nbformat": 4,
 "nbformat_minor": 2
}