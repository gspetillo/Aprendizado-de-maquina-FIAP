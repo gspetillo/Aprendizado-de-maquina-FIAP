{
 "cells": [
  {
   "cell_type": "markdown",
   "source": [
    "# NAC3 - Aprendizado de maquina\r\n",
    "\r\n",
    "Nesta nac vamos desenvolver um modelo preditivo do valor do carro.\r\n",
    "\r\n",
    "\r\n",
    "Dica: Siga todas as instruções, completando e construindo os algoritmos necessários.\r\n",
    "\r\n",
    "Nas celulas **Seu Código aqui...** significa que é necessário realizar a implementação de algum código. Utilize quantos blocos julgar necessário para criar o código.\r\n",
    "\r\n",
    "Nas celulas **Responda** significa que é nessário uma resposta clara e objetiva (pode ser por texto, gráfico, imagem...) para a pergunta.\r\n",
    "\r\n",
    "\r\n",
    "## Informações do grupo\r\n",
    "\r\n",
    "Este projeto poderá ser feito por grupos de `até 2 alunos`.\r\n",
    "\r\n",
    "| Nome dos Integrantes             | RM             | Turma   |\r\n",
    "| :------------------------------- | :------------- | :-----: |\r\n",
    "| Gabriel Siqueira Petillo         | RM 81238       |  4SIA   |\r\n",
    "| Jean Jacques Nascimento Barros   | RM 81524       |  4SIA   |\r\n",
    "\r\n",
    "\r\n",
    "## Data de entrega final\r\n",
    "\r\n",
    "Será considerado para avaliação e correção o ultimo commit do `**dia 16/09/2021**`\r\n",
    "\r\n",
    "Responda o `Google forms` :   [LINK FORMULARIO](https://forms.gle/2iivfbMVToXwe9Wc6).\r\n",
    "\r\n",
    "\r\n",
    "## Rubrica \r\n",
    "\r\n",
    "Os critérios de avaliação do projeto será conforme a rubrica.\r\n",
    "\r\n",
    "\r\n",
    "- R1: Exploração de Dados (Até 1 ponto)\r\n",
    "- R2: Preparação de Dados (Até 2 ponto)\r\n",
    "- R3: Desenvolvimento do Modelo (Até 2 ponto)\r\n",
    "- R4: Treinamento e Teste do Modelo (Até 1 ponto)\r\n",
    "- R5: Validação e Otimização do Modelo (Até 2 ponto)\r\n",
    "- R6: Conclusões Finais (Até 2 ponto)\r\n",
    "\r\n",
    "Nota_final = R1 + R2 + R3 + R4 + R5 + R6"
   ],
   "metadata": {}
  },
  {
   "cell_type": "markdown",
   "source": [
    "## 1. Exploração de Dados"
   ],
   "metadata": {}
  },
  {
   "cell_type": "markdown",
   "source": [
    "Os dados que serão utilizados extraídos do Kaggle deste [dataset](https://www.kaggle.com/nisargpatel/automobiles/data).\r\n",
    "\r\n",
    "Carregue o dataset \"Automobile.csv\" e faça uma inspeção nas 15 primeiras linhas para identificação básica dos atributos."
   ],
   "metadata": {}
  },
  {
   "cell_type": "code",
   "execution_count": 43,
   "source": [
    "import seaborn as sns\r\n",
    "import matplotlib.pyplot as plt\r\n",
    "import pandas as pd\r\n",
    "import numpy as np\r\n",
    "\r\n",
    "%matplotlib inline"
   ],
   "outputs": [],
   "metadata": {
    "collapsed": true
   }
  },
  {
   "cell_type": "code",
   "execution_count": 44,
   "source": [
    "#Seu Código aqui....\r\n",
    "url_db= 'Automobile.csv'\r\n",
    "df = pd.read_csv(url_db, header=0)\r\n",
    "\r\n",
    "pd.set_option('display.max_columns', 75)\r\n",
    "df.head(15)"
   ],
   "outputs": [
    {
     "output_type": "execute_result",
     "data": {
      "text/html": [
       "<div>\n",
       "<style scoped>\n",
       "    .dataframe tbody tr th:only-of-type {\n",
       "        vertical-align: middle;\n",
       "    }\n",
       "\n",
       "    .dataframe tbody tr th {\n",
       "        vertical-align: top;\n",
       "    }\n",
       "\n",
       "    .dataframe thead th {\n",
       "        text-align: right;\n",
       "    }\n",
       "</style>\n",
       "<table border=\"1\" class=\"dataframe\">\n",
       "  <thead>\n",
       "    <tr style=\"text-align: right;\">\n",
       "      <th></th>\n",
       "      <th>symboling</th>\n",
       "      <th>normalized_losses</th>\n",
       "      <th>make</th>\n",
       "      <th>fuel_type</th>\n",
       "      <th>aspiration</th>\n",
       "      <th>number_of_doors</th>\n",
       "      <th>body_style</th>\n",
       "      <th>drive_wheels</th>\n",
       "      <th>engine_location</th>\n",
       "      <th>wheel_base</th>\n",
       "      <th>length</th>\n",
       "      <th>width</th>\n",
       "      <th>height</th>\n",
       "      <th>curb_weight</th>\n",
       "      <th>engine_type</th>\n",
       "      <th>number_of_cylinders</th>\n",
       "      <th>engine_size</th>\n",
       "      <th>fuel_system</th>\n",
       "      <th>bore</th>\n",
       "      <th>stroke</th>\n",
       "      <th>compression_ratio</th>\n",
       "      <th>horsepower</th>\n",
       "      <th>peak_rpm</th>\n",
       "      <th>city_mpg</th>\n",
       "      <th>highway_mpg</th>\n",
       "      <th>price</th>\n",
       "    </tr>\n",
       "  </thead>\n",
       "  <tbody>\n",
       "    <tr>\n",
       "      <th>0</th>\n",
       "      <td>3</td>\n",
       "      <td>168</td>\n",
       "      <td>alfa-romero</td>\n",
       "      <td>gas</td>\n",
       "      <td>std</td>\n",
       "      <td>two</td>\n",
       "      <td>convertible</td>\n",
       "      <td>rwd</td>\n",
       "      <td>front</td>\n",
       "      <td>88.6</td>\n",
       "      <td>168.8</td>\n",
       "      <td>64.1</td>\n",
       "      <td>48.8</td>\n",
       "      <td>2548</td>\n",
       "      <td>dohc</td>\n",
       "      <td>four</td>\n",
       "      <td>130</td>\n",
       "      <td>mpfi</td>\n",
       "      <td>3.47</td>\n",
       "      <td>2.68</td>\n",
       "      <td>9.0</td>\n",
       "      <td>111</td>\n",
       "      <td>5000</td>\n",
       "      <td>21</td>\n",
       "      <td>27</td>\n",
       "      <td>13495</td>\n",
       "    </tr>\n",
       "    <tr>\n",
       "      <th>1</th>\n",
       "      <td>3</td>\n",
       "      <td>168</td>\n",
       "      <td>alfa-romero</td>\n",
       "      <td>gas</td>\n",
       "      <td>std</td>\n",
       "      <td>two</td>\n",
       "      <td>convertible</td>\n",
       "      <td>rwd</td>\n",
       "      <td>front</td>\n",
       "      <td>88.6</td>\n",
       "      <td>168.8</td>\n",
       "      <td>64.1</td>\n",
       "      <td>48.8</td>\n",
       "      <td>2548</td>\n",
       "      <td>dohc</td>\n",
       "      <td>four</td>\n",
       "      <td>130</td>\n",
       "      <td>mpfi</td>\n",
       "      <td>3.47</td>\n",
       "      <td>2.68</td>\n",
       "      <td>9.0</td>\n",
       "      <td>111</td>\n",
       "      <td>5000</td>\n",
       "      <td>21</td>\n",
       "      <td>27</td>\n",
       "      <td>16500</td>\n",
       "    </tr>\n",
       "    <tr>\n",
       "      <th>2</th>\n",
       "      <td>1</td>\n",
       "      <td>168</td>\n",
       "      <td>alfa-romero</td>\n",
       "      <td>gas</td>\n",
       "      <td>std</td>\n",
       "      <td>two</td>\n",
       "      <td>hatchback</td>\n",
       "      <td>rwd</td>\n",
       "      <td>front</td>\n",
       "      <td>94.5</td>\n",
       "      <td>171.2</td>\n",
       "      <td>65.5</td>\n",
       "      <td>52.4</td>\n",
       "      <td>2823</td>\n",
       "      <td>ohcv</td>\n",
       "      <td>six</td>\n",
       "      <td>152</td>\n",
       "      <td>mpfi</td>\n",
       "      <td>2.68</td>\n",
       "      <td>3.47</td>\n",
       "      <td>9.0</td>\n",
       "      <td>154</td>\n",
       "      <td>5000</td>\n",
       "      <td>19</td>\n",
       "      <td>26</td>\n",
       "      <td>16500</td>\n",
       "    </tr>\n",
       "    <tr>\n",
       "      <th>3</th>\n",
       "      <td>2</td>\n",
       "      <td>164</td>\n",
       "      <td>audi</td>\n",
       "      <td>gas</td>\n",
       "      <td>std</td>\n",
       "      <td>four</td>\n",
       "      <td>sedan</td>\n",
       "      <td>fwd</td>\n",
       "      <td>front</td>\n",
       "      <td>99.8</td>\n",
       "      <td>176.6</td>\n",
       "      <td>66.2</td>\n",
       "      <td>54.3</td>\n",
       "      <td>2337</td>\n",
       "      <td>ohc</td>\n",
       "      <td>four</td>\n",
       "      <td>109</td>\n",
       "      <td>mpfi</td>\n",
       "      <td>3.19</td>\n",
       "      <td>3.40</td>\n",
       "      <td>10.0</td>\n",
       "      <td>102</td>\n",
       "      <td>5500</td>\n",
       "      <td>24</td>\n",
       "      <td>30</td>\n",
       "      <td>13950</td>\n",
       "    </tr>\n",
       "    <tr>\n",
       "      <th>4</th>\n",
       "      <td>2</td>\n",
       "      <td>164</td>\n",
       "      <td>audi</td>\n",
       "      <td>gas</td>\n",
       "      <td>std</td>\n",
       "      <td>four</td>\n",
       "      <td>sedan</td>\n",
       "      <td>4wd</td>\n",
       "      <td>front</td>\n",
       "      <td>99.4</td>\n",
       "      <td>176.6</td>\n",
       "      <td>66.4</td>\n",
       "      <td>54.3</td>\n",
       "      <td>2824</td>\n",
       "      <td>ohc</td>\n",
       "      <td>five</td>\n",
       "      <td>136</td>\n",
       "      <td>mpfi</td>\n",
       "      <td>3.19</td>\n",
       "      <td>3.40</td>\n",
       "      <td>8.0</td>\n",
       "      <td>115</td>\n",
       "      <td>5500</td>\n",
       "      <td>18</td>\n",
       "      <td>22</td>\n",
       "      <td>17450</td>\n",
       "    </tr>\n",
       "    <tr>\n",
       "      <th>5</th>\n",
       "      <td>2</td>\n",
       "      <td>161</td>\n",
       "      <td>audi</td>\n",
       "      <td>gas</td>\n",
       "      <td>std</td>\n",
       "      <td>two</td>\n",
       "      <td>sedan</td>\n",
       "      <td>fwd</td>\n",
       "      <td>front</td>\n",
       "      <td>99.8</td>\n",
       "      <td>177.3</td>\n",
       "      <td>66.3</td>\n",
       "      <td>53.1</td>\n",
       "      <td>2507</td>\n",
       "      <td>ohc</td>\n",
       "      <td>five</td>\n",
       "      <td>136</td>\n",
       "      <td>mpfi</td>\n",
       "      <td>3.19</td>\n",
       "      <td>3.40</td>\n",
       "      <td>8.5</td>\n",
       "      <td>110</td>\n",
       "      <td>5500</td>\n",
       "      <td>19</td>\n",
       "      <td>25</td>\n",
       "      <td>15250</td>\n",
       "    </tr>\n",
       "    <tr>\n",
       "      <th>6</th>\n",
       "      <td>1</td>\n",
       "      <td>158</td>\n",
       "      <td>audi</td>\n",
       "      <td>gas</td>\n",
       "      <td>std</td>\n",
       "      <td>four</td>\n",
       "      <td>sedan</td>\n",
       "      <td>fwd</td>\n",
       "      <td>front</td>\n",
       "      <td>105.8</td>\n",
       "      <td>192.7</td>\n",
       "      <td>71.4</td>\n",
       "      <td>55.7</td>\n",
       "      <td>2844</td>\n",
       "      <td>ohc</td>\n",
       "      <td>five</td>\n",
       "      <td>136</td>\n",
       "      <td>mpfi</td>\n",
       "      <td>3.19</td>\n",
       "      <td>3.40</td>\n",
       "      <td>8.5</td>\n",
       "      <td>110</td>\n",
       "      <td>5500</td>\n",
       "      <td>19</td>\n",
       "      <td>25</td>\n",
       "      <td>17710</td>\n",
       "    </tr>\n",
       "    <tr>\n",
       "      <th>7</th>\n",
       "      <td>1</td>\n",
       "      <td>168</td>\n",
       "      <td>audi</td>\n",
       "      <td>gas</td>\n",
       "      <td>std</td>\n",
       "      <td>four</td>\n",
       "      <td>wagon</td>\n",
       "      <td>fwd</td>\n",
       "      <td>front</td>\n",
       "      <td>105.8</td>\n",
       "      <td>192.7</td>\n",
       "      <td>71.4</td>\n",
       "      <td>55.7</td>\n",
       "      <td>2954</td>\n",
       "      <td>ohc</td>\n",
       "      <td>five</td>\n",
       "      <td>136</td>\n",
       "      <td>mpfi</td>\n",
       "      <td>3.19</td>\n",
       "      <td>3.40</td>\n",
       "      <td>8.5</td>\n",
       "      <td>110</td>\n",
       "      <td>5500</td>\n",
       "      <td>19</td>\n",
       "      <td>25</td>\n",
       "      <td>18920</td>\n",
       "    </tr>\n",
       "    <tr>\n",
       "      <th>8</th>\n",
       "      <td>1</td>\n",
       "      <td>158</td>\n",
       "      <td>audi</td>\n",
       "      <td>gas</td>\n",
       "      <td>turbo</td>\n",
       "      <td>four</td>\n",
       "      <td>sedan</td>\n",
       "      <td>fwd</td>\n",
       "      <td>front</td>\n",
       "      <td>105.8</td>\n",
       "      <td>192.7</td>\n",
       "      <td>71.4</td>\n",
       "      <td>55.9</td>\n",
       "      <td>3086</td>\n",
       "      <td>ohc</td>\n",
       "      <td>five</td>\n",
       "      <td>131</td>\n",
       "      <td>mpfi</td>\n",
       "      <td>3.13</td>\n",
       "      <td>3.40</td>\n",
       "      <td>8.3</td>\n",
       "      <td>140</td>\n",
       "      <td>5500</td>\n",
       "      <td>17</td>\n",
       "      <td>20</td>\n",
       "      <td>23875</td>\n",
       "    </tr>\n",
       "    <tr>\n",
       "      <th>9</th>\n",
       "      <td>2</td>\n",
       "      <td>192</td>\n",
       "      <td>bmw</td>\n",
       "      <td>gas</td>\n",
       "      <td>std</td>\n",
       "      <td>two</td>\n",
       "      <td>sedan</td>\n",
       "      <td>rwd</td>\n",
       "      <td>front</td>\n",
       "      <td>101.2</td>\n",
       "      <td>176.8</td>\n",
       "      <td>64.8</td>\n",
       "      <td>54.3</td>\n",
       "      <td>2395</td>\n",
       "      <td>ohc</td>\n",
       "      <td>four</td>\n",
       "      <td>108</td>\n",
       "      <td>mpfi</td>\n",
       "      <td>3.50</td>\n",
       "      <td>2.80</td>\n",
       "      <td>8.8</td>\n",
       "      <td>101</td>\n",
       "      <td>5800</td>\n",
       "      <td>23</td>\n",
       "      <td>29</td>\n",
       "      <td>16430</td>\n",
       "    </tr>\n",
       "    <tr>\n",
       "      <th>10</th>\n",
       "      <td>0</td>\n",
       "      <td>192</td>\n",
       "      <td>bmw</td>\n",
       "      <td>gas</td>\n",
       "      <td>std</td>\n",
       "      <td>four</td>\n",
       "      <td>sedan</td>\n",
       "      <td>rwd</td>\n",
       "      <td>front</td>\n",
       "      <td>101.2</td>\n",
       "      <td>176.8</td>\n",
       "      <td>64.8</td>\n",
       "      <td>54.3</td>\n",
       "      <td>2395</td>\n",
       "      <td>ohc</td>\n",
       "      <td>four</td>\n",
       "      <td>108</td>\n",
       "      <td>mpfi</td>\n",
       "      <td>3.50</td>\n",
       "      <td>2.80</td>\n",
       "      <td>8.8</td>\n",
       "      <td>101</td>\n",
       "      <td>5800</td>\n",
       "      <td>23</td>\n",
       "      <td>29</td>\n",
       "      <td>16925</td>\n",
       "    </tr>\n",
       "    <tr>\n",
       "      <th>11</th>\n",
       "      <td>0</td>\n",
       "      <td>188</td>\n",
       "      <td>bmw</td>\n",
       "      <td>gas</td>\n",
       "      <td>std</td>\n",
       "      <td>two</td>\n",
       "      <td>sedan</td>\n",
       "      <td>rwd</td>\n",
       "      <td>front</td>\n",
       "      <td>101.2</td>\n",
       "      <td>176.8</td>\n",
       "      <td>64.8</td>\n",
       "      <td>54.3</td>\n",
       "      <td>2710</td>\n",
       "      <td>ohc</td>\n",
       "      <td>six</td>\n",
       "      <td>164</td>\n",
       "      <td>mpfi</td>\n",
       "      <td>3.31</td>\n",
       "      <td>3.19</td>\n",
       "      <td>9.0</td>\n",
       "      <td>121</td>\n",
       "      <td>4250</td>\n",
       "      <td>21</td>\n",
       "      <td>28</td>\n",
       "      <td>20970</td>\n",
       "    </tr>\n",
       "    <tr>\n",
       "      <th>12</th>\n",
       "      <td>0</td>\n",
       "      <td>188</td>\n",
       "      <td>bmw</td>\n",
       "      <td>gas</td>\n",
       "      <td>std</td>\n",
       "      <td>four</td>\n",
       "      <td>sedan</td>\n",
       "      <td>rwd</td>\n",
       "      <td>front</td>\n",
       "      <td>101.2</td>\n",
       "      <td>176.8</td>\n",
       "      <td>64.8</td>\n",
       "      <td>54.3</td>\n",
       "      <td>2765</td>\n",
       "      <td>ohc</td>\n",
       "      <td>six</td>\n",
       "      <td>164</td>\n",
       "      <td>mpfi</td>\n",
       "      <td>3.31</td>\n",
       "      <td>3.19</td>\n",
       "      <td>9.0</td>\n",
       "      <td>121</td>\n",
       "      <td>4250</td>\n",
       "      <td>21</td>\n",
       "      <td>28</td>\n",
       "      <td>21105</td>\n",
       "    </tr>\n",
       "    <tr>\n",
       "      <th>13</th>\n",
       "      <td>1</td>\n",
       "      <td>149</td>\n",
       "      <td>bmw</td>\n",
       "      <td>gas</td>\n",
       "      <td>std</td>\n",
       "      <td>four</td>\n",
       "      <td>sedan</td>\n",
       "      <td>rwd</td>\n",
       "      <td>front</td>\n",
       "      <td>103.5</td>\n",
       "      <td>189.0</td>\n",
       "      <td>66.9</td>\n",
       "      <td>55.7</td>\n",
       "      <td>3055</td>\n",
       "      <td>ohc</td>\n",
       "      <td>six</td>\n",
       "      <td>164</td>\n",
       "      <td>mpfi</td>\n",
       "      <td>3.31</td>\n",
       "      <td>3.19</td>\n",
       "      <td>9.0</td>\n",
       "      <td>121</td>\n",
       "      <td>4250</td>\n",
       "      <td>20</td>\n",
       "      <td>25</td>\n",
       "      <td>24565</td>\n",
       "    </tr>\n",
       "    <tr>\n",
       "      <th>14</th>\n",
       "      <td>0</td>\n",
       "      <td>149</td>\n",
       "      <td>bmw</td>\n",
       "      <td>gas</td>\n",
       "      <td>std</td>\n",
       "      <td>four</td>\n",
       "      <td>sedan</td>\n",
       "      <td>rwd</td>\n",
       "      <td>front</td>\n",
       "      <td>103.5</td>\n",
       "      <td>189.0</td>\n",
       "      <td>66.9</td>\n",
       "      <td>55.7</td>\n",
       "      <td>3230</td>\n",
       "      <td>ohc</td>\n",
       "      <td>six</td>\n",
       "      <td>209</td>\n",
       "      <td>mpfi</td>\n",
       "      <td>3.62</td>\n",
       "      <td>3.39</td>\n",
       "      <td>8.0</td>\n",
       "      <td>182</td>\n",
       "      <td>5400</td>\n",
       "      <td>16</td>\n",
       "      <td>22</td>\n",
       "      <td>30760</td>\n",
       "    </tr>\n",
       "  </tbody>\n",
       "</table>\n",
       "</div>"
      ],
      "text/plain": [
       "    symboling  normalized_losses         make fuel_type aspiration  \\\n",
       "0           3                168  alfa-romero       gas        std   \n",
       "1           3                168  alfa-romero       gas        std   \n",
       "2           1                168  alfa-romero       gas        std   \n",
       "3           2                164         audi       gas        std   \n",
       "4           2                164         audi       gas        std   \n",
       "5           2                161         audi       gas        std   \n",
       "6           1                158         audi       gas        std   \n",
       "7           1                168         audi       gas        std   \n",
       "8           1                158         audi       gas      turbo   \n",
       "9           2                192          bmw       gas        std   \n",
       "10          0                192          bmw       gas        std   \n",
       "11          0                188          bmw       gas        std   \n",
       "12          0                188          bmw       gas        std   \n",
       "13          1                149          bmw       gas        std   \n",
       "14          0                149          bmw       gas        std   \n",
       "\n",
       "   number_of_doors   body_style drive_wheels engine_location  wheel_base  \\\n",
       "0              two  convertible          rwd           front        88.6   \n",
       "1              two  convertible          rwd           front        88.6   \n",
       "2              two    hatchback          rwd           front        94.5   \n",
       "3             four        sedan          fwd           front        99.8   \n",
       "4             four        sedan          4wd           front        99.4   \n",
       "5              two        sedan          fwd           front        99.8   \n",
       "6             four        sedan          fwd           front       105.8   \n",
       "7             four        wagon          fwd           front       105.8   \n",
       "8             four        sedan          fwd           front       105.8   \n",
       "9              two        sedan          rwd           front       101.2   \n",
       "10            four        sedan          rwd           front       101.2   \n",
       "11             two        sedan          rwd           front       101.2   \n",
       "12            four        sedan          rwd           front       101.2   \n",
       "13            four        sedan          rwd           front       103.5   \n",
       "14            four        sedan          rwd           front       103.5   \n",
       "\n",
       "    length  width  height  curb_weight engine_type number_of_cylinders  \\\n",
       "0    168.8   64.1    48.8         2548        dohc                four   \n",
       "1    168.8   64.1    48.8         2548        dohc                four   \n",
       "2    171.2   65.5    52.4         2823        ohcv                 six   \n",
       "3    176.6   66.2    54.3         2337         ohc                four   \n",
       "4    176.6   66.4    54.3         2824         ohc                five   \n",
       "5    177.3   66.3    53.1         2507         ohc                five   \n",
       "6    192.7   71.4    55.7         2844         ohc                five   \n",
       "7    192.7   71.4    55.7         2954         ohc                five   \n",
       "8    192.7   71.4    55.9         3086         ohc                five   \n",
       "9    176.8   64.8    54.3         2395         ohc                four   \n",
       "10   176.8   64.8    54.3         2395         ohc                four   \n",
       "11   176.8   64.8    54.3         2710         ohc                 six   \n",
       "12   176.8   64.8    54.3         2765         ohc                 six   \n",
       "13   189.0   66.9    55.7         3055         ohc                 six   \n",
       "14   189.0   66.9    55.7         3230         ohc                 six   \n",
       "\n",
       "    engine_size fuel_system  bore  stroke  compression_ratio  horsepower  \\\n",
       "0           130        mpfi  3.47    2.68                9.0         111   \n",
       "1           130        mpfi  3.47    2.68                9.0         111   \n",
       "2           152        mpfi  2.68    3.47                9.0         154   \n",
       "3           109        mpfi  3.19    3.40               10.0         102   \n",
       "4           136        mpfi  3.19    3.40                8.0         115   \n",
       "5           136        mpfi  3.19    3.40                8.5         110   \n",
       "6           136        mpfi  3.19    3.40                8.5         110   \n",
       "7           136        mpfi  3.19    3.40                8.5         110   \n",
       "8           131        mpfi  3.13    3.40                8.3         140   \n",
       "9           108        mpfi  3.50    2.80                8.8         101   \n",
       "10          108        mpfi  3.50    2.80                8.8         101   \n",
       "11          164        mpfi  3.31    3.19                9.0         121   \n",
       "12          164        mpfi  3.31    3.19                9.0         121   \n",
       "13          164        mpfi  3.31    3.19                9.0         121   \n",
       "14          209        mpfi  3.62    3.39                8.0         182   \n",
       "\n",
       "    peak_rpm  city_mpg  highway_mpg  price  \n",
       "0       5000        21           27  13495  \n",
       "1       5000        21           27  16500  \n",
       "2       5000        19           26  16500  \n",
       "3       5500        24           30  13950  \n",
       "4       5500        18           22  17450  \n",
       "5       5500        19           25  15250  \n",
       "6       5500        19           25  17710  \n",
       "7       5500        19           25  18920  \n",
       "8       5500        17           20  23875  \n",
       "9       5800        23           29  16430  \n",
       "10      5800        23           29  16925  \n",
       "11      4250        21           28  20970  \n",
       "12      4250        21           28  21105  \n",
       "13      4250        20           25  24565  \n",
       "14      5400        16           22  30760  "
      ]
     },
     "metadata": {},
     "execution_count": 44
    }
   ],
   "metadata": {
    "collapsed": true
   }
  },
  {
   "cell_type": "markdown",
   "source": [
    "**Pergunta:** Apresente uma relação das coluna e seu significado:\r\n",
    "\r\n",
    "Exemplo: \r\n",
    "\r\n",
    "- make: fabricante\r\n",
    "- fuel_type: tipo de combustível\r\n",
    "- price: preço (**Variável Alvo, atributo que será predito pelo modelo de ML**)"
   ],
   "metadata": {}
  },
  {
   "cell_type": "markdown",
   "source": [
    "**Responda**\r\n",
    "\r\n",
    "- **symboling**: grau de risco de seguro\r\n",
    "- **normalized_losses**: média de depreciação do veículo ao ano\r\n",
    "- **make**: marca fabricante\r\n",
    "- **fuel_type**: tipo de combustível\r\n",
    "- **aspiration**: forma de mistura ar-combustível\r\n",
    "- **number_of_doors**: quantidade de portas\r\n",
    "- **body_style**: tipo de carroceria\r\n",
    "- **drive_wheels**: tipo de tração\r\n",
    "- **engine_location**: posição do motor\r\n",
    "- **wheel_base**: distância entre os eixos\r\n",
    "- **length**: comprimento do veículo\r\n",
    "- **width**: largura do veículo\r\n",
    "- **height**: peso do veículo\r\n",
    "- **curb_weight**: peso padrão do veículo (sem carga)\r\n",
    "- **engine_type**: tipo de motor\r\n",
    "- **number_of_cylinders**: quantidade de cilindros\r\n",
    "- **engine_size**: tamanho do motor\r\n",
    "- **fuel_system**: sistema de injeção de combustível\r\n",
    "- **bore**: diâmetro do cilindro do motor\r\n",
    "- **stroke**: distância de movimento do pistão em um ciclo\r\n",
    "- **compression_ratio**: razão entre o volume do cilindro e a câmara de combustão\r\n",
    "- **horsepower**: cavalos de potência (HP)\r\n",
    "- **peak_rpm** ápice de rotações por minuto (RPM) do motor,\r\n",
    "- **city_mpg**: rendimento de milhas por galão de combustível em ambiente urbano\r\n",
    "- **highway_mpg**: rendimento de milhas por galão de combustível em rodovias\r\n",
    "- **price**: preço do veículo ao consumidor\r\n",
    "\r\n",
    "\r\n",
    "\r\n",
    "\r\n"
   ],
   "metadata": {}
  },
  {
   "cell_type": "markdown",
   "source": [
    "### Análise profunda dos dados\r\n",
    "\r\n",
    "Faça uma análise exploratória dos dados. Utilize-se de gráficos e tabelas auxiliares, faça correlações entre os atributos e levante algumas suposições. "
   ],
   "metadata": {}
  },
  {
   "cell_type": "code",
   "execution_count": 45,
   "source": [
    "# Relação entre o tipo de combustível e o preço\r\n",
    "sns.boxplot(x='fuel_type', y='price', data=df)\r\n",
    "plt.show()"
   ],
   "outputs": [
    {
     "output_type": "display_data",
     "data": {
      "image/png": "[encoded data removed]",
      "text/plain": [
       "<Figure size 432x288 with 1 Axes>"
      ]
     },
     "metadata": {
      "needs_background": "light"
     }
    }
   ],
   "metadata": {
    "collapsed": true
   }
  },
  {
   "cell_type": "code",
   "execution_count": 46,
   "source": [
    "x = df['horsepower']\r\n",
    "y = df['price']\r\n",
    "\r\n",
    "plt.scatter(x, y)\r\n",
    "\r\n",
    "sns.regplot(x='horsepower', y='price', data=df)\r\n",
    "plt.title('1. Horsepower vs Price')\r\n",
    "plt.ylim(0)\r\n",
    "plt.show()"
   ],
   "outputs": [
    {
     "output_type": "display_data",
     "data": {
      "image/png": "[encoded data removed]",
      "text/plain": [
       "<Figure size 432x288 with 1 Axes>"
      ]
     },
     "metadata": {
      "needs_background": "light"
     }
    }
   ],
   "metadata": {}
  },
  {
   "cell_type": "code",
   "execution_count": 47,
   "source": [
    "sns.heatmap(df.corr(), annot=False)\r\n",
    "plt.title('2. Correlation Heatmap')\r\n",
    "plt.show()"
   ],
   "outputs": [
    {
     "output_type": "display_data",
     "data": {
      "image/png": "[encoded data removed]",
      "text/plain": [
       "<Figure size 432x288 with 2 Axes>"
      ]
     },
     "metadata": {
      "needs_background": "light"
     }
    }
   ],
   "metadata": {}
  },
  {
   "cell_type": "code",
   "execution_count": 48,
   "source": [
    "g = sns.lmplot(\r\n",
    "    data=df,\r\n",
    "    x='horsepower', y='price', hue='number_of_doors',\r\n",
    "    height=5\r\n",
    ")\r\n",
    "\r\n",
    "g.set(xlabel='horsepower', ylabel='price', title='3. Horsepower vs Price by Number of Doors')"
   ],
   "outputs": [
    {
     "output_type": "execute_result",
     "data": {
      "text/plain": [
       "<seaborn.axisgrid.FacetGrid at 0x26c051ceeb8>"
      ]
     },
     "metadata": {},
     "execution_count": 48
    },
    {
     "output_type": "display_data",
     "data": {
      "image/png": "[encoded data removed]",
      "text/plain": [
       "<Figure size 462.675x360 with 1 Axes>"
      ]
     },
     "metadata": {
      "needs_background": "light"
     }
    }
   ],
   "metadata": {}
  },
  {
   "cell_type": "code",
   "execution_count": 49,
   "source": [
    "g = sns.lmplot(\r\n",
    "    data=df,\r\n",
    "    x='horsepower', y='price', hue='drive_wheels',\r\n",
    "    height=5\r\n",
    ")\r\n",
    "\r\n",
    "g.set(xlabel='horsepower', ylabel='price', title='4. Horsepower vs Price by Drive Wheels')"
   ],
   "outputs": [
    {
     "output_type": "execute_result",
     "data": {
      "text/plain": [
       "<seaborn.axisgrid.FacetGrid at 0x26c04f5f208>"
      ]
     },
     "metadata": {},
     "execution_count": 49
    },
    {
     "output_type": "display_data",
     "data": {
      "image/png": "[encoded data removed]",
      "text/plain": [
       "<Figure size 438.8x360 with 1 Axes>"
      ]
     },
     "metadata": {
      "needs_background": "light"
     }
    }
   ],
   "metadata": {}
  },
  {
   "cell_type": "code",
   "execution_count": 50,
   "source": [
    "sns.regplot(x='horsepower', y='city_mpg', data=df)\r\n",
    "plt.title('5. Horsepower vs City MPG')\r\n",
    "plt.ylim(0)\r\n",
    "plt.show()"
   ],
   "outputs": [
    {
     "output_type": "display_data",
     "data": {
      "image/png": "[encoded data removed]",
      "text/plain": [
       "<Figure size 432x288 with 1 Axes>"
      ]
     },
     "metadata": {
      "needs_background": "light"
     }
    }
   ],
   "metadata": {}
  },
  {
   "cell_type": "markdown",
   "source": [
    "**Pergunta:** Cite um exemplo de pelo menos os 3 cenários propostos que corroboram a leitura dos dados apresentados, justique sua resposta."
   ],
   "metadata": {}
  },
  {
   "cell_type": "markdown",
   "source": [
    "## 📝Resposta\r\n",
    "\r\n",
    "### 1. Horsepower vs Price\r\n",
    "- O preço médio dos veículos a diesel tende a ser maior que o preço médio dos veículos a gasolina. Porém, os veículos de maior valor são majoritariamente a gasolina.\r\n",
    "### 2. Correlation Heatmap\r\n",
    "- Existe uma forte correlação entre o comprimento e a largura dos veículos, já que em geral seguem a mesma proporção.\r\n",
    "### 3. Horsepower vs Price by Number of Doors\r\n",
    "- A quantidade de portas não impacta diretamente no preço.\r\n",
    "### 4. Horsepower vs Price by Drive Wheels\r\n",
    "- Carros que tem maior preço e potência são em sua maioria de tração traseira\r\n",
    "### 5. Horsepower vs City MPG\r\n",
    "- O rendimento de um veículo em milhas por galão em ambiente urbano é inversamente proporcional a sua potência, ou seja, um veículo mais potente tem um rendimento menor. Essa afirmação também se aplica no rendimento de veículos em rodovias."
   ],
   "metadata": {}
  },
  {
   "cell_type": "markdown",
   "source": [
    "## 2. Preparação dos Dados"
   ],
   "metadata": {}
  },
  {
   "cell_type": "markdown",
   "source": [
    "### Análise de valores inválidos\r\n",
    "\r\n",
    "Faça a análise de dados ausente, dados nulos e dados iguais a 0(zero). **Lembre-se:** Trate esses dados dentro do contexto de análise e justifique suas escolhas.\r\n",
    " "
   ],
   "metadata": {}
  },
  {
   "cell_type": "markdown",
   "source": [
    "**Resposta:**"
   ],
   "metadata": {}
  },
  {
   "cell_type": "code",
   "execution_count": 51,
   "source": [
    "df.info()"
   ],
   "outputs": [
    {
     "output_type": "stream",
     "name": "stdout",
     "text": [
      "<class 'pandas.core.frame.DataFrame'>\n",
      "RangeIndex: 201 entries, 0 to 200\n",
      "Data columns (total 26 columns):\n",
      " #   Column               Non-Null Count  Dtype  \n",
      "---  ------               --------------  -----  \n",
      " 0   symboling            201 non-null    int64  \n",
      " 1   normalized_losses    201 non-null    int64  \n",
      " 2   make                 201 non-null    object \n",
      " 3   fuel_type            201 non-null    object \n",
      " 4   aspiration           201 non-null    object \n",
      " 5   number_of_doors      201 non-null    object \n",
      " 6   body_style           201 non-null    object \n",
      " 7   drive_wheels         201 non-null    object \n",
      " 8   engine_location      201 non-null    object \n",
      " 9   wheel_base           201 non-null    float64\n",
      " 10  length               201 non-null    float64\n",
      " 11  width                201 non-null    float64\n",
      " 12  height               201 non-null    float64\n",
      " 13  curb_weight          201 non-null    int64  \n",
      " 14  engine_type          201 non-null    object \n",
      " 15  number_of_cylinders  201 non-null    object \n",
      " 16  engine_size          201 non-null    int64  \n",
      " 17  fuel_system          201 non-null    object \n",
      " 18  bore                 201 non-null    float64\n",
      " 19  stroke               201 non-null    float64\n",
      " 20  compression_ratio    201 non-null    float64\n",
      " 21  horsepower           201 non-null    int64  \n",
      " 22  peak_rpm             201 non-null    int64  \n",
      " 23  city_mpg             201 non-null    int64  \n",
      " 24  highway_mpg          201 non-null    int64  \n",
      " 25  price                201 non-null    int64  \n",
      "dtypes: float64(7), int64(9), object(10)\n",
      "memory usage: 41.0+ KB\n"
     ]
    }
   ],
   "metadata": {}
  },
  {
   "cell_type": "code",
   "execution_count": 52,
   "source": [
    "#Seu Código aqui...\r\n",
    "df.isnull().sum()"
   ],
   "outputs": [
    {
     "output_type": "execute_result",
     "data": {
      "text/plain": [
       "symboling              0\n",
       "normalized_losses      0\n",
       "make                   0\n",
       "fuel_type              0\n",
       "aspiration             0\n",
       "number_of_doors        0\n",
       "body_style             0\n",
       "drive_wheels           0\n",
       "engine_location        0\n",
       "wheel_base             0\n",
       "length                 0\n",
       "width                  0\n",
       "height                 0\n",
       "curb_weight            0\n",
       "engine_type            0\n",
       "number_of_cylinders    0\n",
       "engine_size            0\n",
       "fuel_system            0\n",
       "bore                   0\n",
       "stroke                 0\n",
       "compression_ratio      0\n",
       "horsepower             0\n",
       "peak_rpm               0\n",
       "city_mpg               0\n",
       "highway_mpg            0\n",
       "price                  0\n",
       "dtype: int64"
      ]
     },
     "metadata": {},
     "execution_count": 52
    }
   ],
   "metadata": {
    "collapsed": true
   }
  },
  {
   "cell_type": "markdown",
   "source": [
    "## 📝Resposta\r\n",
    "- Não há valores nulos ou ausentes em nenhum dos atributos. A coluna symboling apresenta valores \"0\" (zero) pois seu intervalo intervalo varia de -3 a 3, expressando o grau de risco de seguro do veículo, o que é um dado válido."
   ],
   "metadata": {}
  },
  {
   "cell_type": "markdown",
   "source": [
    "### __(BONUS: 1 ponto extra.)__ Análise de Outliers\r\n",
    "\r\n",
    "Realize a análise e o tratamento de **outliers**, como referência para estudo:\r\n",
    "\r\n",
    "* [link1](https://machinelearningmastery.com/model-based-outlier-detection-and-removal-in-python/)\r\n",
    "* [link2](https://towardsdatascience.com/4-machine-learning-techniques-for-outlier-detection-in-python-21e9cfacb81d)\r\n",
    "* [link3](https://minerandodados.com.br/tratando-outliers-python/)\r\n",
    "\r\n",
    "## 📝Resposta"
   ],
   "metadata": {}
  },
  {
   "cell_type": "code",
   "execution_count": null,
   "source": [],
   "outputs": [],
   "metadata": {}
  },
  {
   "cell_type": "markdown",
   "source": [
    "**Pergunta:** Foram localizados outliers? Qual o método de análise adotado? Se existe, como os dados foram tratados (removidos ou mantidos)? "
   ],
   "metadata": {}
  },
  {
   "cell_type": "markdown",
   "source": [
    "**Resposta:**"
   ],
   "metadata": {}
  },
  {
   "cell_type": "markdown",
   "source": [
    "### Tratamento de dados Paramétricos\r\n",
    "\r\n",
    "Faça o tratamento dos atributos não numéricos. Descubra quais são os atributos não numéricos, faça a análise dos valores desses atributos e manipule de forma conveniente para ser interpretado como um dado numérico. "
   ],
   "metadata": {}
  },
  {
   "cell_type": "code",
   "execution_count": 53,
   "source": [
    "# Seu Código aqui...\r\n",
    "import category_encoders as ce\r\n",
    "\r\n",
    "def clean_numeric_data(df):\r\n",
    "    encoder = ce.OneHotEncoder(cols=[\"fuel_type\", \"aspiration\", \"number_of_doors\", \"body_style\",\r\n",
    "                                    \"drive_wheels\", \"engine_location\", \"engine_type\", \"number_of_cylinders\", \"fuel_system\", \"make\"])\r\n",
    "\r\n",
    "    df_cleaned = encoder.fit_transform(df)\r\n",
    "\r\n",
    "    return df_cleaned\r\n",
    "\r\n",
    "df_cleaned = clean_numeric_data(df)\r\n",
    "df_cleaned.head()"
   ],
   "outputs": [
    {
     "output_type": "execute_result",
     "data": {
      "text/html": [
       "<div>\n",
       "<style scoped>\n",
       "    .dataframe tbody tr th:only-of-type {\n",
       "        vertical-align: middle;\n",
       "    }\n",
       "\n",
       "    .dataframe tbody tr th {\n",
       "        vertical-align: top;\n",
       "    }\n",
       "\n",
       "    .dataframe thead th {\n",
       "        text-align: right;\n",
       "    }\n",
       "</style>\n",
       "<table border=\"1\" class=\"dataframe\">\n",
       "  <thead>\n",
       "    <tr style=\"text-align: right;\">\n",
       "      <th></th>\n",
       "      <th>symboling</th>\n",
       "      <th>normalized_losses</th>\n",
       "      <th>make_1</th>\n",
       "      <th>make_2</th>\n",
       "      <th>make_3</th>\n",
       "      <th>make_4</th>\n",
       "      <th>make_5</th>\n",
       "      <th>make_6</th>\n",
       "      <th>make_7</th>\n",
       "      <th>make_8</th>\n",
       "      <th>make_9</th>\n",
       "      <th>make_10</th>\n",
       "      <th>make_11</th>\n",
       "      <th>make_12</th>\n",
       "      <th>make_13</th>\n",
       "      <th>make_14</th>\n",
       "      <th>make_15</th>\n",
       "      <th>make_16</th>\n",
       "      <th>make_17</th>\n",
       "      <th>make_18</th>\n",
       "      <th>make_19</th>\n",
       "      <th>make_20</th>\n",
       "      <th>make_21</th>\n",
       "      <th>make_22</th>\n",
       "      <th>fuel_type_1</th>\n",
       "      <th>fuel_type_2</th>\n",
       "      <th>aspiration_1</th>\n",
       "      <th>aspiration_2</th>\n",
       "      <th>number_of_doors_1</th>\n",
       "      <th>number_of_doors_2</th>\n",
       "      <th>body_style_1</th>\n",
       "      <th>body_style_2</th>\n",
       "      <th>body_style_3</th>\n",
       "      <th>body_style_4</th>\n",
       "      <th>body_style_5</th>\n",
       "      <th>drive_wheels_1</th>\n",
       "      <th>drive_wheels_2</th>\n",
       "      <th>drive_wheels_3</th>\n",
       "      <th>engine_location_1</th>\n",
       "      <th>engine_location_2</th>\n",
       "      <th>wheel_base</th>\n",
       "      <th>length</th>\n",
       "      <th>width</th>\n",
       "      <th>height</th>\n",
       "      <th>curb_weight</th>\n",
       "      <th>engine_type_1</th>\n",
       "      <th>engine_type_2</th>\n",
       "      <th>engine_type_3</th>\n",
       "      <th>engine_type_4</th>\n",
       "      <th>engine_type_5</th>\n",
       "      <th>engine_type_6</th>\n",
       "      <th>number_of_cylinders_1</th>\n",
       "      <th>number_of_cylinders_2</th>\n",
       "      <th>number_of_cylinders_3</th>\n",
       "      <th>number_of_cylinders_4</th>\n",
       "      <th>number_of_cylinders_5</th>\n",
       "      <th>number_of_cylinders_6</th>\n",
       "      <th>number_of_cylinders_7</th>\n",
       "      <th>engine_size</th>\n",
       "      <th>fuel_system_1</th>\n",
       "      <th>fuel_system_2</th>\n",
       "      <th>fuel_system_3</th>\n",
       "      <th>fuel_system_4</th>\n",
       "      <th>fuel_system_5</th>\n",
       "      <th>fuel_system_6</th>\n",
       "      <th>fuel_system_7</th>\n",
       "      <th>fuel_system_8</th>\n",
       "      <th>bore</th>\n",
       "      <th>stroke</th>\n",
       "      <th>compression_ratio</th>\n",
       "      <th>horsepower</th>\n",
       "      <th>peak_rpm</th>\n",
       "      <th>city_mpg</th>\n",
       "      <th>highway_mpg</th>\n",
       "      <th>price</th>\n",
       "    </tr>\n",
       "  </thead>\n",
       "  <tbody>\n",
       "    <tr>\n",
       "      <th>0</th>\n",
       "      <td>3</td>\n",
       "      <td>168</td>\n",
       "      <td>1</td>\n",
       "      <td>0</td>\n",
       "      <td>0</td>\n",
       "      <td>0</td>\n",
       "      <td>0</td>\n",
       "      <td>0</td>\n",
       "      <td>0</td>\n",
       "      <td>0</td>\n",
       "      <td>0</td>\n",
       "      <td>0</td>\n",
       "      <td>0</td>\n",
       "      <td>0</td>\n",
       "      <td>0</td>\n",
       "      <td>0</td>\n",
       "      <td>0</td>\n",
       "      <td>0</td>\n",
       "      <td>0</td>\n",
       "      <td>0</td>\n",
       "      <td>0</td>\n",
       "      <td>0</td>\n",
       "      <td>0</td>\n",
       "      <td>0</td>\n",
       "      <td>1</td>\n",
       "      <td>0</td>\n",
       "      <td>1</td>\n",
       "      <td>0</td>\n",
       "      <td>1</td>\n",
       "      <td>0</td>\n",
       "      <td>1</td>\n",
       "      <td>0</td>\n",
       "      <td>0</td>\n",
       "      <td>0</td>\n",
       "      <td>0</td>\n",
       "      <td>1</td>\n",
       "      <td>0</td>\n",
       "      <td>0</td>\n",
       "      <td>1</td>\n",
       "      <td>0</td>\n",
       "      <td>88.6</td>\n",
       "      <td>168.8</td>\n",
       "      <td>64.1</td>\n",
       "      <td>48.8</td>\n",
       "      <td>2548</td>\n",
       "      <td>1</td>\n",
       "      <td>0</td>\n",
       "      <td>0</td>\n",
       "      <td>0</td>\n",
       "      <td>0</td>\n",
       "      <td>0</td>\n",
       "      <td>1</td>\n",
       "      <td>0</td>\n",
       "      <td>0</td>\n",
       "      <td>0</td>\n",
       "      <td>0</td>\n",
       "      <td>0</td>\n",
       "      <td>0</td>\n",
       "      <td>130</td>\n",
       "      <td>1</td>\n",
       "      <td>0</td>\n",
       "      <td>0</td>\n",
       "      <td>0</td>\n",
       "      <td>0</td>\n",
       "      <td>0</td>\n",
       "      <td>0</td>\n",
       "      <td>0</td>\n",
       "      <td>3.47</td>\n",
       "      <td>2.68</td>\n",
       "      <td>9.0</td>\n",
       "      <td>111</td>\n",
       "      <td>5000</td>\n",
       "      <td>21</td>\n",
       "      <td>27</td>\n",
       "      <td>13495</td>\n",
       "    </tr>\n",
       "    <tr>\n",
       "      <th>1</th>\n",
       "      <td>3</td>\n",
       "      <td>168</td>\n",
       "      <td>1</td>\n",
       "      <td>0</td>\n",
       "      <td>0</td>\n",
       "      <td>0</td>\n",
       "      <td>0</td>\n",
       "      <td>0</td>\n",
       "      <td>0</td>\n",
       "      <td>0</td>\n",
       "      <td>0</td>\n",
       "      <td>0</td>\n",
       "      <td>0</td>\n",
       "      <td>0</td>\n",
       "      <td>0</td>\n",
       "      <td>0</td>\n",
       "      <td>0</td>\n",
       "      <td>0</td>\n",
       "      <td>0</td>\n",
       "      <td>0</td>\n",
       "      <td>0</td>\n",
       "      <td>0</td>\n",
       "      <td>0</td>\n",
       "      <td>0</td>\n",
       "      <td>1</td>\n",
       "      <td>0</td>\n",
       "      <td>1</td>\n",
       "      <td>0</td>\n",
       "      <td>1</td>\n",
       "      <td>0</td>\n",
       "      <td>1</td>\n",
       "      <td>0</td>\n",
       "      <td>0</td>\n",
       "      <td>0</td>\n",
       "      <td>0</td>\n",
       "      <td>1</td>\n",
       "      <td>0</td>\n",
       "      <td>0</td>\n",
       "      <td>1</td>\n",
       "      <td>0</td>\n",
       "      <td>88.6</td>\n",
       "      <td>168.8</td>\n",
       "      <td>64.1</td>\n",
       "      <td>48.8</td>\n",
       "      <td>2548</td>\n",
       "      <td>1</td>\n",
       "      <td>0</td>\n",
       "      <td>0</td>\n",
       "      <td>0</td>\n",
       "      <td>0</td>\n",
       "      <td>0</td>\n",
       "      <td>1</td>\n",
       "      <td>0</td>\n",
       "      <td>0</td>\n",
       "      <td>0</td>\n",
       "      <td>0</td>\n",
       "      <td>0</td>\n",
       "      <td>0</td>\n",
       "      <td>130</td>\n",
       "      <td>1</td>\n",
       "      <td>0</td>\n",
       "      <td>0</td>\n",
       "      <td>0</td>\n",
       "      <td>0</td>\n",
       "      <td>0</td>\n",
       "      <td>0</td>\n",
       "      <td>0</td>\n",
       "      <td>3.47</td>\n",
       "      <td>2.68</td>\n",
       "      <td>9.0</td>\n",
       "      <td>111</td>\n",
       "      <td>5000</td>\n",
       "      <td>21</td>\n",
       "      <td>27</td>\n",
       "      <td>16500</td>\n",
       "    </tr>\n",
       "    <tr>\n",
       "      <th>2</th>\n",
       "      <td>1</td>\n",
       "      <td>168</td>\n",
       "      <td>1</td>\n",
       "      <td>0</td>\n",
       "      <td>0</td>\n",
       "      <td>0</td>\n",
       "      <td>0</td>\n",
       "      <td>0</td>\n",
       "      <td>0</td>\n",
       "      <td>0</td>\n",
       "      <td>0</td>\n",
       "      <td>0</td>\n",
       "      <td>0</td>\n",
       "      <td>0</td>\n",
       "      <td>0</td>\n",
       "      <td>0</td>\n",
       "      <td>0</td>\n",
       "      <td>0</td>\n",
       "      <td>0</td>\n",
       "      <td>0</td>\n",
       "      <td>0</td>\n",
       "      <td>0</td>\n",
       "      <td>0</td>\n",
       "      <td>0</td>\n",
       "      <td>1</td>\n",
       "      <td>0</td>\n",
       "      <td>1</td>\n",
       "      <td>0</td>\n",
       "      <td>1</td>\n",
       "      <td>0</td>\n",
       "      <td>0</td>\n",
       "      <td>1</td>\n",
       "      <td>0</td>\n",
       "      <td>0</td>\n",
       "      <td>0</td>\n",
       "      <td>1</td>\n",
       "      <td>0</td>\n",
       "      <td>0</td>\n",
       "      <td>1</td>\n",
       "      <td>0</td>\n",
       "      <td>94.5</td>\n",
       "      <td>171.2</td>\n",
       "      <td>65.5</td>\n",
       "      <td>52.4</td>\n",
       "      <td>2823</td>\n",
       "      <td>0</td>\n",
       "      <td>1</td>\n",
       "      <td>0</td>\n",
       "      <td>0</td>\n",
       "      <td>0</td>\n",
       "      <td>0</td>\n",
       "      <td>0</td>\n",
       "      <td>1</td>\n",
       "      <td>0</td>\n",
       "      <td>0</td>\n",
       "      <td>0</td>\n",
       "      <td>0</td>\n",
       "      <td>0</td>\n",
       "      <td>152</td>\n",
       "      <td>1</td>\n",
       "      <td>0</td>\n",
       "      <td>0</td>\n",
       "      <td>0</td>\n",
       "      <td>0</td>\n",
       "      <td>0</td>\n",
       "      <td>0</td>\n",
       "      <td>0</td>\n",
       "      <td>2.68</td>\n",
       "      <td>3.47</td>\n",
       "      <td>9.0</td>\n",
       "      <td>154</td>\n",
       "      <td>5000</td>\n",
       "      <td>19</td>\n",
       "      <td>26</td>\n",
       "      <td>16500</td>\n",
       "    </tr>\n",
       "    <tr>\n",
       "      <th>3</th>\n",
       "      <td>2</td>\n",
       "      <td>164</td>\n",
       "      <td>0</td>\n",
       "      <td>1</td>\n",
       "      <td>0</td>\n",
       "      <td>0</td>\n",
       "      <td>0</td>\n",
       "      <td>0</td>\n",
       "      <td>0</td>\n",
       "      <td>0</td>\n",
       "      <td>0</td>\n",
       "      <td>0</td>\n",
       "      <td>0</td>\n",
       "      <td>0</td>\n",
       "      <td>0</td>\n",
       "      <td>0</td>\n",
       "      <td>0</td>\n",
       "      <td>0</td>\n",
       "      <td>0</td>\n",
       "      <td>0</td>\n",
       "      <td>0</td>\n",
       "      <td>0</td>\n",
       "      <td>0</td>\n",
       "      <td>0</td>\n",
       "      <td>1</td>\n",
       "      <td>0</td>\n",
       "      <td>1</td>\n",
       "      <td>0</td>\n",
       "      <td>0</td>\n",
       "      <td>1</td>\n",
       "      <td>0</td>\n",
       "      <td>0</td>\n",
       "      <td>1</td>\n",
       "      <td>0</td>\n",
       "      <td>0</td>\n",
       "      <td>0</td>\n",
       "      <td>1</td>\n",
       "      <td>0</td>\n",
       "      <td>1</td>\n",
       "      <td>0</td>\n",
       "      <td>99.8</td>\n",
       "      <td>176.6</td>\n",
       "      <td>66.2</td>\n",
       "      <td>54.3</td>\n",
       "      <td>2337</td>\n",
       "      <td>0</td>\n",
       "      <td>0</td>\n",
       "      <td>1</td>\n",
       "      <td>0</td>\n",
       "      <td>0</td>\n",
       "      <td>0</td>\n",
       "      <td>1</td>\n",
       "      <td>0</td>\n",
       "      <td>0</td>\n",
       "      <td>0</td>\n",
       "      <td>0</td>\n",
       "      <td>0</td>\n",
       "      <td>0</td>\n",
       "      <td>109</td>\n",
       "      <td>1</td>\n",
       "      <td>0</td>\n",
       "      <td>0</td>\n",
       "      <td>0</td>\n",
       "      <td>0</td>\n",
       "      <td>0</td>\n",
       "      <td>0</td>\n",
       "      <td>0</td>\n",
       "      <td>3.19</td>\n",
       "      <td>3.40</td>\n",
       "      <td>10.0</td>\n",
       "      <td>102</td>\n",
       "      <td>5500</td>\n",
       "      <td>24</td>\n",
       "      <td>30</td>\n",
       "      <td>13950</td>\n",
       "    </tr>\n",
       "    <tr>\n",
       "      <th>4</th>\n",
       "      <td>2</td>\n",
       "      <td>164</td>\n",
       "      <td>0</td>\n",
       "      <td>1</td>\n",
       "      <td>0</td>\n",
       "      <td>0</td>\n",
       "      <td>0</td>\n",
       "      <td>0</td>\n",
       "      <td>0</td>\n",
       "      <td>0</td>\n",
       "      <td>0</td>\n",
       "      <td>0</td>\n",
       "      <td>0</td>\n",
       "      <td>0</td>\n",
       "      <td>0</td>\n",
       "      <td>0</td>\n",
       "      <td>0</td>\n",
       "      <td>0</td>\n",
       "      <td>0</td>\n",
       "      <td>0</td>\n",
       "      <td>0</td>\n",
       "      <td>0</td>\n",
       "      <td>0</td>\n",
       "      <td>0</td>\n",
       "      <td>1</td>\n",
       "      <td>0</td>\n",
       "      <td>1</td>\n",
       "      <td>0</td>\n",
       "      <td>0</td>\n",
       "      <td>1</td>\n",
       "      <td>0</td>\n",
       "      <td>0</td>\n",
       "      <td>1</td>\n",
       "      <td>0</td>\n",
       "      <td>0</td>\n",
       "      <td>0</td>\n",
       "      <td>0</td>\n",
       "      <td>1</td>\n",
       "      <td>1</td>\n",
       "      <td>0</td>\n",
       "      <td>99.4</td>\n",
       "      <td>176.6</td>\n",
       "      <td>66.4</td>\n",
       "      <td>54.3</td>\n",
       "      <td>2824</td>\n",
       "      <td>0</td>\n",
       "      <td>0</td>\n",
       "      <td>1</td>\n",
       "      <td>0</td>\n",
       "      <td>0</td>\n",
       "      <td>0</td>\n",
       "      <td>0</td>\n",
       "      <td>0</td>\n",
       "      <td>1</td>\n",
       "      <td>0</td>\n",
       "      <td>0</td>\n",
       "      <td>0</td>\n",
       "      <td>0</td>\n",
       "      <td>136</td>\n",
       "      <td>1</td>\n",
       "      <td>0</td>\n",
       "      <td>0</td>\n",
       "      <td>0</td>\n",
       "      <td>0</td>\n",
       "      <td>0</td>\n",
       "      <td>0</td>\n",
       "      <td>0</td>\n",
       "      <td>3.19</td>\n",
       "      <td>3.40</td>\n",
       "      <td>8.0</td>\n",
       "      <td>115</td>\n",
       "      <td>5500</td>\n",
       "      <td>18</td>\n",
       "      <td>22</td>\n",
       "      <td>17450</td>\n",
       "    </tr>\n",
       "  </tbody>\n",
       "</table>\n",
       "</div>"
      ],
      "text/plain": [
       "   symboling  normalized_losses  make_1  make_2  make_3  make_4  make_5  \\\n",
       "0          3                168       1       0       0       0       0   \n",
       "1          3                168       1       0       0       0       0   \n",
       "2          1                168       1       0       0       0       0   \n",
       "3          2                164       0       1       0       0       0   \n",
       "4          2                164       0       1       0       0       0   \n",
       "\n",
       "   make_6  make_7  make_8  make_9  make_10  make_11  make_12  make_13  \\\n",
       "0       0       0       0       0        0        0        0        0   \n",
       "1       0       0       0       0        0        0        0        0   \n",
       "2       0       0       0       0        0        0        0        0   \n",
       "3       0       0       0       0        0        0        0        0   \n",
       "4       0       0       0       0        0        0        0        0   \n",
       "\n",
       "   make_14  make_15  make_16  make_17  make_18  make_19  make_20  make_21  \\\n",
       "0        0        0        0        0        0        0        0        0   \n",
       "1        0        0        0        0        0        0        0        0   \n",
       "2        0        0        0        0        0        0        0        0   \n",
       "3        0        0        0        0        0        0        0        0   \n",
       "4        0        0        0        0        0        0        0        0   \n",
       "\n",
       "   make_22  fuel_type_1  fuel_type_2  aspiration_1  aspiration_2  \\\n",
       "0        0            1            0             1             0   \n",
       "1        0            1            0             1             0   \n",
       "2        0            1            0             1             0   \n",
       "3        0            1            0             1             0   \n",
       "4        0            1            0             1             0   \n",
       "\n",
       "   number_of_doors_1  number_of_doors_2  body_style_1  body_style_2  \\\n",
       "0                  1                  0             1             0   \n",
       "1                  1                  0             1             0   \n",
       "2                  1                  0             0             1   \n",
       "3                  0                  1             0             0   \n",
       "4                  0                  1             0             0   \n",
       "\n",
       "   body_style_3  body_style_4  body_style_5  drive_wheels_1  drive_wheels_2  \\\n",
       "0             0             0             0               1               0   \n",
       "1             0             0             0               1               0   \n",
       "2             0             0             0               1               0   \n",
       "3             1             0             0               0               1   \n",
       "4             1             0             0               0               0   \n",
       "\n",
       "   drive_wheels_3  engine_location_1  engine_location_2  wheel_base  length  \\\n",
       "0               0                  1                  0        88.6   168.8   \n",
       "1               0                  1                  0        88.6   168.8   \n",
       "2               0                  1                  0        94.5   171.2   \n",
       "3               0                  1                  0        99.8   176.6   \n",
       "4               1                  1                  0        99.4   176.6   \n",
       "\n",
       "   width  height  curb_weight  engine_type_1  engine_type_2  engine_type_3  \\\n",
       "0   64.1    48.8         2548              1              0              0   \n",
       "1   64.1    48.8         2548              1              0              0   \n",
       "2   65.5    52.4         2823              0              1              0   \n",
       "3   66.2    54.3         2337              0              0              1   \n",
       "4   66.4    54.3         2824              0              0              1   \n",
       "\n",
       "   engine_type_4  engine_type_5  engine_type_6  number_of_cylinders_1  \\\n",
       "0              0              0              0                      1   \n",
       "1              0              0              0                      1   \n",
       "2              0              0              0                      0   \n",
       "3              0              0              0                      1   \n",
       "4              0              0              0                      0   \n",
       "\n",
       "   number_of_cylinders_2  number_of_cylinders_3  number_of_cylinders_4  \\\n",
       "0                      0                      0                      0   \n",
       "1                      0                      0                      0   \n",
       "2                      1                      0                      0   \n",
       "3                      0                      0                      0   \n",
       "4                      0                      1                      0   \n",
       "\n",
       "   number_of_cylinders_5  number_of_cylinders_6  number_of_cylinders_7  \\\n",
       "0                      0                      0                      0   \n",
       "1                      0                      0                      0   \n",
       "2                      0                      0                      0   \n",
       "3                      0                      0                      0   \n",
       "4                      0                      0                      0   \n",
       "\n",
       "   engine_size  fuel_system_1  fuel_system_2  fuel_system_3  fuel_system_4  \\\n",
       "0          130              1              0              0              0   \n",
       "1          130              1              0              0              0   \n",
       "2          152              1              0              0              0   \n",
       "3          109              1              0              0              0   \n",
       "4          136              1              0              0              0   \n",
       "\n",
       "   fuel_system_5  fuel_system_6  fuel_system_7  fuel_system_8  bore  stroke  \\\n",
       "0              0              0              0              0  3.47    2.68   \n",
       "1              0              0              0              0  3.47    2.68   \n",
       "2              0              0              0              0  2.68    3.47   \n",
       "3              0              0              0              0  3.19    3.40   \n",
       "4              0              0              0              0  3.19    3.40   \n",
       "\n",
       "   compression_ratio  horsepower  peak_rpm  city_mpg  highway_mpg  price  \n",
       "0                9.0         111      5000        21           27  13495  \n",
       "1                9.0         111      5000        21           27  16500  \n",
       "2                9.0         154      5000        19           26  16500  \n",
       "3               10.0         102      5500        24           30  13950  \n",
       "4                8.0         115      5500        18           22  17450  "
      ]
     },
     "metadata": {},
     "execution_count": 53
    }
   ],
   "metadata": {
    "collapsed": true
   }
  },
  {
   "cell_type": "code",
   "execution_count": 54,
   "source": [
    "# Vamos fazer um drop da coluna de interesse de estudo `income`. (y)\r\n",
    "y = df_cleaned['price']\r\n",
    "X = df_cleaned.drop(['price'], axis=1)"
   ],
   "outputs": [],
   "metadata": {}
  },
  {
   "cell_type": "code",
   "execution_count": 55,
   "source": [
    "## Faça a normalização dos dados\r\n",
    "## escolha um dos métodos....\r\n",
    "from sklearn.preprocessing import MinMaxScaler\r\n",
    "from sklearn.preprocessing import minmax_scale\r\n",
    "from sklearn.preprocessing import MaxAbsScaler\r\n",
    "from sklearn.preprocessing import StandardScaler\r\n",
    "from sklearn.preprocessing import RobustScaler\r\n",
    "from sklearn.preprocessing import Normalizer\r\n",
    "from sklearn.preprocessing import QuantileTransformer\r\n",
    "from sklearn.preprocessing import PowerTransformer\r\n",
    "#Separar os dados em treino e teste\r\n",
    "from sklearn.model_selection import train_test_split\r\n",
    "\r\n",
    "scaler = MinMaxScaler(feature_range=(0,1))\r\n",
    "\r\n",
    "scaled_data = scaler.fit_transform(X)\r\n",
    "\r\n",
    "X = pd.DataFrame(scaled_data, columns=df_cleaned.columns[:-1])\r\n",
    "\r\n",
    "X_train, X_test, y_train, y_test = train_test_split(X, y, test_size=0.2, random_state=42)\r\n",
    "X_train.shape, X_test.shape, y_train.shape, y_test.shape"
   ],
   "outputs": [
    {
     "output_type": "execute_result",
     "data": {
      "text/plain": [
       "((160, 74), (41, 74), (160,), (41,))"
      ]
     },
     "metadata": {},
     "execution_count": 55
    }
   ],
   "metadata": {}
  },
  {
   "cell_type": "code",
   "execution_count": 56,
   "source": [
    "def gaussian_nb():\r\n",
    "    from sklearn.naive_bayes import GaussianNB\r\n",
    "\r\n",
    "    gnb = GaussianNB()\r\n",
    "\r\n",
    "    gnb.fit(X_train, y_train)\r\n",
    "    y_pred = gnb.predict(X_test)\r\n",
    "    return y_pred\r\n",
    "\r\n",
    "print(gaussian_nb())"
   ],
   "outputs": [
    {
     "output_type": "stream",
     "name": "stdout",
     "text": [
      "[ 7799 20970  6529  7738 15040  5572 45400 11248 16558 32250 25552 13845\n",
      " 11549  6189  8495  7995 10595  7738  8189 40960 32528 30760  7198  6849\n",
      " 25552 18344  9279 25552 32528  7957 16925  5572 13645  6189  8778 16630\n",
      "  5118  7775  8449  9959 14869]\n"
     ]
    }
   ],
   "metadata": {}
  },
  {
   "cell_type": "code",
   "execution_count": 57,
   "source": [
    "def linear_regression():\r\n",
    "    from sklearn.linear_model import LinearRegression\r\n",
    "    from sklearn.metrics import mean_squared_error\r\n",
    "    from sklearn.metrics import r2_score\r\n",
    "    \r\n",
    "    reg = LinearRegression()\r\n",
    "    reg.fit(X_train, y_train)\r\n",
    "    \r\n",
    "    y_pred = reg.predict(X_test)\r\n",
    "    \r\n",
    "    print('Coefficients: \\n', reg.coef_)\r\n",
    "    print('Mean squared error: %.2f' % mean_squared_error(y_test, y_pred))\r\n",
    "    print('R2 score: %.2f' % r2_score(y_test, y_pred))\r\n",
    "    \r\n",
    "    return reg\r\n",
    "\r\n",
    "linear_regression()"
   ],
   "outputs": [
    {
     "output_type": "stream",
     "name": "stdout",
     "text": [
      "Coefficients: \n",
      " [-4.50730098e+02 -8.40199404e+02 -4.57140216e+15 -4.57140216e+15\n",
      " -4.57140216e+15 -4.57140216e+15 -4.57140216e+15 -4.57140216e+15\n",
      " -4.57140216e+15 -4.57140216e+15 -4.57140216e+15 -4.57140216e+15\n",
      " -4.57140216e+15 -4.57140216e+15 -4.57140216e+15  7.15614170e+15\n",
      " -4.57140216e+15 -4.57140216e+15 -4.57140216e+15 -4.57140216e+15\n",
      "  2.22264459e+16 -4.57140216e+15 -4.57140216e+15 -4.57140216e+15\n",
      " -1.26942734e+16 -3.92516087e+15 -2.70653119e+16 -2.70653119e+16\n",
      "  3.55747144e+16  3.55747144e+16 -8.52739950e+15 -8.52739950e+15\n",
      " -8.52739950e+15 -8.52739950e+15 -8.52739950e+15 -9.60940309e+15\n",
      " -9.60940309e+15 -9.60940309e+15 -1.31152561e+16  1.36825919e+16\n",
      "  6.92512500e+03 -7.54600000e+03  5.93000000e+03 -3.18800000e+03\n",
      "  1.72460000e+04 -1.00722912e+16 -1.00722912e+16 -1.00722912e+16\n",
      " -2.17998351e+16 -5.00185640e+15 -3.68701392e+16 -4.41660677e+15\n",
      " -4.41660677e+15 -4.41660677e+15  7.31093710e+15 -4.41660677e+15\n",
      " -3.12043724e+15 -4.41660677e+15  6.76300000e+03  1.30243660e+15\n",
      "  1.30243660e+15  1.30243660e+15  1.30243660e+15  1.30243660e+15\n",
      " -5.06416774e+15 -7.46667593e+15  1.30243660e+15 -2.97400000e+03\n",
      " -9.78000000e+02 -1.08862500e+04 -1.39600000e+03  2.52000000e+03\n",
      " -2.27000000e+03  3.67900000e+03]\n",
      "Mean squared error: 988625629623247045325729300480.00\n",
      "R2 score: -8080520676708636950528.00\n"
     ]
    },
    {
     "output_type": "execute_result",
     "data": {
      "text/plain": [
       "LinearRegression()"
      ]
     },
     "metadata": {},
     "execution_count": 57
    }
   ],
   "metadata": {}
  },
  {
   "cell_type": "code",
   "execution_count": 58,
   "source": [
    "sns.set(style=\"whitegrid\", color_codes=True)\r\n",
    "sns.boxplot( data=df)"
   ],
   "outputs": [
    {
     "output_type": "execute_result",
     "data": {
      "text/plain": [
       "<AxesSubplot:>"
      ]
     },
     "metadata": {},
     "execution_count": 58
    },
    {
     "output_type": "display_data",
     "data": {
      "image/png": "[encoded data removed]",
      "text/plain": [
       "<Figure size 432x288 with 1 Axes>"
      ]
     },
     "metadata": {}
    }
   ],
   "metadata": {}
  },
  {
   "cell_type": "markdown",
   "source": [
    "**Pergunta:** Quais são os atributos não numéricos? Qual o método de análise adotado? Por que esse essa escolha? "
   ],
   "metadata": {}
  },
  {
   "cell_type": "markdown",
   "source": [
    "**Resposta:**"
   ],
   "metadata": {}
  },
  {
   "cell_type": "markdown",
   "source": [
    "## 3. Desenvolvimento do Modelo"
   ],
   "metadata": {}
  },
  {
   "cell_type": "markdown",
   "source": [
    "**Pergunta:** O conjunto de dados indica a aplicação de qual modelo de aprendizagem de maquina para a determinação do preço de carro? Por que ? "
   ],
   "metadata": {}
  },
  {
   "cell_type": "markdown",
   "source": [
    "## 📝Resposta\r\n",
    "\r\n",
    "    [ ] Aprendizado por reforço\r\n",
    "    [x] Aprendizado supervisionado\r\n",
    "    [ ] Aprendizado não supervisionado"
   ],
   "metadata": {}
  },
  {
   "cell_type": "markdown",
   "source": [
    "**Pergunta:** Qual a técnica sugerida para este projeto?"
   ],
   "metadata": {}
  },
  {
   "cell_type": "markdown",
   "source": [
    "## 📝Resposta\r\n",
    "\r\n",
    "    [x] Regressão\r\n",
    "    [ ] Classificação\r\n",
    "    [ ] Clusterização"
   ],
   "metadata": {}
  },
  {
   "cell_type": "markdown",
   "source": [
    "**Pergunta:** Escolha 3 modelos de algoritmos para testar a performance de cada um deles."
   ],
   "metadata": {}
  },
  {
   "cell_type": "markdown",
   "source": [
    "## 📝Resposta\r\n",
    "\r\n",
    "1. Random Forest Regressor\r\n",
    "2. Linear Regression \r\n",
    "3. Decision Tree Regressor {{Perguntar se esse está correto}}\r\n",
    "3. {{Tirar dúvida com o professor}}"
   ],
   "metadata": {}
  },
  {
   "cell_type": "markdown",
   "source": [
    "**Pergunta:** Explique como cada algoritmo funciona.\r\n",
    "\r\n"
   ],
   "metadata": {}
  },
  {
   "cell_type": "markdown",
   "source": [
    "## 📝Resposta\r\n",
    "\r\n",
    "1. Random Forest Regressor \r\n",
    "-\r\n",
    "2. Linear Regression\r\n",
    "-\r\n",
    "3. Decision Tree Regressor\r\n",
    "- As árvores de decisão são usadas para ajustar uma curva senoidal com observação adicional de ruído. Como resultado, ele aprende regressões lineares locais que se aproximam da curva seno."
   ],
   "metadata": {}
  },
  {
   "cell_type": "markdown",
   "source": [
    "Crie um subset dos dados apenas com os atributos que serão utilizados para o treinameno e teste do modelo."
   ],
   "metadata": {}
  },
  {
   "cell_type": "code",
   "execution_count": 59,
   "source": [
    "#Seu Código aqui...\r\n",
    "X = df_cleaned.drop(['price'], axis=1)\r\n",
    "Y = df_cleaned['price']"
   ],
   "outputs": [],
   "metadata": {
    "collapsed": true
   }
  },
  {
   "cell_type": "markdown",
   "source": [
    "Divida o subset em conjunto de treinamento e teste."
   ],
   "metadata": {}
  },
  {
   "cell_type": "code",
   "execution_count": 60,
   "source": [
    "from sklearn.model_selection import train_test_split\r\n",
    "\r\n",
    "X_train, X_test, y_train, y_test = train_test_split(X, Y, test_size=0.3, random_state=1)"
   ],
   "outputs": [],
   "metadata": {
    "collapsed": true
   }
  },
  {
   "cell_type": "markdown",
   "source": [
    "## 4. Treinamento e teste do modelo\r\n",
    "\r\n",
    "Faça o treinamento e teste de dos 3 algoritmos escolhidos. Para cada um dos modelos utilize uma das métricas: R2-score, RMSE e MAE para avaliar a performance dos medelos. Utilize a média do obtido da validação cruzada para um kfold de 5."
   ],
   "metadata": {}
  },
  {
   "cell_type": "markdown",
   "source": [
    "### Algoritmo 1"
   ],
   "metadata": {}
  },
  {
   "cell_type": "code",
   "execution_count": 61,
   "source": [
    "from sklearn.model_selection import cross_val_score\r\n",
    "from sklearn.model_selection import KFold\r\n",
    "from sklearn.linear_model import LinearRegression\r\n",
    "from sklearn.metrics import mean_absolute_error\r\n",
    "from sklearn.metrics import mean_squared_error\r\n",
    "from sklearn.metrics import r2_score\r\n",
    "\r\n",
    "crossvalidation = KFold(n_splits=5, shuffle=True, random_state=7)\r\n",
    "\r\n",
    "linearRegression = LinearRegression()\r\n",
    "linearRegression.fit(X_train, y_train)\r\n",
    "\r\n",
    "predict = linearRegression.predict(X_test)\r\n",
    "print(\"R2-score: \", r2_score(y_test, predict))\r\n",
    "print('MAE: ', mean_absolute_error(y_test, predict))\r\n",
    "print('RMSE: ', np.sqrt(mean_squared_error(y_test, predict)))\r\n",
    "\r\n",
    "scores = cross_val_score(linearRegression, X, y,\r\n",
    "                         cv=crossvalidation, scoring='r2')\r\n",
    "print(\"R2-score médio com KFold: \", scores.mean())"
   ],
   "outputs": [
    {
     "output_type": "stream",
     "name": "stdout",
     "text": [
      "R2-score:  0.8701131808376099\n",
      "MAE:  2003.388581772015\n",
      "RMSE:  2539.080472075106\n",
      "R2-score médio com KFold:  0.8794613157151125\n"
     ]
    }
   ],
   "metadata": {
    "collapsed": true
   }
  },
  {
   "cell_type": "markdown",
   "source": [
    "### Algoritmo 2"
   ],
   "metadata": {}
  },
  {
   "cell_type": "code",
   "execution_count": 62,
   "source": [
    "from sklearn.ensemble import RandomForestRegressor\r\n",
    "\r\n",
    "randomForestRegressor = RandomForestRegressor()\r\n",
    "randomForestRegressor.fit(X_train, y_train)\r\n",
    "\r\n",
    "predict = randomForestRegressor.predict(X_test)\r\n",
    "print(\"R2-score: \", r2_score(y_test, predict))\r\n",
    "print('RMSE: ', np.sqrt(mean_squared_error(y_test, predict)))\r\n",
    "print('MAE: ', mean_absolute_error(y_test, predict))\r\n",
    "\r\n",
    "scores = cross_val_score(randomForestRegressor, X, Y,\r\n",
    "                         cv=crossvalidation, scoring='r2')\r\n",
    "print(\"R2-score médio com KFold: \", scores.mean())\r\n"
   ],
   "outputs": [
    {
     "output_type": "stream",
     "name": "stdout",
     "text": [
      "R2-score:  0.889643305965392\n",
      "RMSE:  2340.417116183692\n",
      "MAE:  1488.9513743169402\n",
      "R2-score médio com KFold:  0.9225420229630211\n"
     ]
    }
   ],
   "metadata": {
    "collapsed": true
   }
  },
  {
   "cell_type": "markdown",
   "source": [
    "### Algoritmo 3"
   ],
   "metadata": {}
  },
  {
   "cell_type": "code",
   "execution_count": 63,
   "source": [
    "from sklearn.ensemble import GradientBoostingRegressor\r\n",
    "\r\n",
    "gradientBoostingRegressor = GradientBoostingRegressor()\r\n",
    "gradientBoostingRegressor.fit(X_train, y_train)\r\n",
    "\r\n",
    "predict = gradientBoostingRegressor.predict(X_test)\r\n",
    "print(\"R2-score: \", r2_score(y_test, predict))\r\n",
    "print('RMSE: ', np.sqrt(mean_squared_error(y_test, predict)))\r\n",
    "print('MAE: ', mean_absolute_error(y_test, predict))\r\n",
    "\r\n",
    "scores = cross_val_score(gradientBoostingRegressor, X, Y,\r\n",
    "                         cv=crossvalidation, scoring='r2')\r\n",
    "print(\"R2-score médio com KFold: \", scores.mean())"
   ],
   "outputs": [
    {
     "output_type": "stream",
     "name": "stdout",
     "text": [
      "R2-score:  0.8728292097457747\n",
      "RMSE:  2512.3932024499113\n",
      "MAE:  1608.3924185460255\n",
      "R2-score médio com KFold:  0.9222404714331889\n"
     ]
    }
   ],
   "metadata": {
    "collapsed": true
   }
  },
  {
   "cell_type": "code",
   "execution_count": 64,
   "source": [
    "from sklearn.linear_model import Ridge\r\n",
    "\r\n",
    "rigbe = Ridge()\r\n",
    "rigbe.fit(X_train, y_train)\r\n",
    "\r\n",
    "predict = rigbe.predict(X_test)\r\n",
    "print(\"R2-score: \", r2_score(y_test, predict))\r\n",
    "print('RMSE: ', np.sqrt(mean_squared_error(y_test, predict)))\r\n",
    "print('MAE: ', mean_absolute_error(y_test, predict))\r\n",
    "\r\n",
    "scores = cross_val_score(rigbe, X, Y,\r\n",
    "                         cv=crossvalidation, scoring='r2')\r\n",
    "print(\"R2-score médio com KFold: \", scores.mean())"
   ],
   "outputs": [
    {
     "output_type": "stream",
     "name": "stdout",
     "text": [
      "R2-score:  0.911444401495142\n",
      "RMSE:  2096.5341260710143\n",
      "MAE:  1678.188908429422\n",
      "R2-score médio com KFold:  0.9187794845554063\n"
     ]
    }
   ],
   "metadata": {}
  },
  {
   "cell_type": "code",
   "execution_count": 65,
   "source": [
    "from IPython.display import Image\r\n",
    "print(\"Qual modelo usamos? Rigby\")\r\n",
    "Image(url=\"https://img2.gratispng.com/20180730/jhw/kisspng-regular-show-mordecai-and-rigby-in-8-bit-land-reg-regular-show-mordecai-and-rigby-5b5ed23e294a69.5983512315329408621691.jpg\",\r\n",
    "      width=400)"
   ],
   "outputs": [
    {
     "output_type": "stream",
     "name": "stdout",
     "text": [
      "Qual modelo usamos? Rigby\n"
     ]
    },
    {
     "output_type": "execute_result",
     "data": {
      "text/html": [
       "<img src=\"https://img2.gratispng.com/20180730/jhw/kisspng-regular-show-mordecai-and-rigby-in-8-bit-land-reg-regular-show-mordecai-and-rigby-5b5ed23e294a69.5983512315329408621691.jpg\" width=\"400\"/>"
      ],
      "text/plain": [
       "<IPython.core.display.Image object>"
      ]
     },
     "metadata": {},
     "execution_count": 65
    }
   ],
   "metadata": {}
  },
  {
   "cell_type": "markdown",
   "source": [
    "**Pergunta:** Qual foi a performance de cada algoritmo? Explique os resultados e detalhe como a característica de cada algoritmo influenciou no resultado.\r\n",
    "\r\n",
    "## 📝Resposta"
   ],
   "metadata": {}
  },
  {
   "cell_type": "markdown",
   "source": [
    "## 5. Validação e Otimização do Modelo\r\n",
    "\r\n",
    "Faça a otimização dos modelos, tunning dos hiperparametros, utilize técinicas como **RandomSearchCV** ou **GridSearchCV**."
   ],
   "metadata": {}
  },
  {
   "cell_type": "markdown",
   "source": [
    "**Pergunta:** Qual a técnica escolhida? Por que?\r\n",
    "\r\n",
    "## 📝Resposta"
   ],
   "metadata": {}
  },
  {
   "cell_type": "markdown",
   "source": [
    "### Algoritmo 1"
   ],
   "metadata": {}
  },
  {
   "cell_type": "code",
   "execution_count": 66,
   "source": [
    "#Seu Código aqui...\r\n",
    "\r\n",
    "\r\n"
   ],
   "outputs": [],
   "metadata": {
    "collapsed": true
   }
  },
  {
   "cell_type": "markdown",
   "source": [
    "### Algoritmo 2"
   ],
   "metadata": {}
  },
  {
   "cell_type": "code",
   "execution_count": 67,
   "source": [
    "#Seu Código aqui...\r\n",
    "\r\n"
   ],
   "outputs": [],
   "metadata": {
    "collapsed": true
   }
  },
  {
   "cell_type": "markdown",
   "source": [
    "### Algoritmo 3"
   ],
   "metadata": {}
  },
  {
   "cell_type": "code",
   "execution_count": 68,
   "source": [
    "#Seu Código aqui...\r\n"
   ],
   "outputs": [],
   "metadata": {
    "collapsed": true
   }
  },
  {
   "cell_type": "markdown",
   "source": [
    "Sumarize na tabela abaixo os indicadores para cada um dos preditores e suas respectivas pontuações para os conjuntos de dados de treino e de testes"
   ],
   "metadata": {}
  },
  {
   "cell_type": "markdown",
   "source": [
    "**Resposta:**\n",
    "\n",
    "|                     | algoritmo1 | algoritmo2 | algoritmo3 |\n",
    "|:---------------------|:------------------:|:-----------------------------:|:-----------------:|\n",
    "| treino |      X           |      X                       |   X              |\n",
    "| teste  |      X            |      X                       |   X              |\n"
   ],
   "metadata": {}
  },
  {
   "cell_type": "markdown",
   "source": [
    "**Pergunta:** Qual dos algoritmos obteve os melhores resultados? Quais caracaterísticas deste algoritmo podem ajudar a justificar tal resultado?\n",
    "\n",
    "**Resposta:**"
   ],
   "metadata": {}
  },
  {
   "cell_type": "markdown",
   "source": [
    "### __(BONUS: 1 ponto extra.)__ Implementação do algoritmo otimizado\n",
    "\n",
    "Configure o modelo selecionado com os parâmetros otimizados obtidos anteriormente."
   ],
   "metadata": {}
  },
  {
   "cell_type": "code",
   "execution_count": 69,
   "source": [
    "#Seu Código aqui...\r\n",
    "\r\n"
   ],
   "outputs": [],
   "metadata": {
    "collapsed": true
   }
  },
  {
   "cell_type": "markdown",
   "source": [
    "### Modelo de produção: Teste com novos dados\n",
    "\n",
    "Utilize 3 exemplos criados por você mesmo para obter um valor de venda de veículo. Defina o teste para um resultado baixo, médio e alto do preço do carro."
   ],
   "metadata": {}
  },
  {
   "cell_type": "code",
   "execution_count": 70,
   "source": [
    "#Seu Código aqui...\r\n",
    "\r\n"
   ],
   "outputs": [],
   "metadata": {
    "collapsed": true
   }
  },
  {
   "cell_type": "markdown",
   "source": [
    "**Pergunta:** Qual foi o resultado obtido? O resultado está coerente com o esperado?\n",
    "\n",
    "**Resposta:**"
   ],
   "metadata": {}
  },
  {
   "cell_type": "markdown",
   "source": [
    "## 6. Conclusões finais\n",
    "\n",
    "Ufa!!... Chegamos ao final deste projeto. Parabéns! De forma simplificada e completa passamos por todas as etapas de aprendizado de maquina. Outras etapas podem ser adicionadas no tratamento dos dados e desenvolvimento do modelo."
   ],
   "metadata": {}
  },
  {
   "cell_type": "markdown",
   "source": [
    "**Pergunta:**: O modelo desenvolvido obteve um resultado satisfatório? Justifique:\r\n",
    "\r\n",
    "## 📝Resposta"
   ],
   "metadata": {}
  },
  {
   "cell_type": "markdown",
   "source": [
    "**Pergunta:**: O que faria diferente para melhorar resultado obtido? Justifique:\n",
    "\n",
    "**Resposta**:"
   ],
   "metadata": {
    "collapsed": true
   }
  },
  {
   "cell_type": "markdown",
   "source": [
    "**Pergunta:**: As etapas de desenvolvimento se aplicam para um problema de classificação? Justifique:\n",
    "\n",
    "**Resposta**:"
   ],
   "metadata": {}
  }
 ],
 "metadata": {
  "kernelspec": {
   "name": "python3",
   "display_name": "Python 3.7.0 64-bit"
  },
  "language_info": {
   "codemirror_mode": {
    "name": "ipython",
    "version": 3
   },
   "file_extension": ".py",
   "mimetype": "text/x-python",
   "name": "python",
   "nbconvert_exporter": "python",
   "pygments_lexer": "ipython3",
   "version": "3.7.0"
  },
  "interpreter": {
   "hash": "5f7a2d2074bca003b23aa43f9d37ee72bf0bfcade17f1cdebb33b3aea67c0548"
  }
 },
 "nbformat": 4,
 "nbformat_minor": 2
}